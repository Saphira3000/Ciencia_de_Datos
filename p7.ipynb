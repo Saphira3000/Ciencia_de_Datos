{
 "cells": [
  {
   "cell_type": "markdown",
   "metadata": {},
   "source": [
    "# Práctica 7: Regresión múltiple con statsmodels\n",
    "## Gabriela Sánchez Y.\n",
    "\n",
    "El objetivo de la práctica es extender el análisis realizado previamente, ahora se analizan modelos lineales con más de un factor. La variable de interés es la cantidad de incidentes reportados de violencia.\n",
    "\n",
    "Se revisa primero el efecto combinado que tiene el mes y el horario de los incidentes."
   ]
  },
  {
   "cell_type": "code",
   "execution_count": 227,
   "metadata": {},
   "outputs": [],
   "source": [
    "import matplotlib.pyplot as plt\n",
    "import statsmodels.api as sm\n",
    "from numpy import isnan\n",
    "import pandas as pd\n",
    "import ssl\n",
    "\n",
    "if getattr(ssl, '_create_unverified_context', None):\n",
    "    ssl._create_default_https_context = ssl._create_unverified_context\n",
    "\n",
    "datos = pd.read_csv(\"/home/saphira/Desktop/datos/vf_p5.csv\")\n",
    "datos.hora.replace(to_replace = dict(M = 0, T = 1, N = 2), inplace = True)\n",
    "datos['cuantos'] = 1"
   ]
  },
  {
   "cell_type": "code",
   "execution_count": 228,
   "metadata": {},
   "outputs": [
    {
     "name": "stdout",
     "output_type": "stream",
     "text": [
      "                            OLS Regression Results                            \n",
      "==============================================================================\n",
      "Dep. Variable:                cuantos   R-squared:                       0.450\n",
      "Model:                            OLS   Adj. R-squared:                  0.417\n",
      "Method:                 Least Squares   F-statistic:                     13.50\n",
      "Date:                Mon, 25 Mar 2019   Prob (F-statistic):           5.19e-05\n",
      "Time:                        02:21:01   Log-Likelihood:                -214.24\n",
      "No. Observations:                  36   AIC:                             434.5\n",
      "Df Residuals:                      33   BIC:                             439.2\n",
      "Df Model:                           2                                         \n",
      "Covariance Type:            nonrobust                                         \n",
      "==============================================================================\n",
      "                 coef    std err          t      P>|t|      [0.025      0.975]\n",
      "------------------------------------------------------------------------------\n",
      "const        339.7992     39.790      8.540      0.000     258.847     420.752\n",
      "mes            2.0629      4.688      0.440      0.663      -7.475      11.601\n",
      "hora         102.6250     19.820      5.178      0.000      62.301     142.949\n",
      "==============================================================================\n",
      "Omnibus:                        0.461   Durbin-Watson:                   0.759\n",
      "Prob(Omnibus):                  0.794   Jarque-Bera (JB):                0.560\n",
      "Skew:                          -0.235   Prob(JB):                        0.756\n",
      "Kurtosis:                       2.608   Cond. No.                         19.1\n",
      "==============================================================================\n",
      "\n",
      "Warnings:\n",
      "[1] Standard Errors assume that the covariance matrix of the errors is correctly specified.\n"
     ]
    }
   ],
   "source": [
    "a = datos.groupby(['mes','hora'], as_index=False).agg({\"cuantos\": \"sum\"})\n",
    "\n",
    "y = a['cuantos'] # variable dependiente\n",
    "\n",
    "x = a[['mes','hora']] # variables independientes\n",
    "x = sm.add_constant(x) \n",
    "\n",
    "m = sm.OLS(y, x).fit() \n",
    "print(m.summary())"
   ]
  },
  {
   "cell_type": "markdown",
   "metadata": {},
   "source": [
    "Los resultados del modelo indican que las variables independientes no describen muy bien a la variable dependiente, ya que el valor de _R cuadrado_ es 0.450. Además los resultados del _t-test_ indican que la hora se relaciona de forma significativa con el número de casos registrados."
   ]
  },
  {
   "cell_type": "code",
   "execution_count": 229,
   "metadata": {},
   "outputs": [
    {
     "data": {
      "image/png": "[encoded data removed]",
      "text/plain": [
       "<Figure size 432x288 with 9 Axes>"
      ]
     },
     "metadata": {
      "needs_background": "light"
     },
     "output_type": "display_data"
    }
   ],
   "source": [
    "pd.scatter_matrix(a) \n",
    "plt.show()"
   ]
  },
  {
   "cell_type": "markdown",
   "metadata": {},
   "source": [
    "Se revisa además el efecto de la edad, el estado civil y el sexo de las víctimas en el número de incidentes reportados. "
   ]
  },
  {
   "cell_type": "code",
   "execution_count": 230,
   "metadata": {},
   "outputs": [
    {
     "name": "stdout",
     "output_type": "stream",
     "text": [
      "                            OLS Regression Results                            \n",
      "==============================================================================\n",
      "Dep. Variable:                cuantos   R-squared:                       0.284\n",
      "Model:                            OLS   Adj. R-squared:                  0.278\n",
      "Method:                 Least Squares   F-statistic:                     46.87\n",
      "Date:                Mon, 25 Mar 2019   Prob (F-statistic):           1.57e-25\n",
      "Time:                        02:21:02   Log-Likelihood:                -2070.2\n",
      "No. Observations:                 358   AIC:                             4148.\n",
      "Df Residuals:                     354   BIC:                             4164.\n",
      "Df Model:                           3                                         \n",
      "Covariance Type:            nonrobust                                         \n",
      "==============================================================================\n",
      "                 coef    std err          t      P>|t|      [0.025      0.975]\n",
      "------------------------------------------------------------------------------\n",
      "const         38.5281     10.274      3.750      0.000      18.322      58.734\n",
      "edad          -1.0005      0.162     -6.180      0.000      -1.319      -0.682\n",
      "edo_civil     56.7665      8.375      6.778      0.000      40.295      73.238\n",
      "sexo          63.3021      8.351      7.580      0.000      46.879      79.725\n",
      "==============================================================================\n",
      "Omnibus:                      161.152   Durbin-Watson:                   2.006\n",
      "Prob(Omnibus):                  0.000   Jarque-Bera (JB):              685.804\n",
      "Skew:                           1.964   Prob(JB):                    1.20e-149\n",
      "Kurtosis:                       8.527   Cond. No.                         150.\n",
      "==============================================================================\n",
      "\n",
      "Warnings:\n",
      "[1] Standard Errors assume that the covariance matrix of the errors is correctly specified.\n"
     ]
    }
   ],
   "source": [
    "edo_civil = datos.edo_civil\n",
    "civil = []\n",
    "for dato in edo_civil:\n",
    "    s = str(dato).replace(\",\", \" \")\n",
    "    s = str(s).replace(\"UNIÓN LIBRE\", \"UL\")\n",
    "    pedazos = s.split()  \n",
    "    pedazos = [\"SOLTERO\" if (v == \"DIVORCIADO\" or v == \"SEPARADO\" or v == \"VIUDO\" or v == \"SOLTERO\") \n",
    "               else \"CASADO\" if (v == \"UL\" or v == \"CASADO\") else \"NE\" for v in pedazos]\n",
    "    civil += pedazos\n",
    "    \n",
    "    \n",
    "edadv = datos.edad_v # edades de las victimas\n",
    "edad_v = []\n",
    "for dato in edadv:\n",
    "    s = str(dato).replace(\",\", \" \")\n",
    "    pedazos = s.split()   \n",
    "    while \"a\" in pedazos:\n",
    "        pos = pedazos.index(\"a\")\n",
    "        desde = int(pedazos[pos - 1])\n",
    "        hasta = int(pedazos[pos + 1])\n",
    "        prom = (desde + hasta) // 2\n",
    "        edad_v.append(prom)\n",
    "        pedazos = pedazos[:(pos - 1)] + pedazos[(pos + 2):]\n",
    "    edad_v += pedazos\n",
    "\n",
    "    \n",
    "sexo_v = datos.sexo_v\n",
    "sexo = []\n",
    "for dato in sexo_v:\n",
    "    s = str(dato).replace(\",\", \" \")\n",
    "    pedazos = s.split()   \n",
    "    sexo += pedazos\n",
    "    \n",
    "    \n",
    "b = pd.DataFrame({'edad': edad_v, 'edo_civil': civil, 'sexo': sexo})\n",
    "b['cuantos'] = 1\n",
    "b.edo_civil.replace(to_replace = dict(SOLTERO = 0, CASADO = 1), inplace = True)\n",
    "b.sexo.replace(to_replace = dict(M = 0, F = 1), inplace = True)\n",
    "\n",
    "\n",
    "c = b.groupby(['edad', 'edo_civil', 'sexo'], as_index=False).agg({\"cuantos\": \"sum\"})\n",
    "c = c[c.edad != 'NE']\n",
    "c['edad'] = [int(t) for t in c.edad]\n",
    "c = c[c.edo_civil != 'NE']\n",
    "#c = c[c.edo_civil != NaN]\n",
    "c['edo_civil'] = [int(t) for t in c.edo_civil]\n",
    "\n",
    "##### modelo\n",
    "y = c['cuantos'] # variable dependiente\n",
    "\n",
    "x = c[['edad','edo_civil','sexo']] # variables independientes\n",
    "x = sm.add_constant(x) \n",
    "\n",
    "m = sm.OLS(y, x).fit() \n",
    "print(m.summary())"
   ]
  },
  {
   "cell_type": "markdown",
   "metadata": {},
   "source": [
    "El resultado para el _R cuadrado_ indica que el ajuste del modelo no es bueno. Sin embargo, los resultados en la significancia del _t-test_ sugieren que todas las variables independientes se relacionan de forma significativa con el número de incidentes. \n",
    "\n",
    "El análisis del coeficiente beta expresa que la relación entre los casos reportados y la edad de la víctima es negativa, esto es, el número de incidentes de violencia familiar disminuyen para víctimas de mayor edad.   \n",
    "\n",
    "Hay que revisar la correlación entre las variables independientes."
   ]
  },
  {
   "cell_type": "code",
   "execution_count": 231,
   "metadata": {},
   "outputs": [
    {
     "name": "stdout",
     "output_type": "stream",
     "text": [
      "               edad  edo_civil      sexo   cuantos\n",
      "edad       1.000000   0.033120 -0.018708 -0.274371\n",
      "edo_civil  0.033120   1.000000 -0.000814  0.295435\n",
      "sexo      -0.018708  -0.000814  1.000000  0.345863\n",
      "cuantos   -0.274371   0.295435  0.345863  1.000000\n"
     ]
    },
    {
     "data": {
      "text/plain": [
       "<matplotlib.image.AxesImage at 0x7ff01c634588>"
      ]
     },
     "execution_count": 231,
     "metadata": {},
     "output_type": "execute_result"
    },
    {
     "data": {
      "image/png": "[encoded data removed]",
      "text/plain": [
       "<Figure size 288x288 with 1 Axes>"
      ]
     },
     "metadata": {
      "needs_background": "light"
     },
     "output_type": "display_data"
    }
   ],
   "source": [
    "print(c.corr())\n",
    "plt.matshow(c.corr())"
   ]
  },
  {
   "cell_type": "markdown",
   "metadata": {},
   "source": [
    "Parece no haber una relación fuerte entre las variables independientes. "
   ]
  },
  {
   "cell_type": "code",
   "execution_count": 232,
   "metadata": {},
   "outputs": [
    {
     "data": {
      "image/png": "[encoded data removed]",
      "text/plain": [
       "<Figure size 432x288 with 16 Axes>"
      ]
     },
     "metadata": {
      "needs_background": "light"
     },
     "output_type": "display_data"
    }
   ],
   "source": [
    "pd.scatter_matrix(c) \n",
    "plt.show()"
   ]
  }
 ],
 "metadata": {
  "kernelspec": {
   "display_name": "Python 3",
   "language": "python",
   "name": "python3"
  },
  "language_info": {
   "codemirror_mode": {
    "name": "ipython",
    "version": 3
   },
   "file_extension": ".py",
   "mimetype": "text/x-python",
   "name": "python",
   "nbconvert_exporter": "python",
   "pygments_lexer": "ipython3",
   "version": "3.5.2"
  }
 },
 "nbformat": 4,
 "nbformat_minor": 2
}
