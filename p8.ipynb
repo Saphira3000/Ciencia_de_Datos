{
 "cells": [
  {
   "cell_type": "markdown",
   "metadata": {},
   "source": [
    "# Práctica 8: Análisis de varianza y de componentes principales\n",
    "## Gabriela Sánchez Y.\n",
    "\n",
    "El objetivo de la práctica es llevar a cabo un análisis de varianza (ANOVA) y un análisis de componentes principales (PCA) a los datos con los que se ha estado trabajando, visualizar los resultados y discutirlos.\n",
    "\n",
    "La variable de interés es la cantidad de incidentes de violencia familiar, ya que se desea encontrar al grupo más vulnerable.\n",
    "\n",
    "Se ha realizado un preprocesamiento de los datos para incluir solamente algunas caraterísticas de las víctimas tales como la edad, el estado civil, escolaridad, hora, mes y lugar donde ocurrió el indicente y el parentesco de la víctima con el agresor. Se han eliminado los incidentes para los cuales no se especifica alguno de los datos antes mencionados."
   ]
  },
  {
   "cell_type": "code",
   "execution_count": 1,
   "metadata": {},
   "outputs": [
    {
     "data": {
      "text/html": [
       "<div>\n",
       "<style scoped>\n",
       "    .dataframe tbody tr th:only-of-type {\n",
       "        vertical-align: middle;\n",
       "    }\n",
       "\n",
       "    .dataframe tbody tr th {\n",
       "        vertical-align: top;\n",
       "    }\n",
       "\n",
       "    .dataframe thead th {\n",
       "        text-align: right;\n",
       "    }\n",
       "</style>\n",
       "<table border=\"1\" class=\"dataframe\">\n",
       "  <thead>\n",
       "    <tr style=\"text-align: right;\">\n",
       "      <th></th>\n",
       "      <th>edad</th>\n",
       "      <th>edo_civil</th>\n",
       "      <th>escolaridad</th>\n",
       "      <th>hora</th>\n",
       "      <th>mes</th>\n",
       "      <th>mpio</th>\n",
       "      <th>parentesco</th>\n",
       "      <th>cuantos</th>\n",
       "    </tr>\n",
       "  </thead>\n",
       "  <tbody>\n",
       "    <tr>\n",
       "      <th>0</th>\n",
       "      <td>46</td>\n",
       "      <td>CASADO</td>\n",
       "      <td>SECUNDARIA</td>\n",
       "      <td>N</td>\n",
       "      <td>1</td>\n",
       "      <td>CADEREYTA JIMÉNEZ</td>\n",
       "      <td>UL</td>\n",
       "      <td>1</td>\n",
       "    </tr>\n",
       "    <tr>\n",
       "      <th>1</th>\n",
       "      <td>26</td>\n",
       "      <td>CASADO</td>\n",
       "      <td>SECUNDARIA</td>\n",
       "      <td>M</td>\n",
       "      <td>1</td>\n",
       "      <td>CADEREYTA JIMÉNEZ</td>\n",
       "      <td>CONCUBINO</td>\n",
       "      <td>1</td>\n",
       "    </tr>\n",
       "    <tr>\n",
       "      <th>2</th>\n",
       "      <td>42</td>\n",
       "      <td>CASADO</td>\n",
       "      <td>PREPARATORIA</td>\n",
       "      <td>M</td>\n",
       "      <td>1</td>\n",
       "      <td>CADEREYTA JIMÉNEZ</td>\n",
       "      <td>NINGUNO</td>\n",
       "      <td>1</td>\n",
       "    </tr>\n",
       "    <tr>\n",
       "      <th>3</th>\n",
       "      <td>26</td>\n",
       "      <td>CASADO</td>\n",
       "      <td>PREPARATORIA</td>\n",
       "      <td>M</td>\n",
       "      <td>1</td>\n",
       "      <td>CIÉNEGA DE FLORES</td>\n",
       "      <td>CONCUBINO</td>\n",
       "      <td>1</td>\n",
       "    </tr>\n",
       "    <tr>\n",
       "      <th>4</th>\n",
       "      <td>38</td>\n",
       "      <td>CASADO</td>\n",
       "      <td>SECUNDARIA</td>\n",
       "      <td>T</td>\n",
       "      <td>1</td>\n",
       "      <td>CIÉNEGA DE FLORES</td>\n",
       "      <td>ESPOSO</td>\n",
       "      <td>1</td>\n",
       "    </tr>\n",
       "    <tr>\n",
       "      <th>...</th>\n",
       "      <td>...</td>\n",
       "      <td>...</td>\n",
       "      <td>...</td>\n",
       "      <td>...</td>\n",
       "      <td>...</td>\n",
       "      <td>...</td>\n",
       "      <td>...</td>\n",
       "      <td>...</td>\n",
       "    </tr>\n",
       "    <tr>\n",
       "      <th>17036</th>\n",
       "      <td>48</td>\n",
       "      <td>CASADO</td>\n",
       "      <td>PRIMARIA</td>\n",
       "      <td>M</td>\n",
       "      <td>12</td>\n",
       "      <td>SALINAS VICTORIA</td>\n",
       "      <td>NINGUNO</td>\n",
       "      <td>1</td>\n",
       "    </tr>\n",
       "    <tr>\n",
       "      <th>17037</th>\n",
       "      <td>32</td>\n",
       "      <td>CASADO</td>\n",
       "      <td>PREPARATORIA</td>\n",
       "      <td>N</td>\n",
       "      <td>12</td>\n",
       "      <td>SALINAS VICTORIA</td>\n",
       "      <td>NINGUNO</td>\n",
       "      <td>1</td>\n",
       "    </tr>\n",
       "    <tr>\n",
       "      <th>17038</th>\n",
       "      <td>21</td>\n",
       "      <td>CASADO</td>\n",
       "      <td>PREPARATORIA</td>\n",
       "      <td>M</td>\n",
       "      <td>12</td>\n",
       "      <td>SALINAS VICTORIA</td>\n",
       "      <td>CONCUBINO</td>\n",
       "      <td>1</td>\n",
       "    </tr>\n",
       "    <tr>\n",
       "      <th>17039</th>\n",
       "      <td>32</td>\n",
       "      <td>CASADO</td>\n",
       "      <td>SECUNDARIA</td>\n",
       "      <td>T</td>\n",
       "      <td>12</td>\n",
       "      <td>SALINAS VICTORIA</td>\n",
       "      <td>ESPOSO</td>\n",
       "      <td>1</td>\n",
       "    </tr>\n",
       "    <tr>\n",
       "      <th>17040</th>\n",
       "      <td>12</td>\n",
       "      <td>SOLTERO</td>\n",
       "      <td>SECUNDARIA</td>\n",
       "      <td>M</td>\n",
       "      <td>12</td>\n",
       "      <td>SALINAS VICTORIA</td>\n",
       "      <td>NINGUNO</td>\n",
       "      <td>1</td>\n",
       "    </tr>\n",
       "  </tbody>\n",
       "</table>\n",
       "<p>17041 rows × 8 columns</p>\n",
       "</div>"
      ],
      "text/plain": [
       "       edad edo_civil   escolaridad hora  mes               mpio parentesco  \\\n",
       "0        46    CASADO    SECUNDARIA    N    1  CADEREYTA JIMÉNEZ         UL   \n",
       "1        26    CASADO    SECUNDARIA    M    1  CADEREYTA JIMÉNEZ  CONCUBINO   \n",
       "2        42    CASADO  PREPARATORIA    M    1  CADEREYTA JIMÉNEZ    NINGUNO   \n",
       "3        26    CASADO  PREPARATORIA    M    1  CIÉNEGA DE FLORES  CONCUBINO   \n",
       "4        38    CASADO    SECUNDARIA    T    1  CIÉNEGA DE FLORES     ESPOSO   \n",
       "...     ...       ...           ...  ...  ...                ...        ...   \n",
       "17036    48    CASADO      PRIMARIA    M   12   SALINAS VICTORIA    NINGUNO   \n",
       "17037    32    CASADO  PREPARATORIA    N   12   SALINAS VICTORIA    NINGUNO   \n",
       "17038    21    CASADO  PREPARATORIA    M   12   SALINAS VICTORIA  CONCUBINO   \n",
       "17039    32    CASADO    SECUNDARIA    T   12   SALINAS VICTORIA     ESPOSO   \n",
       "17040    12   SOLTERO    SECUNDARIA    M   12   SALINAS VICTORIA    NINGUNO   \n",
       "\n",
       "       cuantos  \n",
       "0            1  \n",
       "1            1  \n",
       "2            1  \n",
       "3            1  \n",
       "4            1  \n",
       "...        ...  \n",
       "17036        1  \n",
       "17037        1  \n",
       "17038        1  \n",
       "17039        1  \n",
       "17040        1  \n",
       "\n",
       "[17041 rows x 8 columns]"
      ]
     },
     "execution_count": 1,
     "metadata": {},
     "output_type": "execute_result"
    }
   ],
   "source": [
    "import pandas as pd\n",
    "pd.set_option('max_rows', 10)\n",
    "\n",
    "datos = pd.read_csv(\"victimas.csv\")\n",
    "datos = datos.drop('Unnamed: 0',1)\n",
    "datos"
   ]
  },
  {
   "cell_type": "code",
   "execution_count": 2,
   "metadata": {},
   "outputs": [
    {
     "data": {
      "text/plain": [
       "array(['SECUNDARIA', 'PREPARATORIA', 'PRIMARIA', 'NINGUNO',\n",
       "       'LICENCIATURA', 'TÉCNICO', 'POSGRADO'], dtype=object)"
      ]
     },
     "execution_count": 2,
     "metadata": {},
     "output_type": "execute_result"
    }
   ],
   "source": [
    "datos.escolaridad.unique()"
   ]
  },
  {
   "cell_type": "markdown",
   "metadata": {},
   "source": [
    "Para no trabajar con tantos niveles, se agrupan las edades en bloques de 10."
   ]
  },
  {
   "cell_type": "code",
   "execution_count": 3,
   "metadata": {},
   "outputs": [],
   "source": [
    "datos.edad = [0 if (v >= 0 and v <= 9) else 1 if (v >= 10 and v <= 19) else 2 if (v >= 20 and v <= 29)\n",
    "             else 3 if (v >= 30 and v <= 39) else 4 if (v >= 40 and v <= 49) else 5 if (v >= 50 and v <= 59)\n",
    "             else 6 if (v >= 60 and v <= 69) else 7 if (v >= 70 and v <= 79) else 8 if (v >= 80 and v <= 89)\n",
    "             else 9 for v in datos.edad]\n",
    "\n",
    "datos.escolaridad = [0 if v == \"NINGUNO\" else 1 if v == \"PRIMARIA\" else 2 if v == \"SECUNDARIA\"\n",
    "                     else 3 if v == \"PREPARATORIA\" else 4 if v == \"TÉCNICO\" else 5 if v == \"LICENCIATURA\"\n",
    "                     else 6 for v in [str(v) for v in datos.escolaridad]]\n"
   ]
  },
  {
   "cell_type": "code",
   "execution_count": 4,
   "metadata": {},
   "outputs": [],
   "source": [
    "datos.hora.replace(to_replace = dict(M = 0, T = 1, N = 2), inplace = True)\n",
    "datos.edo_civil.replace(to_replace = dict(SOLTERO = 0, CASADO = 1), inplace = True)\n",
    "\n",
    "datos['hora'] = [int(t) for t in datos.hora]\n",
    "datos['edo_civil'] = [int(t) for t in datos.edo_civil]\n",
    "datos['escolaridad'] = [int(t) for t in datos.escolaridad]\n",
    "\n",
    "c = datos.groupby(['edad', 'edo_civil', 'escolaridad', 'hora', 'mes'], as_index=False).agg({\"cuantos\": \"sum\"})"
   ]
  },
  {
   "cell_type": "markdown",
   "metadata": {},
   "source": [
    "Los datos no son balanceados. Se prueba un primer modelo con un ANOVA tipo 2, en el cual no se consideran interacciones entre los distintos factores."
   ]
  },
  {
   "cell_type": "code",
   "execution_count": 5,
   "metadata": {},
   "outputs": [
    {
     "name": "stdout",
     "output_type": "stream",
     "text": [
      "                    sum_sq      df           F        PR(>F)\n",
      "edad          28103.315009     1.0  213.730001  2.858234e-46\n",
      "edo_civil     30232.123042     1.0  229.919911  1.767271e-49\n",
      "escolaridad    5895.187520     1.0   44.833801  2.712031e-11\n",
      "hora           3115.409120     1.0   23.693162  1.209809e-06\n",
      "mes             140.921029     1.0    1.071726  3.006693e-01\n",
      "Residual     290197.987725  2207.0         NaN           NaN\n",
      "edad es significativo\n",
      "edo_civil es significativo\n",
      "escolaridad es significativo\n",
      "hora es significativo\n",
      "mes NO es significativo\n",
      "Residual NO es significativo\n"
     ]
    },
    {
     "name": "stderr",
     "output_type": "stream",
     "text": [
      "/usr/local/lib/python3.5/dist-packages/pandas/core/computation/check.py:19: UserWarning: The installed version of numexpr 2.4.3 is not supported in pandas and will be not be used\n",
      "The minimum supported version is 2.6.1\n",
      "\n",
      "  ver=ver, min_ver=_MIN_NUMEXPR_VERSION), UserWarning)\n"
     ]
    }
   ],
   "source": [
    "import statsmodels.api as sm\n",
    "from statsmodels.formula.api import ols\n",
    "import ssl\n",
    "\n",
    "if getattr(ssl, '_create_unverified_context', None):\n",
    "    ssl._create_default_https_context = ssl._create_unverified_context\n",
    "\n",
    "m = ols('cuantos ~ edad + edo_civil + escolaridad + hora + mes', data = c).fit() \n",
    "a = sm.stats.anova_lm(m, typ = 2)\n",
    "\n",
    "print(a)\n",
    "n = len(a)\n",
    "alpha = 0.05\n",
    "for i in range(n):\n",
    "    print(\"{:s} {:s}es significativo\".format(a.index[i], \"\" if a['PR(>F)'][i] < alpha else \"NO \"))"
   ]
  },
  {
   "cell_type": "markdown",
   "metadata": {},
   "source": [
    "Parece ser que casi todos los factores son significativos para la variable de interés. Sin embargo, el modelo tiene algunos residules son muy altos. Habrá que intentar otra cosa.\n",
    "\n",
    "La siguiente prueba incluye interacciones entre los factores."
   ]
  },
  {
   "cell_type": "code",
   "execution_count": 6,
   "metadata": {},
   "outputs": [
    {
     "name": "stdout",
     "output_type": "stream",
     "text": [
      "                         sum_sq      df           F        PR(>F)\n",
      "edad               28047.938691     1.0  218.876307  2.726351e-47\n",
      "edo_civil          30247.078317     1.0  236.037623  1.103524e-50\n",
      "edad:edo_civil      6916.724660     1.0   53.975701  2.843324e-13\n",
      "hora                3020.502432     1.0   23.570945  1.288347e-06\n",
      "edad:hora            645.207120     1.0    5.034971  2.493937e-02\n",
      "escolaridad         6346.876698     1.0   49.528807  2.599533e-12\n",
      "edad:escolaridad     500.301989     1.0    3.904182  4.829056e-02\n",
      "Residual          282560.071260  2205.0         NaN           NaN\n",
      "edad es significativo\n",
      "edo_civil es significativo\n",
      "edad:edo_civil es significativo\n",
      "hora es significativo\n",
      "edad:hora es significativo\n",
      "escolaridad es significativo\n",
      "edad:escolaridad es significativo\n",
      "Residual NO es significativo\n"
     ]
    }
   ],
   "source": [
    "m = ols('cuantos ~ edad * edo_civil + edad * hora + edad * escolaridad', data = c).fit() \n",
    "a = sm.stats.anova_lm(m, typ = 2)\n",
    "print(a)\n",
    "n = len(a)\n",
    "alpha = 0.05\n",
    "for i in range(n):\n",
    "    print(\"{:s} {:s}es significativo\".format(a.index[i], \"\" if a['PR(>F)'][i] < alpha else \"NO \"))"
   ]
  },
  {
   "cell_type": "markdown",
   "metadata": {},
   "source": [
    "Los residuales siguen altos. Se revisan otras interacciones."
   ]
  },
  {
   "cell_type": "code",
   "execution_count": 7,
   "metadata": {},
   "outputs": [
    {
     "name": "stdout",
     "output_type": "stream",
     "text": [
      "                              sum_sq      df           F        PR(>F)\n",
      "edo_civil               25510.639510     1.0  177.684314  4.819435e-39\n",
      "hora                     4042.701514     1.0   28.157845  1.229997e-07\n",
      "edo_civil:hora           1177.105137     1.0    8.198662  4.231717e-03\n",
      "escolaridad              5619.332279     1.0   39.139246  4.725898e-10\n",
      "edo_civil:escolaridad     398.412854     1.0    2.774988  9.588936e-02\n",
      "hora:escolaridad          105.131678     1.0    0.732253  3.922467e-01\n",
      "Residual               316721.659781  2206.0         NaN           NaN\n",
      "edo_civil es significativo\n",
      "hora es significativo\n",
      "edo_civil:hora es significativo\n",
      "escolaridad es significativo\n",
      "edo_civil:escolaridad NO es significativo\n",
      "hora:escolaridad NO es significativo\n",
      "Residual NO es significativo\n"
     ]
    }
   ],
   "source": [
    "m = ols('cuantos ~ edo_civil * hora + edo_civil * escolaridad + hora * escolaridad', data = c).fit() \n",
    "a = sm.stats.anova_lm(m, typ = 2)\n",
    "print(a)\n",
    "n = len(a)\n",
    "alpha = 0.05\n",
    "for i in range(n):\n",
    "    print(\"{:s} {:s}es significativo\".format(a.index[i], \"\" if a['PR(>F)'][i] < alpha else \"NO \"))"
   ]
  },
  {
   "cell_type": "markdown",
   "metadata": {},
   "source": [
    "De acuerdo a los modelos anteriores los factores de edad, estado civil, escolaridad y hora de los incidentes influyen en la varible de interés. Así como también influye la interacción entre algunos de ellos. Aunque aún hay mucha variación por explicar.\n",
    "\n",
    "El siguiente paso es realizar un análisis de componentes principales. Para este análisis se consideran los factores de edad, mes, hora, escolaridad y edo_civil. Previamente estos datos se han modificado para tener datos numéricos."
   ]
  },
  {
   "cell_type": "code",
   "execution_count": 14,
   "metadata": {},
   "outputs": [
    {
     "name": "stderr",
     "output_type": "stream",
     "text": [
      "/usr/local/lib/python3.5/dist-packages/sklearn/utils/validation.py:595: DataConversionWarning: Data with input dtype int64 was converted to float64 by StandardScaler.\n",
      "  warnings.warn(msg, DataConversionWarning)\n",
      "/usr/local/lib/python3.5/dist-packages/sklearn/utils/validation.py:595: DataConversionWarning: Data with input dtype int64 was converted to float64 by StandardScaler.\n",
      "  warnings.warn(msg, DataConversionWarning)\n"
     ]
    },
    {
     "data": {
      "text/html": [
       "<div>\n",
       "<style scoped>\n",
       "    .dataframe tbody tr th:only-of-type {\n",
       "        vertical-align: middle;\n",
       "    }\n",
       "\n",
       "    .dataframe tbody tr th {\n",
       "        vertical-align: top;\n",
       "    }\n",
       "\n",
       "    .dataframe thead th {\n",
       "        text-align: right;\n",
       "    }\n",
       "</style>\n",
       "<table border=\"1\" class=\"dataframe\">\n",
       "  <thead>\n",
       "    <tr style=\"text-align: right;\">\n",
       "      <th></th>\n",
       "      <th>comp_0</th>\n",
       "      <th>comp_1</th>\n",
       "      <th>hora</th>\n",
       "    </tr>\n",
       "  </thead>\n",
       "  <tbody>\n",
       "    <tr>\n",
       "      <th>0</th>\n",
       "      <td>0.257331</td>\n",
       "      <td>2.357384</td>\n",
       "      <td>0</td>\n",
       "    </tr>\n",
       "    <tr>\n",
       "      <th>1</th>\n",
       "      <td>0.498128</td>\n",
       "      <td>2.371462</td>\n",
       "      <td>0</td>\n",
       "    </tr>\n",
       "    <tr>\n",
       "      <th>2</th>\n",
       "      <td>0.320782</td>\n",
       "      <td>2.384512</td>\n",
       "      <td>0</td>\n",
       "    </tr>\n",
       "    <tr>\n",
       "      <th>3</th>\n",
       "      <td>0.681049</td>\n",
       "      <td>2.398883</td>\n",
       "      <td>0</td>\n",
       "    </tr>\n",
       "    <tr>\n",
       "      <th>4</th>\n",
       "      <td>0.862112</td>\n",
       "      <td>2.412814</td>\n",
       "      <td>0</td>\n",
       "    </tr>\n",
       "  </tbody>\n",
       "</table>\n",
       "</div>"
      ],
      "text/plain": [
       "     comp_0    comp_1  hora\n",
       "0  0.257331  2.357384     0\n",
       "1  0.498128  2.371462     0\n",
       "2  0.320782  2.384512     0\n",
       "3  0.681049  2.398883     0\n",
       "4  0.862112  2.412814     0"
      ]
     },
     "metadata": {},
     "output_type": "display_data"
    },
    {
     "data": {
      "image/png": "[encoded data removed]",
      "text/plain": [
       "<Figure size 432x288 with 1 Axes>"
      ]
     },
     "metadata": {
      "needs_background": "light"
     },
     "output_type": "display_data"
    }
   ],
   "source": [
    "from sklearn.decomposition import PCA\n",
    "from sklearn.preprocessing import StandardScaler\n",
    "import matplotlib.pyplot as plt\n",
    "\n",
    "features = ['cuantos', 'edad', 'escolaridad', 'edo_civil', 'mes']\n",
    "x = c.loc[:, features].values\n",
    "y = c.loc[:,['hora']].values\n",
    "x = StandardScaler().fit_transform(x)\n",
    "k=2\n",
    "pca = PCA(n_components = 2)\n",
    "cd = pd.DataFrame(data = pca.fit_transform(x), columns = ['comp_{:d}'.format(i) for i in range(k)])\n",
    "cd['hora'] = y\n",
    "display(cd.head(5))\n",
    "\n",
    "pri = cd.hora == 0\n",
    "seg = cd.hora == 1\n",
    "ter = cd.hora == 2\n",
    "\n",
    "plt.title('PCA bidimensional', fontsize = 20)\n",
    "plt.xlabel('Primer componente', fontsize = 15)\n",
    "plt.ylabel('Segundo componente', fontsize = 15)\n",
    "plt.scatter(cd.loc[pri].comp_0, cd.loc[pri].comp_1, c = 'g', s = 50)\n",
    "plt.scatter(cd.loc[seg].comp_0, cd.loc[seg].comp_1, c = 'b', s = 50)\n",
    "plt.scatter(cd.loc[ter].comp_0, cd.loc[ter].comp_1, c = 'r', s = 50)\n",
    "plt.legend(['Manana', 'Tarde', 'Noche'])\n",
    "plt.grid()\n"
   ]
  },
  {
   "cell_type": "markdown",
   "metadata": {},
   "source": [
    "De los resultados obtenidos se observa que, considerando dos componentes principales, los incidentes no pueden separarse de acuerdo a la hora de los hechos."
   ]
  },
  {
   "cell_type": "code",
   "execution_count": 13,
   "metadata": {},
   "outputs": [
    {
     "name": "stderr",
     "output_type": "stream",
     "text": [
      "/usr/local/lib/python3.5/dist-packages/sklearn/utils/validation.py:595: DataConversionWarning: Data with input dtype int64 was converted to float64 by StandardScaler.\n",
      "  warnings.warn(msg, DataConversionWarning)\n",
      "/usr/local/lib/python3.5/dist-packages/sklearn/utils/validation.py:595: DataConversionWarning: Data with input dtype int64 was converted to float64 by StandardScaler.\n",
      "  warnings.warn(msg, DataConversionWarning)\n"
     ]
    },
    {
     "data": {
      "text/html": [
       "<div>\n",
       "<style scoped>\n",
       "    .dataframe tbody tr th:only-of-type {\n",
       "        vertical-align: middle;\n",
       "    }\n",
       "\n",
       "    .dataframe tbody tr th {\n",
       "        vertical-align: top;\n",
       "    }\n",
       "\n",
       "    .dataframe thead th {\n",
       "        text-align: right;\n",
       "    }\n",
       "</style>\n",
       "<table border=\"1\" class=\"dataframe\">\n",
       "  <thead>\n",
       "    <tr style=\"text-align: right;\">\n",
       "      <th></th>\n",
       "      <th>comp_0</th>\n",
       "      <th>comp_1</th>\n",
       "      <th>escolaridad</th>\n",
       "    </tr>\n",
       "  </thead>\n",
       "  <tbody>\n",
       "    <tr>\n",
       "      <th>0</th>\n",
       "      <td>-0.310096</td>\n",
       "      <td>-1.719780</td>\n",
       "      <td>0</td>\n",
       "    </tr>\n",
       "    <tr>\n",
       "      <th>1</th>\n",
       "      <td>-0.078859</td>\n",
       "      <td>-1.720835</td>\n",
       "      <td>0</td>\n",
       "    </tr>\n",
       "    <tr>\n",
       "      <th>2</th>\n",
       "      <td>-0.249945</td>\n",
       "      <td>-1.747321</td>\n",
       "      <td>0</td>\n",
       "    </tr>\n",
       "    <tr>\n",
       "      <th>3</th>\n",
       "      <td>0.096243</td>\n",
       "      <td>-1.741110</td>\n",
       "      <td>0</td>\n",
       "    </tr>\n",
       "    <tr>\n",
       "      <th>4</th>\n",
       "      <td>0.270005</td>\n",
       "      <td>-1.745798</td>\n",
       "      <td>0</td>\n",
       "    </tr>\n",
       "  </tbody>\n",
       "</table>\n",
       "</div>"
      ],
      "text/plain": [
       "     comp_0    comp_1  escolaridad\n",
       "0 -0.310096 -1.719780            0\n",
       "1 -0.078859 -1.720835            0\n",
       "2 -0.249945 -1.747321            0\n",
       "3  0.096243 -1.741110            0\n",
       "4  0.270005 -1.745798            0"
      ]
     },
     "metadata": {},
     "output_type": "display_data"
    },
    {
     "data": {
      "image/png": "[encoded data removed]",
      "text/plain": [
       "<Figure size 576x576 with 1 Axes>"
      ]
     },
     "metadata": {
      "needs_background": "light"
     },
     "output_type": "display_data"
    }
   ],
   "source": [
    "features = ['cuantos', 'edad', 'edo_civil', 'hora', 'mes']\n",
    "x = c.loc[:, features].values\n",
    "y = c.loc[:,['escolaridad']].values\n",
    "x = StandardScaler().fit_transform(x)\n",
    "\n",
    "pca = PCA(n_components = 2)\n",
    "cd = pd.DataFrame(data = pca.fit_transform(x), columns = ['comp_{:d}'.format(i) for i in range(k)])\n",
    "cd['escolaridad'] = y\n",
    "display(cd.head(5))\n",
    "\n",
    "fig = plt.figure(figsize = (8,8))\n",
    "ax = fig.add_subplot(1,1,1) \n",
    "ax.set_xlabel('Principal Component 1', fontsize = 15)\n",
    "ax.set_ylabel('Principal Component 2', fontsize = 15)\n",
    "ax.set_title('2 component PCA', fontsize = 20)\n",
    "\n",
    "targets = cd.escolaridad.unique()\n",
    "colors = ['r', 'g', 'b', 'black', 'salmon', 'purple']\n",
    "for target, color in zip(targets,colors):\n",
    "    indicesToKeep = cd['escolaridad'] == target\n",
    "    ax.scatter(cd.loc[indicesToKeep, 'comp_0']\n",
    "               , cd.loc[indicesToKeep, 'comp_1']\n",
    "               , c = color\n",
    "               , s = 50)\n",
    "ax.legend(targets)\n",
    "ax.grid()\n",
    "plt.savefig('pca.eps')"
   ]
  },
  {
   "cell_type": "markdown",
   "metadata": {},
   "source": [
    "La división de los datos podría explicarse por el estado civil, solteros y casados. De cualquier forma no se pueden separar los datos de acuerdo a la escolaridad de la víctima."
   ]
  }
 ],
 "metadata": {
  "kernelspec": {
   "display_name": "Python 3",
   "language": "python",
   "name": "python3"
  },
  "language_info": {
   "codemirror_mode": {
    "name": "ipython",
    "version": 3
   },
   "file_extension": ".py",
   "mimetype": "text/x-python",
   "name": "python",
   "nbconvert_exporter": "python",
   "pygments_lexer": "ipython3",
   "version": "3.5.2"
  }
 },
 "nbformat": 4,
 "nbformat_minor": 2
}
