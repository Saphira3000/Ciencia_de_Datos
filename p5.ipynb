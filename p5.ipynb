{
 "cells": [
  {
   "cell_type": "markdown",
   "metadata": {},
   "source": [
    "# Práctica 5: Pruebas estadísticas\n",
    "## Gabriela Sánchez Y. \n",
    "\n",
    "En su quinto reporte, apliquen por lo menos tres diferentes tipos de pruebas estadísticas de hipótesis, argumentando por qué las pruebas con aplicables en cada caso. Pueden ser las mismas de los ejemplos o algunas otras (hay docenas si no cientos disponibles).\n",
    "\n",
    "\n",
    "El objetivo de la práctica es aplicar diferentes tipos de pruebas estadísticas de hipótesis a las variables de estudio que se piensa que causan diferencia en los resultados. Primero se revisa cómo es la distribución de los datos ya que varias pruebas estadísticas dependen de la distribución de los mismos.\n",
    "\n",
    "Se cargan los datos."
   ]
  },
  {
   "cell_type": "code",
   "execution_count": 66,
   "metadata": {},
   "outputs": [
    {
     "data": {
      "text/html": [
       "<div>\n",
       "<style scoped>\n",
       "    .dataframe tbody tr th:only-of-type {\n",
       "        vertical-align: middle;\n",
       "    }\n",
       "\n",
       "    .dataframe tbody tr th {\n",
       "        vertical-align: top;\n",
       "    }\n",
       "\n",
       "    .dataframe thead th {\n",
       "        text-align: right;\n",
       "    }\n",
       "</style>\n",
       "<table border=\"1\" class=\"dataframe\">\n",
       "  <thead>\n",
       "    <tr style=\"text-align: right;\">\n",
       "      <th></th>\n",
       "      <th>mes</th>\n",
       "      <th>mpio</th>\n",
       "      <th>fecha</th>\n",
       "      <th>hora</th>\n",
       "      <th>victima</th>\n",
       "      <th>sexo_v</th>\n",
       "      <th>edad_v</th>\n",
       "      <th>parentesco</th>\n",
       "      <th>edo_civil_v</th>\n",
       "      <th>ocupacion_v</th>\n",
       "      <th>escolaridad_v</th>\n",
       "      <th>agresor</th>\n",
       "      <th>sexo_a</th>\n",
       "      <th>edad_a</th>\n",
       "      <th>edo_civil_a</th>\n",
       "      <th>ocupacion_a</th>\n",
       "      <th>escolaridad_a</th>\n",
       "      <th>pob</th>\n",
       "    </tr>\n",
       "  </thead>\n",
       "  <tbody>\n",
       "    <tr>\n",
       "      <th>0</th>\n",
       "      <td>1</td>\n",
       "      <td>9</td>\n",
       "      <td>2018/01/01</td>\n",
       "      <td>23</td>\n",
       "      <td>1</td>\n",
       "      <td>F</td>\n",
       "      <td>46</td>\n",
       "      <td>UNION LIBRE</td>\n",
       "      <td>UNIÓN LIBRE</td>\n",
       "      <td>EMPLEADO</td>\n",
       "      <td>SECUNDARIA</td>\n",
       "      <td>1.0</td>\n",
       "      <td>M</td>\n",
       "      <td>36 a 40</td>\n",
       "      <td>UNIÓN LIBRE</td>\n",
       "      <td>PRESTADOR DE SERVICIOS</td>\n",
       "      <td>SECUNDARIA</td>\n",
       "      <td>95534</td>\n",
       "    </tr>\n",
       "    <tr>\n",
       "      <th>1</th>\n",
       "      <td>1</td>\n",
       "      <td>9</td>\n",
       "      <td>2017/12/27</td>\n",
       "      <td>8</td>\n",
       "      <td>1</td>\n",
       "      <td>F</td>\n",
       "      <td>26</td>\n",
       "      <td>CONCUBINO (A)</td>\n",
       "      <td>UNIÓN LIBRE</td>\n",
       "      <td>HOGAR</td>\n",
       "      <td>SECUNDARIA</td>\n",
       "      <td>1.0</td>\n",
       "      <td>M</td>\n",
       "      <td>21 a 25</td>\n",
       "      <td>UNIÓN LIBRE</td>\n",
       "      <td>SIN OFICIO</td>\n",
       "      <td>SECUNDARIA</td>\n",
       "      <td>95534</td>\n",
       "    </tr>\n",
       "    <tr>\n",
       "      <th>2</th>\n",
       "      <td>1</td>\n",
       "      <td>9</td>\n",
       "      <td>2018/01/01</td>\n",
       "      <td>11</td>\n",
       "      <td>1</td>\n",
       "      <td>F</td>\n",
       "      <td>42</td>\n",
       "      <td>NINGUNO</td>\n",
       "      <td>UNIÓN LIBRE</td>\n",
       "      <td>EMPLEADO</td>\n",
       "      <td>PREPARATORIA</td>\n",
       "      <td>1.0</td>\n",
       "      <td>M</td>\n",
       "      <td>41</td>\n",
       "      <td>CASADO</td>\n",
       "      <td>CHOFER</td>\n",
       "      <td>SECUNDARIA</td>\n",
       "      <td>95534</td>\n",
       "    </tr>\n",
       "    <tr>\n",
       "      <th>3</th>\n",
       "      <td>1</td>\n",
       "      <td>12</td>\n",
       "      <td>2017/12/22</td>\n",
       "      <td>11</td>\n",
       "      <td>1</td>\n",
       "      <td>F</td>\n",
       "      <td>26</td>\n",
       "      <td>CONCUBINO (A)</td>\n",
       "      <td>UNIÓN LIBRE</td>\n",
       "      <td>HOGAR</td>\n",
       "      <td>PREPARATORIA</td>\n",
       "      <td>1.0</td>\n",
       "      <td>M</td>\n",
       "      <td>34</td>\n",
       "      <td>UNIÓN LIBRE</td>\n",
       "      <td>EMPLEADO</td>\n",
       "      <td>PRIMARIA</td>\n",
       "      <td>42715</td>\n",
       "    </tr>\n",
       "    <tr>\n",
       "      <th>4</th>\n",
       "      <td>1</td>\n",
       "      <td>12</td>\n",
       "      <td>2017/12/25</td>\n",
       "      <td>19</td>\n",
       "      <td>1</td>\n",
       "      <td>F</td>\n",
       "      <td>38</td>\n",
       "      <td>ESPOSO (A)</td>\n",
       "      <td>CASADO</td>\n",
       "      <td>HOGAR</td>\n",
       "      <td>SECUNDARIA</td>\n",
       "      <td>1.0</td>\n",
       "      <td>M</td>\n",
       "      <td>45</td>\n",
       "      <td>CASADO</td>\n",
       "      <td>EMPLEADO</td>\n",
       "      <td>PREPARATORIA</td>\n",
       "      <td>42715</td>\n",
       "    </tr>\n",
       "  </tbody>\n",
       "</table>\n",
       "</div>"
      ],
      "text/plain": [
       "   mes  mpio       fecha  hora  victima sexo_v edad_v     parentesco  \\\n",
       "0    1     9  2018/01/01    23        1      F     46    UNION LIBRE   \n",
       "1    1     9  2017/12/27     8        1      F     26  CONCUBINO (A)   \n",
       "2    1     9  2018/01/01    11        1      F     42        NINGUNO   \n",
       "3    1    12  2017/12/22    11        1      F     26  CONCUBINO (A)   \n",
       "4    1    12  2017/12/25    19        1      F     38     ESPOSO (A)   \n",
       "\n",
       "   edo_civil_v ocupacion_v escolaridad_v  agresor sexo_a   edad_a  \\\n",
       "0  UNIÓN LIBRE    EMPLEADO    SECUNDARIA      1.0      M  36 a 40   \n",
       "1  UNIÓN LIBRE       HOGAR    SECUNDARIA      1.0      M  21 a 25   \n",
       "2  UNIÓN LIBRE    EMPLEADO  PREPARATORIA      1.0      M       41   \n",
       "3  UNIÓN LIBRE       HOGAR  PREPARATORIA      1.0      M       34   \n",
       "4       CASADO       HOGAR    SECUNDARIA      1.0      M       45   \n",
       "\n",
       "   edo_civil_a             ocupacion_a escolaridad_a    pob  \n",
       "0  UNIÓN LIBRE  PRESTADOR DE SERVICIOS    SECUNDARIA  95534  \n",
       "1  UNIÓN LIBRE              SIN OFICIO    SECUNDARIA  95534  \n",
       "2       CASADO                  CHOFER    SECUNDARIA  95534  \n",
       "3  UNIÓN LIBRE                EMPLEADO      PRIMARIA  42715  \n",
       "4       CASADO                EMPLEADO  PREPARATORIA  42715  "
      ]
     },
     "execution_count": 66,
     "metadata": {},
     "output_type": "execute_result"
    }
   ],
   "source": [
    "import pandas as pd\n",
    "datos = pd.read_csv(\"vf_datos.csv\")\n",
    "datos.head()"
   ]
  },
  {
   "cell_type": "markdown",
   "metadata": {},
   "source": [
    "### Hora\n",
    "\n",
    "Se analiza si la hora influye en en número de incidentes. Hay que determinar si los datos siguen una distribución normal. Primero se grafica la información en un histograma para terner una idea remota de si la infromación sigue o no una distribución normal y después se aplica una prueba de normalidad de Shapiro-Wilk."
   ]
  },
  {
   "cell_type": "code",
   "execution_count": 67,
   "metadata": {},
   "outputs": [
    {
     "data": {
      "image/png": "[encoded data removed]",
      "text/plain": [
       "<Figure size 432x288 with 1 Axes>"
      ]
     },
     "metadata": {
      "needs_background": "light"
     },
     "output_type": "display_data"
    }
   ],
   "source": [
    "import matplotlib.pyplot as plt\n",
    "from scipy.stats import shapiro\n",
    "\n",
    "hora = datos.hora\n",
    "plt.title('Incidentes por hora')\n",
    "plt.hist(hora, edgecolor = 'black',  linewidth=1, bins = 24)\n",
    "plt.savefig('horas.eps')"
   ]
  },
  {
   "cell_type": "markdown",
   "metadata": {},
   "source": [
    "Si se inicia la curva a partir de las 5:00 horas la curva parecería tener una distribución normal aunque con dos picos en las 11:00 y 13:00 horas. \n",
    "\n",
    "Se realiza un gráfico de cuantil-cualtil y se realiza la prueba de normalidad."
   ]
  },
  {
   "cell_type": "code",
   "execution_count": 68,
   "metadata": {},
   "outputs": [
    {
     "data": {
      "image/png": "[encoded data removed]",
      "text/plain": [
       "<Figure size 432x288 with 1 Axes>"
      ]
     },
     "metadata": {
      "needs_background": "light"
     },
     "output_type": "display_data"
    }
   ],
   "source": [
    "from statsmodels.graphics.gofplots import qqplot\n",
    "qqplot_data = qqplot(hora, line='s').gca().lines"
   ]
  },
  {
   "cell_type": "code",
   "execution_count": 69,
   "metadata": {
    "scrolled": true
   },
   "outputs": [
    {
     "name": "stderr",
     "output_type": "stream",
     "text": [
      "/usr/local/lib/python3.5/dist-packages/scipy/stats/morestats.py:1653: UserWarning:\n",
      "\n",
      "p-value may not be accurate for N > 5000.\n",
      "\n",
      "/usr/local/lib/python3.5/dist-packages/IPython/core/display.py:689: UserWarning:\n",
      "\n",
      "Consider using IPython.display.IFrame instead\n",
      "\n"
     ]
    },
    {
     "data": {
      "text/html": [
       "<iframe id=\"igraph\" scrolling=\"no\" style=\"border:none;\" seamless=\"seamless\" src=\"https://plot.ly/~SaphiraSan/32.embed\" height=\"200px\" width=\"100%\"></iframe>"
      ],
      "text/plain": [
       "<plotly.tools.PlotlyDisplay object>"
      ]
     },
     "execution_count": 69,
     "metadata": {},
     "output_type": "execute_result"
    }
   ],
   "source": [
    "from scipy.stats import shapiro\n",
    "import plotly.figure_factory as ff\n",
    "import plotly.plotly as py\n",
    "stat, p = shapiro(hora)\n",
    "\n",
    "# interpret\n",
    "alpha = 0.05\n",
    "if p > alpha:\n",
    "    msg = 'Sample looks Gaussian (fail to reject H0)'\n",
    "else:\n",
    "    msg = 'Sample does not look Gaussian (reject H0)'\n",
    "\n",
    "result_mat = [\n",
    "    ['Length of the sample data', 'Test Statistic', 'p-value', 'Comments'],\n",
    "    [len(hora), stat, p, msg]\n",
    "]\n",
    "\n",
    "swt_table = ff.create_table(result_mat)\n",
    "swt_table['data'][0].colorscale=[[0, '#2a3f5f'],[1, '#ffffff']]\n",
    "swt_table['layout']['height']=200\n",
    "swt_table['layout']['margin']['t']=50\n",
    "swt_table['layout']['margin']['b']=50\n",
    "\n",
    "py.iplot(swt_table, filename='shapiro-wilk-table')"
   ]
  },
  {
   "cell_type": "markdown",
   "metadata": {},
   "source": [
    "El gráfico cuantil-cuantil permite observar que los datos no parecen seguir una distribución normal, resultado que se verifica con lo obtenido con la prueba de normalidad."
   ]
  },
  {
   "cell_type": "markdown",
   "metadata": {},
   "source": [
    "### Meses\n",
    "\n",
    "Ahora se revisa la normalidad de los datos correspondientes a los meses. Primero se grafica un histograma para tener una idea de lo que sucede con los datos."
   ]
  },
  {
   "cell_type": "code",
   "execution_count": 70,
   "metadata": {},
   "outputs": [
    {
     "name": "stderr",
     "output_type": "stream",
     "text": [
      "/usr/local/lib/python3.5/dist-packages/scipy/stats/morestats.py:1653: UserWarning:\n",
      "\n",
      "p-value may not be accurate for N > 5000.\n",
      "\n"
     ]
    },
    {
     "name": "stdout",
     "output_type": "stream",
     "text": [
      "Statistics=0.959, p=0.000\n",
      "NO normal\n"
     ]
    },
    {
     "data": {
      "image/png": "[encoded data removed]",
      "text/plain": [
       "<Figure size 432x288 with 1 Axes>"
      ]
     },
     "metadata": {
      "needs_background": "light"
     },
     "output_type": "display_data"
    }
   ],
   "source": [
    "mes = datos.mes.value_counts()\n",
    "plt.title('Incidentes por meses')\n",
    "plt.hist(hora, edgecolor = 'black',  linewidth=1, bins = 12)\n",
    "plt.savefig('mes.eps')\n",
    "\n",
    "meses = datos.mes\n",
    "stat, p = shapiro(meses)\n",
    "print('Statistics=%.3f, p=%.3f' % (stat, p))\n",
    "# interpret\n",
    "alpha = 0.05\n",
    "if p > alpha:\n",
    "    print('Normal')\n",
    "else:\n",
    "    print('NO normal')"
   ]
  },
  {
   "cell_type": "markdown",
   "metadata": {},
   "source": [
    "La prueba indica que los datos no siguen una distribución normal, esto puede observarse en el gráfico cuantil-cuantil."
   ]
  },
  {
   "cell_type": "code",
   "execution_count": 71,
   "metadata": {},
   "outputs": [
    {
     "data": {
      "image/png": "[encoded data removed]",
      "text/plain": [
       "<Figure size 432x288 with 1 Axes>"
      ]
     },
     "metadata": {
      "needs_background": "light"
     },
     "output_type": "display_data"
    }
   ],
   "source": [
    "qqplot_data = qqplot(meses, line='s').gca().lines"
   ]
  },
  {
   "cell_type": "markdown",
   "metadata": {},
   "source": [
    "Finalmente, se revisa la normalidad de los datos correspondientes a las edades de las víctimas y agresores. \n",
    "\n",
    "Para esto primero se grafica el histograma correspondiente, después el gráfico cuantil-cuantil y por último se realiza la prueba de normalidad. \n",
    "\n",
    "Los datos no se encuentran en el formato adecuado por lo que primero se procede a realizar la limpieza correspondiente."
   ]
  },
  {
   "cell_type": "code",
   "execution_count": 72,
   "metadata": {},
   "outputs": [
    {
     "name": "stdout",
     "output_type": "stream",
     "text": [
      "{80: 15, 50: 1034, 20: 5004, 70: 93, 40: 3217, 10: 720, 60: 248, 30: 5853}\n",
      "{0: 922, 80: 103, 50: 1010, 20: 5229, 70: 273, 40: 2840, 10: 1910, 60: 428, 90: 9, 30: 5057}\n"
     ]
    }
   ],
   "source": [
    "edadv = datos.edad_v # edades de las victimas\n",
    "edad_v = []\n",
    "for dato in edadv:\n",
    "    s = str(dato).replace(\",\", \" \")\n",
    "    pedazos = s.split()   \n",
    "    while \"a\" in pedazos:\n",
    "        pos = pedazos.index(\"a\")\n",
    "        desde = int(pedazos[pos - 1])\n",
    "        hasta = int(pedazos[pos + 1])\n",
    "        prom = (desde + hasta) // 2\n",
    "        edad_v.append(prom)\n",
    "        pedazos = pedazos[:(pos - 1)] + pedazos[(pos + 2):]\n",
    "    edad_v += pedazos\n",
    "edad_v = list(filter(lambda dato: dato != \"NE\", edad_v)) \n",
    "edad_v = list(filter(lambda dato: dato != \"nan\", edad_v))\n",
    "edad_v = [float(v) for v in edad_v]\n",
    "edad_v = [int(v) for v in edad_v]\n",
    "\n",
    "edada = datos.edad_a\n",
    "edad_a = []\n",
    "for dato in edada:\n",
    "    s = str(dato).replace(\",\", \" \")\n",
    "    pedazos = s.split()   \n",
    "    while \"a\" in pedazos:\n",
    "        pos = pedazos.index(\"a\")\n",
    "        desde = int(pedazos[pos - 1])\n",
    "        hasta = int(pedazos[pos + 1])\n",
    "        prom = (desde + hasta) // 2\n",
    "        edad_a.append(prom)\n",
    "        pedazos = pedazos[:(pos - 1)] + pedazos[(pos + 2):]\n",
    "    edad_a += pedazos\n",
    "\n",
    "edad_a = list(filter(lambda dato: dato != \"NE\", edad_a))\n",
    "edad_a = list(filter(lambda dato: dato != \"nan\", edad_a))\n",
    "edad_a = [float(v) for v in edad_a]\n",
    "edad_a = [int(v) for v in edad_a]\n",
    "\n",
    "edad_a = [0 if (v >= 0 and v<=10) else 10 if (v>10 and v<=20) else 20 if (v>20 and v<=30) \\\n",
    "          else 30 if (v>30 and v<=40) else 40 if (v>40 and v<=50) else 50 if (v>50 and v<=60)\\\n",
    "         else 60 if (v>60 and v<=70) else 70 if (v>70 and v<=80) else 80 if (v>80 and v<=90)\\\n",
    "         else 90 if (v>90 and v<=100) else 100 for v in edad_a]\n",
    "\n",
    "edad_v = [0 if (v >= 0 and v<=10) else 10 if (v>10 and v<=20) else 20 if (v>20 and v<=30) \\\n",
    "          else 30 if (v>30 and v<=40) else 40 if (v>40 and v<=50) else 50 if (v>50 and v<=60)\\\n",
    "         else 60 if (v>60 and v<=70) else 70 if (v>70 and v<=80) else 80 if (v>80 and v<=90)\\\n",
    "         else 90 if (v>90 and v<=100) else 100 for v in edad_v]\n",
    "di_edadA = {}\n",
    "di_edadV = {}\n",
    "\n",
    "from collections import Counter\n",
    "\n",
    "conteos = Counter([int(d) for d in edad_a])\n",
    "for edad in conteos:\n",
    "    di_edadA[edad] = conteos[edad]\n",
    "print(di_edadA)    \n",
    "    \n",
    "conteos2 = Counter([int(d) for d in edad_v])\n",
    "for edad in conteos2:\n",
    "    di_edadV[edad] = conteos2[edad]\n",
    "print(di_edadV)"
   ]
  },
  {
   "cell_type": "code",
   "execution_count": 73,
   "metadata": {},
   "outputs": [
    {
     "data": {
      "image/png": "[encoded data removed]",
      "text/plain": [
       "<Figure size 432x288 with 1 Axes>"
      ]
     },
     "metadata": {
      "needs_background": "light"
     },
     "output_type": "display_data"
    },
    {
     "data": {
      "image/png": "[encoded data removed]",
      "text/plain": [
       "<Figure size 432x288 with 1 Axes>"
      ]
     },
     "metadata": {
      "needs_background": "light"
     },
     "output_type": "display_data"
    }
   ],
   "source": [
    "xa = list(di_edadA.keys())\n",
    "ya = list(di_edadA.values())\n",
    "\n",
    "xv = list(di_edadV.keys())\n",
    "yv = list(di_edadV.values())\n",
    "\n",
    "from matplotlib import pyplot\n",
    "\n",
    "pyplot.figure()\n",
    "pyplot.bar(xa, ya, edgecolor = 'black', linewidth=1)\n",
    "pyplot.show()\n",
    "\n",
    "pyplot.figure()\n",
    "pyplot.bar(xv, yv, edgecolor = 'black')\n",
    "pyplot.show()"
   ]
  },
  {
   "cell_type": "code",
   "execution_count": 74,
   "metadata": {},
   "outputs": [
    {
     "data": {
      "image/png": "[encoded data removed]",
      "text/plain": [
       "<Figure size 432x288 with 1 Axes>"
      ]
     },
     "metadata": {
      "needs_background": "light"
     },
     "output_type": "display_data"
    },
    {
     "data": {
      "image/png": "[encoded data removed]",
      "text/plain": [
       "<Figure size 432x288 with 1 Axes>"
      ]
     },
     "metadata": {
      "needs_background": "light"
     },
     "output_type": "display_data"
    }
   ],
   "source": [
    "import numpy as np\n",
    "myarray = np.asarray(edad_a)\n",
    "qqplot_data = qqplot(myarray, line='s').gca().lines\n",
    "\n",
    "myarray2 = np.asarray(edad_v)\n",
    "qqplot_data = qqplot(myarray2, line='s').gca().lines"
   ]
  },
  {
   "cell_type": "code",
   "execution_count": 75,
   "metadata": {},
   "outputs": [
    {
     "name": "stdout",
     "output_type": "stream",
     "text": [
      "Edad víctimas\n",
      "Statistics=0.817, p=0.024\n",
      "NO normal\n",
      "-------------------\n",
      "Edad agresores\n",
      "Statistics=0.820, p=0.047\n",
      "NO normal\n"
     ]
    }
   ],
   "source": [
    "print(\"Edad víctimas\")\n",
    "stat, p = shapiro(yv)\n",
    "print('Statistics=%.3f, p=%.3f' % (stat, p))\n",
    "# interpret\n",
    "alpha = 0.05\n",
    "if p > alpha:\n",
    "    print('Normal')\n",
    "else:\n",
    "    print('NO normal')\n",
    "    \n",
    "print('-------------------')    \n",
    "print(\"Edad agresores\")\n",
    "stat, p = shapiro(ya)\n",
    "print('Statistics=%.3f, p=%.3f' % (stat, p))\n",
    "# interpret\n",
    "alpha = 0.05\n",
    "if p > alpha:\n",
    "    print('Normal')\n",
    "else:\n",
    "    print('NO normal')"
   ]
  },
  {
   "cell_type": "markdown",
   "metadata": {},
   "source": [
    "Se rechaza la hipótesis de normalidad ya que el _p-valor_ en ambos casos es menor que el estadístico de prueba."
   ]
  }
 ],
 "metadata": {
  "kernelspec": {
   "display_name": "Python 3",
   "language": "python",
   "name": "python3"
  },
  "language_info": {
   "codemirror_mode": {
    "name": "ipython",
    "version": 3
   },
   "file_extension": ".py",
   "mimetype": "text/x-python",
   "name": "python",
   "nbconvert_exporter": "python",
   "pygments_lexer": "ipython3",
   "version": "3.5.2"
  }
 },
 "nbformat": 4,
 "nbformat_minor": 2
}
