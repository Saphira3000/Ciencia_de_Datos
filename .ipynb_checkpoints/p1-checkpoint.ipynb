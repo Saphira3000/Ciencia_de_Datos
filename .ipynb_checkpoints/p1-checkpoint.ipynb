{
 "cells": [
  {
   "cell_type": "markdown",
   "metadata": {},
   "source": [
    "# Práctica 1: Preparación de datos con bash\n",
    "\n",
    "## Introducción\n",
    "\n",
    "Se trabajará con los datos reportados de violencia intrafamiliar, pandillerismo y suicidio en ocho municipios del estado de Nuevo León en el periodo 2006-2009. Los datos incluyen el cuadrante y plano de la colonia, dentro del municipio en el cual se reportó el inciddente. La base de datos de los suicidios registrados en el año 2009, contienen la fecha, lugar y método usado, así como si la persona dejó una nota o no.\n",
    "\n",
    "Con los datos obtenidos se plantean las siguientes preguntas de investigación:\n",
    "- ¿La zona influye en el tipo de incidente y número de casos?\n",
    "- ¿Qué factores influyen en los casos de suicidios?"
   ]
  },
  {
   "cell_type": "code",
   "execution_count": null,
   "metadata": {},
   "outputs": [],
   "source": []
  }
 ],
 "metadata": {
  "kernelspec": {
   "display_name": "Python 3",
   "language": "python",
   "name": "python3"
  },
  "language_info": {
   "codemirror_mode": {
    "name": "ipython",
    "version": 3
   },
   "file_extension": ".py",
   "mimetype": "text/x-python",
   "name": "python",
   "nbconvert_exporter": "python",
   "pygments_lexer": "ipython3",
   "version": "3.5.2"
  }
 },
 "nbformat": 4,
 "nbformat_minor": 2
}
