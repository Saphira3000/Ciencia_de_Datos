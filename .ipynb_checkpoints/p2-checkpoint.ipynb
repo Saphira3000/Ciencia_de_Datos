{
 "cells": [
  {
   "cell_type": "markdown",
   "metadata": {},
   "source": [
    "# Práctica 2: Lectura y manipulación de datos con pandas\n",
    "## Gabriela Sánchez Y.\n",
    "\n"
   ]
  },
  {
   "cell_type": "markdown",
   "metadata": {},
   "source": [
    "Se tienen datos de incidentes de violencia intrafamiliar registrados en el año 2018 en ocho diferentes mucipios del estado de Nuevo León. Los datos se encuentran en dos grupos, el primer grupo contiene los incidentes registrados en los meses de enero a noviembre, mientras que el segundo grupo contiene los incidentes registrados en el mes de diciembre. \n",
    "\n",
    "El objetivo de la práctica es la manipulación de datos usando la librería pandas, se proparán algunas de las siguientes funcionalidades:\n",
    "- leer data frames de archivos\n",
    "- escribir data frames en CSV\n",
    "- agregar o eliminar columnas en data frames\n",
    "- combinar dos o más data frames\n",
    "- filtrar renglones.\n",
    "\n",
    "Primero cargamos nuestros datos "
   ]
  },
  {
   "cell_type": "code",
   "execution_count": 43,
   "metadata": {},
   "outputs": [],
   "source": [
    "import pandas as pd\n",
    "vf1 = pd.read_csv(\"/home/saphira/Desktop/datos/vf_Ene-nov.csv\")\n",
    "vf2 = pd.read_csv(\"/home/saphira/Desktop/datos/vf_Dic.csv\")"
   ]
  },
  {
   "cell_type": "markdown",
   "metadata": {},
   "source": [
    "Primero intentaremos combinar ambos data frames para obtener uno solo que contenga los datos registrados de todo el año."
   ]
  },
  {
   "cell_type": "code",
   "execution_count": 48,
   "metadata": {},
   "outputs": [],
   "source": [
    "vf = pd.concat([vf1,vf2])"
   ]
  },
  {
   "cell_type": "markdown",
   "metadata": {},
   "source": [
    "Al hacer la concatenación se conservan los índices originales. Para evitar futuros problemas lo solucionamos con la siguiente instrucción:"
   ]
  },
  {
   "cell_type": "code",
   "execution_count": 49,
   "metadata": {},
   "outputs": [],
   "source": [
    "vf.index = range(vf.shape[0])"
   ]
  },
  {
   "cell_type": "markdown",
   "metadata": {},
   "source": [
    "Por curiosidad, revisamos si todo va bien con la lectura de los datos. De antemano sabemos que tenemos 47 columnas y 16411 renglones contando el encabezado."
   ]
  },
  {
   "cell_type": "code",
   "execution_count": 50,
   "metadata": {},
   "outputs": [
    {
     "data": {
      "text/plain": [
       "771270"
      ]
     },
     "execution_count": 50,
     "metadata": {},
     "output_type": "execute_result"
    }
   ],
   "source": [
    "vf.size"
   ]
  },
  {
   "cell_type": "code",
   "execution_count": 26,
   "metadata": {},
   "outputs": [
    {
     "name": "stdout",
     "output_type": "stream",
     "text": [
      "771270\n"
     ]
    }
   ],
   "source": [
    "print(16410*47)"
   ]
  },
  {
   "cell_type": "markdown",
   "metadata": {},
   "source": [
    "Ahora agregaremos una columna dummy al final del data frame y después la eliminaremos junto con las últimas tres columnas del data frame original y revisamos que lo hayamos hecho bien."
   ]
  },
  {
   "cell_type": "code",
   "execution_count": 51,
   "metadata": {},
   "outputs": [
    {
     "data": {
      "text/plain": [
       "Index(['MES', 'MUNICIPIO HECHOS', 'COLONIA', 'DELITO', 'MODALIDAD',\n",
       "       'FECHA HECHOS', 'VIOLENCIA', 'TIPO VIOLENCIA', 'CALLE', 'ENTRE CALLE',\n",
       "       'NUMERO EXTERIOR', 'NUMERO INTERIOR', 'HORA HECHOS', 'CARPETA',\n",
       "       'FECHA APERTURA', 'UNIDAD DE INVESTIGACION', 'ESPECIALIDAD', 'JEFATURA',\n",
       "       'REGION', 'TIPO LUGAR', 'TIPO ARMA', 'VICTIMA', 'SEXO',\n",
       "       'EDADES (VICTIMA)', 'PARENTESCO', 'ESTADO CIVIL', 'OCUPACION',\n",
       "       'ESCOLARIDAD', 'DIRECCION (VICTIMA)', 'RELIGION',\n",
       "       'ES LA PRIMERA AGRESION', 'DESDE CUANDO RECIBE AGRESIONES',\n",
       "       'ALGUIEN MAS RECIBIO AGRESIONES', 'RECIBIO ATENCION PSICOLOGICA',\n",
       "       'RECIBIO ATENCION MEDICA', 'AGRESOR', 'SEXO.1', 'EDADES (AGRESOR)',\n",
       "       'ESTADO CIVIL.1', 'OCUPACION.1', 'ESCOLARIDAD.1', 'DIRECCION (AGRESOR)',\n",
       "       'RELIGION.1', 'RECIBIO ATENCION PSICOLOGICA.1',\n",
       "       'TIPO Y GRAVEDAD DE LA AGRESION', 'INGRESO MENSUAL (FAMILIAR)',\n",
       "       'MOTIVO DE LA AGRESION', 'dummy'],\n",
       "      dtype='object')"
      ]
     },
     "execution_count": 51,
     "metadata": {},
     "output_type": "execute_result"
    }
   ],
   "source": [
    "vf.loc[:,\"dummy\"] = 0\n",
    "vf.columns"
   ]
  },
  {
   "cell_type": "code",
   "execution_count": 52,
   "metadata": {},
   "outputs": [
    {
     "data": {
      "text/plain": [
       "Index(['MES', 'MUNICIPIO HECHOS', 'COLONIA', 'DELITO', 'MODALIDAD',\n",
       "       'FECHA HECHOS', 'VIOLENCIA', 'TIPO VIOLENCIA', 'CALLE', 'ENTRE CALLE',\n",
       "       'NUMERO EXTERIOR', 'NUMERO INTERIOR', 'HORA HECHOS', 'CARPETA',\n",
       "       'FECHA APERTURA', 'UNIDAD DE INVESTIGACION', 'ESPECIALIDAD', 'JEFATURA',\n",
       "       'REGION', 'TIPO LUGAR', 'TIPO ARMA', 'VICTIMA', 'SEXO',\n",
       "       'EDADES (VICTIMA)', 'PARENTESCO', 'ESTADO CIVIL', 'OCUPACION',\n",
       "       'ESCOLARIDAD', 'DIRECCION (VICTIMA)', 'RELIGION',\n",
       "       'ES LA PRIMERA AGRESION', 'DESDE CUANDO RECIBE AGRESIONES',\n",
       "       'ALGUIEN MAS RECIBIO AGRESIONES', 'RECIBIO ATENCION PSICOLOGICA',\n",
       "       'RECIBIO ATENCION MEDICA', 'AGRESOR', 'SEXO.1', 'EDADES (AGRESOR)',\n",
       "       'ESTADO CIVIL.1', 'OCUPACION.1', 'ESCOLARIDAD.1', 'DIRECCION (AGRESOR)',\n",
       "       'RELIGION.1', 'RECIBIO ATENCION PSICOLOGICA.1'],\n",
       "      dtype='object')"
      ]
     },
     "execution_count": 52,
     "metadata": {},
     "output_type": "execute_result"
    }
   ],
   "source": [
    "del vf[\"MOTIVO DE LA AGRESION\"]\n",
    "vf = vf.drop([\"TIPO Y GRAVEDAD DE LA AGRESION\", \"INGRESO MENSUAL (FAMILIAR)\",\"dummy\"], axis = 1)\n",
    "vf.columns"
   ]
  },
  {
   "cell_type": "markdown",
   "metadata": {},
   "source": [
    "Efectivamente hemos eliminado las columnas que deseabamos. Finalmente guardamos nuestro data frame en un archivo CSV."
   ]
  },
  {
   "cell_type": "code",
   "execution_count": 59,
   "metadata": {},
   "outputs": [],
   "source": [
    "vf.to_csv('vf_final.csv', header=True, index=False)"
   ]
  }
 ],
 "metadata": {
  "kernelspec": {
   "display_name": "Python 3",
   "language": "python",
   "name": "python3"
  },
  "language_info": {
   "codemirror_mode": {
    "name": "ipython",
    "version": 3
   },
   "file_extension": ".py",
   "mimetype": "text/x-python",
   "name": "python",
   "nbconvert_exporter": "python",
   "pygments_lexer": "ipython3",
   "version": "3.5.2"
  }
 },
 "nbformat": 4,
 "nbformat_minor": 2
}
