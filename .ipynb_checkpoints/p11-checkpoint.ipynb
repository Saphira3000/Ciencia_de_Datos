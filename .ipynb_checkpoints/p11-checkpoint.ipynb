{
 "cells": [
  {
   "cell_type": "markdown",
   "metadata": {},
   "source": [
    "# Práctica 11: Agrupamiento de datos\n",
    "## Gabriela Sánchez Y.\n",
    "\n",
    "El objetivo del agrupamiento es descubrir sí o no los datos forman grupos con elementos similares de tal forma que todos los grupos difieren entre sí en algunos aspectos. Para poder llevar a cabo un agrupamiento, primero se necesita establecer una o más medidas de similitud entre los datos o alternativamente una o más medidas de distancia. \n",
    "\n",
    "El objetivo de esta práctica es seleccionar por lo menos dos algoritmos distintos para llevar a cabo agrupamiento con por lo menos dos atributos del caso de estudio, reportando los hallazgos con gráficas y con medidas de calidad.\n",
    "\n",
    "\n",
    "\n",
    "Como es de costumbre, seguimos un tutorial sobre agrupamiento de la documentación de scikit-learn.\n",
    "\n",
    "Comenzamos con el algoritmo de k medias que requiere como parámetro a cuántos grupos se quiere agrupar los datos. Se asignan k centroides y se asocian los datos al centroide más cercano, iterativamente reacomodando los centroides para minimizar las distancias entre los datos y sus centroides.\n",
    "\n",
    "Estudiando los ejemplos de uso de los algoritmos del tutorial de sklearn, selecciona por lo menos dos algoritmos distintos para llevar a cabo agrupamiento con por lo menos dos atributos de tu caso de estudio (se puede aplicar PCA para lograr visualizaciones bidimensionales con mayores cantidades de atributos), reportando los hallazgos con gráficas y con medidas de calidad (checa sklearn.metrics)."
   ]
  }
 ],
 "metadata": {
  "kernelspec": {
   "display_name": "Python 3",
   "language": "python",
   "name": "python3"
  },
  "language_info": {
   "codemirror_mode": {
    "name": "ipython",
    "version": 3
   },
   "file_extension": ".py",
   "mimetype": "text/x-python",
   "name": "python",
   "nbconvert_exporter": "python",
   "pygments_lexer": "ipython3",
   "version": "3.5.2"
  }
 },
 "nbformat": 4,
 "nbformat_minor": 2
}
