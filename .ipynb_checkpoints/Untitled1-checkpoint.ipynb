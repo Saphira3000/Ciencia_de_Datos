{
 "cells": [
  {
   "cell_type": "code",
   "execution_count": 15,
   "metadata": {},
   "outputs": [],
   "source": [
    "import pandas as pd\n",
    "datos = pd.read_csv(\"/home/saphira/Desktop/datos/vf_p3.csv\")"
   ]
  },
  {
   "cell_type": "code",
   "execution_count": 57,
   "metadata": {},
   "outputs": [],
   "source": [
    "prueba = datos.edad_v\n",
    "#print(prueba[:10])\n",
    "limpios = []\n",
    "for dato in prueba:\n",
    "    s = str(dato).replace(\",\", \" \")\n",
    "    pedazos = s.split()   \n",
    "    while \"a\" in pedazos:\n",
    "        pos = pedazos.index(\"a\")\n",
    "        desde = int(pedazos[pos - 1])\n",
    "        hasta = int(pedazos[pos + 1])\n",
    "        prom = (desde + hasta) // 2\n",
    "        limpios.append(prom)\n",
    "        #print(pedazos, prom)\n",
    "        pedazos = pedazos[:(pos - 1)] + pedazos[(pos + 2):]\n",
    "    limpios += pedazos\n",
    "limpios = list(filter(lambda dato: dato != \"NE\", limpios))   \n",
    "from collections import Counter\n",
    "#conteos = Counter([int(d) for d in limpios])\n",
    "#for edad in conteos:\n",
    " #   print(edad, conteos[edad])\n",
    "#len(limpios)"
   ]
  },
  {
   "cell_type": "code",
   "execution_count": 42,
   "metadata": {},
   "outputs": [],
   "source": [
    "sexo = datos.sexo_v\n",
    "sexo_v = []\n",
    "for a in sexo:\n",
    "    b = str(a).replace(\",\", \" \")\n",
    "    b = b.split()\n",
    "    #print(b)\n",
    "    sexo_v += b\n",
    "    \n",
    "#sexo_v"
   ]
  },
  {
   "cell_type": "code",
   "execution_count": 93,
   "metadata": {},
   "outputs": [
    {
     "name": "stdout",
     "output_type": "stream",
     "text": [
      "sexo 16410\n"
     ]
    },
    {
     "data": {
      "text/plain": [
       "17809"
      ]
     },
     "execution_count": 93,
     "metadata": {},
     "output_type": "execute_result"
    }
   ],
   "source": [
    "sexo = datos.sexo_v.unique()\n",
    "print(\"sexo\", len(datos.sexo_v))\n",
    "len(datos.edad_v)\n",
    "#sexo = str(sexo)\n",
    "#sexo = sexo.split()\n",
    "len(sexo_v)"
   ]
  },
  {
   "cell_type": "code",
   "execution_count": 102,
   "metadata": {},
   "outputs": [],
   "source": [
    "edada = datos.edad_a\n",
    "#print(prueba[:10])\n",
    "edad_a = []\n",
    "for dato in edada:\n",
    "    s = str(dato).replace(\",\", \" \")\n",
    "    pedazos = s.split()   \n",
    "    while \"a\" in pedazos:\n",
    "        pos = pedazos.index(\"a\")\n",
    "        desde = int(pedazos[pos - 1])\n",
    "        hasta = int(pedazos[pos + 1])\n",
    "        prom = (desde + hasta) // 2\n",
    "        edad_a.append(prom)\n",
    "        #print(pedazos, prom)\n",
    "        pedazos = pedazos[:(pos - 1)] + pedazos[(pos + 2):]\n",
    "        #print(pedazos)\n",
    "    edad_a += pedazos\n",
    "\n",
    "#print(edad_a)\n",
    "edad_a = list(filter(lambda dato: dato != \"NE\", edad_a))\n",
    "edad_a = list(filter(lambda dato: dato != \"nan\", edad_a))\n",
    "#print(int(edad_a))\n",
    "edad_a = [float(v) for v in edad_a]\n",
    "edad_a = [int(v) for v in edad_a]\n",
    "#from collections import Counter\n",
    "#conteos = Counter([int(d) for d in edad_a])\n",
    "#for edad in conteos:\n",
    "#    print(edad, conteos[edad])\n",
    "#edad_a"
   ]
  },
  {
   "cell_type": "code",
   "execution_count": 103,
   "metadata": {},
   "outputs": [
    {
     "data": {
      "text/plain": [
       "16184"
      ]
     },
     "execution_count": 103,
     "metadata": {},
     "output_type": "execute_result"
    }
   ],
   "source": [
    "len(edad_a)"
   ]
  },
  {
   "cell_type": "code",
   "execution_count": 100,
   "metadata": {},
   "outputs": [
    {
     "name": "stdout",
     "output_type": "stream",
     "text": [
      "M 14314\n",
      "F 2557\n"
     ]
    }
   ],
   "source": [
    "sexos = datos.sexo_a\n",
    "sexo_a = []\n",
    "for a in sexos:\n",
    "    b = str(a).replace(\",\", \" \")\n",
    "    b = b.split()\n",
    "    #print(b)\n",
    "    sexo_a += b\n",
    "sexo_a = list(filter(lambda dato: dato != \"nan\", sexo_a))\n",
    "\n",
    "conteos = Counter([d for d in sexo_a])\n",
    "for i in conteos:\n",
    "    print(i, conteos[i])\n",
    "#edad_a"
   ]
  },
  {
   "cell_type": "code",
   "execution_count": 105,
   "metadata": {},
   "outputs": [
    {
     "data": {
      "text/plain": [
       "array(['M', 'F', 'M M', 'M F M', 'M F', 'M M F F F M', nan, 'F M', 'F F',\n",
       "       'M M F', 'M M M M M', 'M F F', 'F F M M F M', 'F M F', 'F F M',\n",
       "       'M F M M', 'M M M', 'F M M', 'F F F', 'F F F F F', 'M M F F',\n",
       "       'M F M F F M F', 'F F F F', 'M M M M', 'F M M F', 'F F F M',\n",
       "       'F M F F', 'F M F M M', 'M, F', 'F, M', 'F, F', 'M, M', 'M, M, F'],\n",
       "      dtype=object)"
      ]
     },
     "execution_count": 105,
     "metadata": {},
     "output_type": "execute_result"
    }
   ],
   "source": [
    "datos.sexo_a.unique()"
   ]
  },
  {
   "cell_type": "code",
   "execution_count": 115,
   "metadata": {},
   "outputs": [],
   "source": [
    "di_edad = {}\n",
    "from collections import Counter\n",
    "conteos = Counter([int(d) for d in edad_a])\n",
    "for edad in conteos:\n",
    "    #print(conteos[edad])\n",
    "    di_edad[edad] = conteos[edad]\n",
    "#edad_a"
   ]
  },
  {
   "cell_type": "code",
   "execution_count": 118,
   "metadata": {},
   "outputs": [
    {
     "ename": "ValueError",
     "evalue": "If using all scalar values, you must pass an index",
     "output_type": "error",
     "traceback": [
      "\u001b[0;31m---------------------------------------------------------------------------\u001b[0m",
      "\u001b[0;31mValueError\u001b[0m                                Traceback (most recent call last)",
      "\u001b[0;32m<ipython-input-118-11e935bd2bd4>\u001b[0m in \u001b[0;36m<module>\u001b[0;34m\u001b[0m\n\u001b[1;32m      1\u001b[0m \u001b[0;31m#di_edad\u001b[0m\u001b[0;34m\u001b[0m\u001b[0;34m\u001b[0m\u001b[0m\n\u001b[0;32m----> 2\u001b[0;31m \u001b[0mdf\u001b[0m \u001b[0;34m=\u001b[0m \u001b[0mpd\u001b[0m\u001b[0;34m.\u001b[0m\u001b[0mDataFrame\u001b[0m\u001b[0;34m(\u001b[0m\u001b[0mdi_edad\u001b[0m\u001b[0;34m)\u001b[0m\u001b[0;34m\u001b[0m\u001b[0m\n\u001b[0m",
      "\u001b[0;32m/usr/lib/python3/dist-packages/pandas/core/frame.py\u001b[0m in \u001b[0;36m__init__\u001b[0;34m(self, data, index, columns, dtype, copy)\u001b[0m\n\u001b[1;32m    224\u001b[0m                                  dtype=dtype, copy=copy)\n\u001b[1;32m    225\u001b[0m         \u001b[0;32melif\u001b[0m \u001b[0misinstance\u001b[0m\u001b[0;34m(\u001b[0m\u001b[0mdata\u001b[0m\u001b[0;34m,\u001b[0m \u001b[0mdict\u001b[0m\u001b[0;34m)\u001b[0m\u001b[0;34m:\u001b[0m\u001b[0;34m\u001b[0m\u001b[0m\n\u001b[0;32m--> 226\u001b[0;31m             \u001b[0mmgr\u001b[0m \u001b[0;34m=\u001b[0m \u001b[0mself\u001b[0m\u001b[0;34m.\u001b[0m\u001b[0m_init_dict\u001b[0m\u001b[0;34m(\u001b[0m\u001b[0mdata\u001b[0m\u001b[0;34m,\u001b[0m \u001b[0mindex\u001b[0m\u001b[0;34m,\u001b[0m \u001b[0mcolumns\u001b[0m\u001b[0;34m,\u001b[0m \u001b[0mdtype\u001b[0m\u001b[0;34m=\u001b[0m\u001b[0mdtype\u001b[0m\u001b[0;34m)\u001b[0m\u001b[0;34m\u001b[0m\u001b[0m\n\u001b[0m\u001b[1;32m    227\u001b[0m         \u001b[0;32melif\u001b[0m \u001b[0misinstance\u001b[0m\u001b[0;34m(\u001b[0m\u001b[0mdata\u001b[0m\u001b[0;34m,\u001b[0m \u001b[0mma\u001b[0m\u001b[0;34m.\u001b[0m\u001b[0mMaskedArray\u001b[0m\u001b[0;34m)\u001b[0m\u001b[0;34m:\u001b[0m\u001b[0;34m\u001b[0m\u001b[0m\n\u001b[1;32m    228\u001b[0m             \u001b[0;32mimport\u001b[0m \u001b[0mnumpy\u001b[0m\u001b[0;34m.\u001b[0m\u001b[0mma\u001b[0m\u001b[0;34m.\u001b[0m\u001b[0mmrecords\u001b[0m \u001b[0;32mas\u001b[0m \u001b[0mmrecords\u001b[0m\u001b[0;34m\u001b[0m\u001b[0m\n",
      "\u001b[0;32m/usr/lib/python3/dist-packages/pandas/core/frame.py\u001b[0m in \u001b[0;36m_init_dict\u001b[0;34m(self, data, index, columns, dtype)\u001b[0m\n\u001b[1;32m    361\u001b[0m \u001b[0;34m\u001b[0m\u001b[0m\n\u001b[1;32m    362\u001b[0m         return _arrays_to_mgr(arrays, data_names, index, columns,\n\u001b[0;32m--> 363\u001b[0;31m                               dtype=dtype)\n\u001b[0m\u001b[1;32m    364\u001b[0m \u001b[0;34m\u001b[0m\u001b[0m\n\u001b[1;32m    365\u001b[0m     def _init_ndarray(self, values, index, columns, dtype=None,\n",
      "\u001b[0;32m/usr/lib/python3/dist-packages/pandas/core/frame.py\u001b[0m in \u001b[0;36m_arrays_to_mgr\u001b[0;34m(arrays, arr_names, index, columns, dtype)\u001b[0m\n\u001b[1;32m   5156\u001b[0m     \u001b[0;31m# figure out the index, if necessary\u001b[0m\u001b[0;34m\u001b[0m\u001b[0;34m\u001b[0m\u001b[0m\n\u001b[1;32m   5157\u001b[0m     \u001b[0;32mif\u001b[0m \u001b[0mindex\u001b[0m \u001b[0;32mis\u001b[0m \u001b[0;32mNone\u001b[0m\u001b[0;34m:\u001b[0m\u001b[0;34m\u001b[0m\u001b[0m\n\u001b[0;32m-> 5158\u001b[0;31m         \u001b[0mindex\u001b[0m \u001b[0;34m=\u001b[0m \u001b[0mextract_index\u001b[0m\u001b[0;34m(\u001b[0m\u001b[0marrays\u001b[0m\u001b[0;34m)\u001b[0m\u001b[0;34m\u001b[0m\u001b[0m\n\u001b[0m\u001b[1;32m   5159\u001b[0m     \u001b[0;32melse\u001b[0m\u001b[0;34m:\u001b[0m\u001b[0;34m\u001b[0m\u001b[0m\n\u001b[1;32m   5160\u001b[0m         \u001b[0mindex\u001b[0m \u001b[0;34m=\u001b[0m \u001b[0m_ensure_index\u001b[0m\u001b[0;34m(\u001b[0m\u001b[0mindex\u001b[0m\u001b[0;34m)\u001b[0m\u001b[0;34m\u001b[0m\u001b[0m\n",
      "\u001b[0;32m/usr/lib/python3/dist-packages/pandas/core/frame.py\u001b[0m in \u001b[0;36mextract_index\u001b[0;34m(data)\u001b[0m\n\u001b[1;32m   5195\u001b[0m \u001b[0;34m\u001b[0m\u001b[0m\n\u001b[1;32m   5196\u001b[0m         \u001b[0;32mif\u001b[0m \u001b[0;32mnot\u001b[0m \u001b[0mindexes\u001b[0m \u001b[0;32mand\u001b[0m \u001b[0;32mnot\u001b[0m \u001b[0mraw_lengths\u001b[0m\u001b[0;34m:\u001b[0m\u001b[0;34m\u001b[0m\u001b[0m\n\u001b[0;32m-> 5197\u001b[0;31m             raise ValueError('If using all scalar values, you must pass'\n\u001b[0m\u001b[1;32m   5198\u001b[0m                              ' an index')\n\u001b[1;32m   5199\u001b[0m \u001b[0;34m\u001b[0m\u001b[0m\n",
      "\u001b[0;31mValueError\u001b[0m: If using all scalar values, you must pass an index"
     ]
    }
   ],
   "source": [
    "#di_edad\n",
    "df = pd.DataFrame(di_edad)"
   ]
  },
  {
   "cell_type": "code",
   "execution_count": null,
   "metadata": {},
   "outputs": [],
   "source": []
  }
 ],
 "metadata": {
  "kernelspec": {
   "display_name": "Python 3",
   "language": "python",
   "name": "python3"
  },
  "language_info": {
   "codemirror_mode": {
    "name": "ipython",
    "version": 3
   },
   "file_extension": ".py",
   "mimetype": "text/x-python",
   "name": "python",
   "nbconvert_exporter": "python",
   "pygments_lexer": "ipython3",
   "version": "3.5.2"
  }
 },
 "nbformat": 4,
 "nbformat_minor": 2
}
