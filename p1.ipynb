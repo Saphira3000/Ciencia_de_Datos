{
 "cells": [
  {
   "cell_type": "markdown",
   "metadata": {},
   "source": [
    "# Práctica 1: Preparación de datos con bash\n",
    "## Gabriela Sánchez Y.\n",
    "\n",
    "### Introducción\n",
    "\n",
    "Se trabajará con los datos de incidentes de violencia intrafamiliar y comunitaria reportados en municipios del estado de Nuevo León en el periodo enero-diciembre 2018.\n",
    "\n",
    "Los registros contienen 47 columnas de las cuales únicamente 17 proporcionan información relevante, sin datos personales, que serán usados en el análisis. Estos registros proveen la siguiente información \n",
    "- Mes\n",
    "- Municipio\n",
    "- Fecha\n",
    "- Hora,\n",
    "\n",
    "esto sobre el lugar,fecha y hora del incidente. De las víctimas y agresores se recopilan lo siguientes datos \n",
    "- Número de víctimas y agresores en el incidente \n",
    "- Sexo\n",
    "- Edad\n",
    "- Parentesco con el agresor\n",
    "- Estado civil\n",
    "- Ocupación\n",
    "- Escolaridad.\n",
    "En total se tienen 16410 registros.\n",
    "\n",
    "El principal objetivo del análisis de los datos es identificar los grupos vulnerables de víctimas y las posibles causas al problema que permitan planear estrategias de prevención.\n",
    "\n",
    "Con esto en mente se plantean algunas preguntas de investigación que pueden cambiar a lo largo del curso del estudio:\n",
    "- ¿Cuál es la influencia del factor fecha y hora en la cantidad de incidentes?\n",
    "- ¿Cuál es la influencia del factor lugar en la cantidad de incidentes?\n",
    "- ¿La escolaridad influye en el número de casos?\n",
    "- ¿Cuál es el grupo de edades más vulnerable?\n",
    "\n",
    "### Preprocesamiento de los datos\n",
    "\n",
    "Los datos fueron proporcionados por la doctora Patricia L. Cerda, en formato xlsx. Se presentan en dos archivos, el primero contiene los incidentes de violencia intrafamiliar y comunitaria presentados durante los meses de enero a noviembre en el año 2018 y el segundo, los incidentes del resto del año, teniendo un total de 16 410 reportes.\n",
    "\n",
    "El único preprocesamiento que se realizó con bash fue convertir los archivos de los datos a un formato manejable, esto es, _csv_, con la siguiente instrucción:\n",
    "\n",
    "    sscovert datos.xlsx vf.csv"
   ]
  }
 ],
 "metadata": {
  "kernelspec": {
   "display_name": "Python 3",
   "language": "python",
   "name": "python3"
  },
  "language_info": {
   "codemirror_mode": {
    "name": "ipython",
    "version": 3
   },
   "file_extension": ".py",
   "mimetype": "text/x-python",
   "name": "python",
   "nbconvert_exporter": "python",
   "pygments_lexer": "ipython3",
   "version": "3.5.2"
  }
 },
 "nbformat": 4,
 "nbformat_minor": 2
}
