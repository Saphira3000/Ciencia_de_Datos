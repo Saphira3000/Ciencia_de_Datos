{
 "cells": [
  {
   "cell_type": "markdown",
   "metadata": {},
   "source": [
    "# Práctica 4: Visualización de información con plotly\n",
    "## Gabriela Sánchez Y.\n",
    "\n",
    "El objetivo de la práctica es la visualización de la información a través de gráficos.\n",
    "\n",
    "Se cargan los datos para comenzar a trabajar."
   ]
  },
  {
   "cell_type": "code",
   "execution_count": 103,
   "metadata": {},
   "outputs": [],
   "source": [
    "import pandas as pd\n",
    "datos = pd.read_csv(\"/home/saphira/Desktop/datos/vf_p3.csv\")"
   ]
  },
  {
   "cell_type": "markdown",
   "metadata": {},
   "source": [
    "### Edades de víctimas y agresores\n",
    "\n",
    "El primer paso que se realiza en la práctica es visualizar la información correspondiente a las edades de las víctimas y agresores. Esta información no fue analizada previamente ya que se requería de cierto preprocesamiento. \n",
    "\n",
    "Se muestra el preprocesamiento correspondiente para cada uno de los casos:"
   ]
  },
  {
   "cell_type": "code",
   "execution_count": 104,
   "metadata": {},
   "outputs": [],
   "source": [
    "edadv = datos.edad_v # edades de las victimas\n",
    "edad_v = []\n",
    "for dato in edadv:\n",
    "    s = str(dato).replace(\",\", \" \")\n",
    "    pedazos = s.split()   \n",
    "    while \"a\" in pedazos:\n",
    "        pos = pedazos.index(\"a\")\n",
    "        desde = int(pedazos[pos - 1])\n",
    "        hasta = int(pedazos[pos + 1])\n",
    "        prom = (desde + hasta) // 2\n",
    "        edad_v.append(prom)\n",
    "        pedazos = pedazos[:(pos - 1)] + pedazos[(pos + 2):]\n",
    "    edad_v += pedazos\n",
    "edad_v = list(filter(lambda dato: dato != \"NE\", edad_v))  \n",
    "\n",
    "edada = datos.edad_a\n",
    "edad_a = []\n",
    "for dato in edada:\n",
    "    s = str(dato).replace(\",\", \" \")\n",
    "    pedazos = s.split()   \n",
    "    while \"a\" in pedazos:\n",
    "        pos = pedazos.index(\"a\")\n",
    "        desde = int(pedazos[pos - 1])\n",
    "        hasta = int(pedazos[pos + 1])\n",
    "        prom = (desde + hasta) // 2\n",
    "        edad_a.append(prom)\n",
    "        pedazos = pedazos[:(pos - 1)] + pedazos[(pos + 2):]\n",
    "    edad_a += pedazos\n",
    "\n",
    "edad_a = list(filter(lambda dato: dato != \"NE\", edad_a))\n",
    "edad_a = list(filter(lambda dato: dato != \"nan\", edad_a))\n",
    "edad_a = [float(v) for v in edad_a]\n",
    "edad_a = [int(v) for v in edad_a]"
   ]
  },
  {
   "cell_type": "code",
   "execution_count": 105,
   "metadata": {},
   "outputs": [],
   "source": [
    "di_edadA = {}\n",
    "di_edadV = {}\n",
    "\n",
    "from collections import Counter\n",
    "\n",
    "conteos = Counter([int(d) for d in edad_a])\n",
    "for edad in conteos:\n",
    "    di_edadA[edad] = conteos[edad]\n",
    "    \n",
    "conteos2 = Counter([int(d) for d in edad_v])\n",
    "for edad in conteos2:\n",
    "    di_edadV[edad] = conteos2[edad]"
   ]
  },
  {
   "cell_type": "markdown",
   "metadata": {},
   "source": [
    "Se grafica en un diagrama de barras las edades de víctimas y agresores en los casos reportados. El rango de edades para las víctimas es desde 0-93, encontrandose la mayoría de los casos en el rango 16-55 años, es importante recalcar que se presentan incidentes incluso en menores de cinco años y mayores de 80 años.\n",
    "\n",
    "El rango de edades de los agresores es de los 18 a los 87 años. Las edades con mayor incidencia son 23, 27, 33 y 38 años.\n",
    "\n",
    "La media para las víctimas es de 48 años, mientras que para los agresores es 52."
   ]
  },
  {
   "cell_type": "code",
   "execution_count": 106,
   "metadata": {
    "scrolled": true
   },
   "outputs": [
    {
     "data": {
      "text/html": [
       "<iframe id=\"igraph\" scrolling=\"no\" style=\"border:none;\" seamless=\"seamless\" src=\"https://plot.ly/~SaphiraSan/18.embed\" height=\"525px\" width=\"100%\"></iframe>"
      ],
      "text/plain": [
       "<plotly.tools.PlotlyDisplay object>"
      ]
     },
     "execution_count": 106,
     "metadata": {},
     "output_type": "execute_result"
    }
   ],
   "source": [
    "import plotly\n",
    "import plotly.plotly as py\n",
    "import plotly.graph_objs as go\n",
    "import ssl\n",
    "\n",
    "plotly.tools.set_credentials_file(username='SaphiraSan', api_key='1MHTO2zHoYLTi0YpIiBz')\n",
    "\n",
    "if getattr(ssl, '_create_unverified_context', None):\n",
    "    ssl._create_default_https_context = ssl._create_unverified_context\n",
    "    \n",
    "trace1 = go.Bar(\n",
    "    x = list(di_edadA.keys()),\n",
    "    y = list(di_edadA.values()),\n",
    "    name = 'Edad agresores'\n",
    ")\n",
    "trace2 = go.Bar(\n",
    "    x = list(di_edadV.keys()),\n",
    "    y = list(di_edadV.values()),\n",
    "    name = 'Edad victimas'\n",
    ")\n",
    "\n",
    "data = [trace1, trace2]\n",
    "layout = go.Layout(\n",
    "    barmode = 'group'\n",
    ")\n",
    "\n",
    "fig = go.Figure(data=data, layout=layout)\n",
    "py.iplot(fig, filename='edades')"
   ]
  },
  {
   "cell_type": "code",
   "execution_count": 107,
   "metadata": {
    "scrolled": true
   },
   "outputs": [
    {
     "data": {
      "text/html": [
       "<iframe id=\"igraph\" scrolling=\"no\" style=\"border:none;\" seamless=\"seamless\" src=\"https://plot.ly/~SaphiraSan/24.embed\" height=\"525px\" width=\"100%\"></iframe>"
      ],
      "text/plain": [
       "<plotly.tools.PlotlyDisplay object>"
      ]
     },
     "execution_count": 107,
     "metadata": {},
     "output_type": "execute_result"
    }
   ],
   "source": [
    "trace0 = go.Box(\n",
    "    y=list(di_edadA.keys()),\n",
    "    name = 'Agresores',\n",
    ")\n",
    "trace1 = go.Box(\n",
    "    y=list(di_edadV.keys()),\n",
    "    name = 'Víctimas',\n",
    ")\n",
    "data = [trace0, trace1]\n",
    "py.iplot(data)"
   ]
  },
  {
   "cell_type": "markdown",
   "metadata": {},
   "source": [
    "Se analiza si existe una correlación entre las edades de los agresores y la cantidad de ocurrencias."
   ]
  },
  {
   "cell_type": "code",
   "execution_count": 108,
   "metadata": {},
   "outputs": [
    {
     "data": {
      "text/plain": [
       "-0.6997018900857516"
      ]
     },
     "execution_count": 108,
     "metadata": {},
     "output_type": "execute_result"
    }
   ],
   "source": [
    "a = pd.DataFrame.from_dict(di_edadA, orient='index')\n",
    "a.loc[:,\"edad\"] = list(di_edadA.keys())\n",
    "a.index = range(a.shape[0])\n",
    "cols = ['incidentes','edad']\n",
    "a.columns = cols\n",
    "a['edad'].corr(a['incidentes'])"
   ]
  },
  {
   "cell_type": "markdown",
   "metadata": {},
   "source": [
    "Existe una relación fuerte inversa entre los datos. Para edades mayores, la cantidad de indicentes disminuye, esto puede observarse del gráfico de barras anterior."
   ]
  },
  {
   "cell_type": "markdown",
   "metadata": {},
   "source": [
    "### Incidentes por mes\n",
    "\n",
    "Se visualiza la información correspondiente a la cantidad de incidentes reportados por mes durante el año 2018. Como se había estudiado previamente, Junio fue el mes más agresivo con un total de 1788 incidentes correspondiente al 10.9% del total de casos reportados, mientras que Enero fue el mes con menor incidencia.\n",
    "\n",
    "La mayoría de los casos se presentan en el periodo Mayo-Septiembre."
   ]
  },
  {
   "cell_type": "code",
   "execution_count": 109,
   "metadata": {},
   "outputs": [
    {
     "data": {
      "text/html": [
       "<iframe id=\"igraph\" scrolling=\"no\" style=\"border:none;\" seamless=\"seamless\" src=\"https://plot.ly/~SaphiraSan/22.embed\" height=\"525px\" width=\"100%\"></iframe>"
      ],
      "text/plain": [
       "<plotly.tools.PlotlyDisplay object>"
      ]
     },
     "execution_count": 109,
     "metadata": {},
     "output_type": "execute_result"
    }
   ],
   "source": [
    "labels = datos.mes.unique()\n",
    "values = datos.mes.value_counts(sort=False)\n",
    "\n",
    "trace = go.Pie(labels=labels, values=values)\n",
    "\n",
    "py.iplot([trace], filename='incidentes_mes')"
   ]
  },
  {
   "cell_type": "markdown",
   "metadata": {},
   "source": [
    "### Incidentes por horas\n",
    "\n",
    "En el gráfico es posible observar que el rango 20:00-23:00 es el horario que muestra mayor incidencia. "
   ]
  },
  {
   "cell_type": "code",
   "execution_count": 110,
   "metadata": {},
   "outputs": [],
   "source": [
    "datos[\"hora\"] = [t.hour for t in pd.DatetimeIndex(datos.hora)]\n",
    "datos.to_csv('vf_p4.csv', header=True, index=False)"
   ]
  },
  {
   "cell_type": "code",
   "execution_count": 111,
   "metadata": {},
   "outputs": [
    {
     "data": {
      "text/html": [
       "<iframe id=\"igraph\" scrolling=\"no\" style=\"border:none;\" seamless=\"seamless\" src=\"https://plot.ly/~SaphiraSan/16.embed\" height=\"525px\" width=\"100%\"></iframe>"
      ],
      "text/plain": [
       "<plotly.tools.PlotlyDisplay object>"
      ]
     },
     "execution_count": 111,
     "metadata": {},
     "output_type": "execute_result"
    }
   ],
   "source": [
    "x = datos['hora'].value_counts()\n",
    "values = x.values\n",
    "a = x.to_frame().T\n",
    "\n",
    "data = [go.Bar(\n",
    "            x = a.columns.values,\n",
    "            y = values,\n",
    "            marker=dict(\n",
    "                color='rgb(107, 107, 107)')\n",
    "    )]\n",
    "\n",
    "py.iplot(data, filename='horas')\n"
   ]
  },
  {
   "cell_type": "markdown",
   "metadata": {},
   "source": [
    "### Incidentes por municipio"
   ]
  },
  {
   "cell_type": "code",
   "execution_count": 112,
   "metadata": {},
   "outputs": [
    {
     "data": {
      "text/html": [
       "<iframe id=\"igraph\" scrolling=\"no\" style=\"border:none;\" seamless=\"seamless\" src=\"https://plot.ly/~SaphiraSan/14.embed\" height=\"525px\" width=\"100%\"></iframe>"
      ],
      "text/plain": [
       "<plotly.tools.PlotlyDisplay object>"
      ]
     },
     "execution_count": 112,
     "metadata": {},
     "output_type": "execute_result"
    }
   ],
   "source": [
    "x = datos['mpio'].value_counts()\n",
    "values = x.values\n",
    "a = x.to_frame().T\n",
    "\n",
    "data = [go.Scatter(\n",
    "    x = a.columns.values,\n",
    "    y = values,\n",
    "    mode='markers',\n",
    "    marker=dict(\n",
    "        size=values,\n",
    "        sizemode='area',\n",
    "        sizeref=2.*max(values)/(40.**2),\n",
    "        sizemin=4\n",
    "    )\n",
    ")]\n",
    "py.iplot(data, filename='mpio')"
   ]
  },
  {
   "cell_type": "markdown",
   "metadata": {},
   "source": [
    "El municipio de Monterrey fue el que reportó la mayor cantidad de incidentes durante el año, le siguen Guadalupe, García, Apodaca y Escobedo. "
   ]
  }
 ],
 "metadata": {
  "kernelspec": {
   "display_name": "Python 3",
   "language": "python",
   "name": "python3"
  },
  "language_info": {
   "codemirror_mode": {
    "name": "ipython",
    "version": 3
   },
   "file_extension": ".py",
   "mimetype": "text/x-python",
   "name": "python",
   "nbconvert_exporter": "python",
   "pygments_lexer": "ipython3",
   "version": "3.5.2"
  }
 },
 "nbformat": 4,
 "nbformat_minor": 2
}
