{
 "cells": [
  {
   "cell_type": "markdown",
   "metadata": {},
   "source": [
    "Para limpiar los datos"
   ]
  },
  {
   "cell_type": "code",
   "execution_count": 61,
   "metadata": {},
   "outputs": [],
   "source": [
    "import pandas as pd\n",
    "vf1 = pd.read_csv(\"/home/saphira/Desktop/datos/vf_Ene-nov.csv\")\n",
    "vf2 = pd.read_csv(\"/home/saphira/Desktop/datos/vf_dic.csv\")\n",
    "\n",
    "vf = pd.concat([vf1,vf2])\n",
    "\n",
    "vf.index = range(vf.shape[0])"
   ]
  },
  {
   "cell_type": "code",
   "execution_count": 62,
   "metadata": {},
   "outputs": [
    {
     "data": {
      "text/plain": [
       "Index(['MES', 'MUNICIPIO HECHOS', 'COLONIA', 'DELITO', 'MODALIDAD',\n",
       "       'FECHA HECHOS', 'VIOLENCIA', 'TIPO VIOLENCIA', 'CALLE', 'ENTRE CALLE',\n",
       "       'NUMERO EXTERIOR', 'NUMERO INTERIOR', 'HORA HECHOS', 'CARPETA',\n",
       "       'FECHA APERTURA', 'UNIDAD DE INVESTIGACION', 'ESPECIALIDAD', 'JEFATURA',\n",
       "       'REGION', 'TIPO LUGAR', 'TIPO ARMA', 'VICTIMA', 'SEXO',\n",
       "       'EDADES (VICTIMA)', 'PARENTESCO', 'ESTADO CIVIL', 'OCUPACION',\n",
       "       'ESCOLARIDAD', 'DIRECCION (VICTIMA)', 'RELIGION',\n",
       "       'ES LA PRIMERA AGRESION', 'DESDE CUANDO RECIBE AGRESIONES',\n",
       "       'ALGUIEN MAS RECIBIO AGRESIONES', 'RECIBIO ATENCION PSICOLOGICA',\n",
       "       'RECIBIO ATENCION MEDICA', 'AGRESOR', 'SEXO.1', 'EDADES (AGRESOR)',\n",
       "       'ESTADO CIVIL.1', 'OCUPACION.1', 'ESCOLARIDAD.1', 'DIRECCION (AGRESOR)',\n",
       "       'RELIGION.1', 'RECIBIO ATENCION PSICOLOGICA.1',\n",
       "       'TIPO Y GRAVEDAD DE LA AGRESION', 'INGRESO MENSUAL (FAMILIAR)',\n",
       "       'MOTIVO DE LA AGRESION'],\n",
       "      dtype='object')"
      ]
     },
     "execution_count": 62,
     "metadata": {},
     "output_type": "execute_result"
    }
   ],
   "source": [
    "vf.columns"
   ]
  },
  {
   "cell_type": "markdown",
   "metadata": {},
   "source": [
    "Borramos columnas que contienen datos privados."
   ]
  },
  {
   "cell_type": "code",
   "execution_count": 63,
   "metadata": {},
   "outputs": [],
   "source": [
    "vf = vf.drop([\"CALLE\", \"ENTRE CALLE\", \"NUMERO EXTERIOR\", \"NUMERO INTERIOR\"], axis = 1)"
   ]
  },
  {
   "cell_type": "code",
   "execution_count": 64,
   "metadata": {},
   "outputs": [
    {
     "data": {
      "text/plain": [
       "Index(['MES', 'MUNICIPIO HECHOS', 'COLONIA', 'DELITO', 'MODALIDAD',\n",
       "       'FECHA HECHOS', 'VIOLENCIA', 'TIPO VIOLENCIA', 'HORA HECHOS', 'CARPETA',\n",
       "       'FECHA APERTURA', 'UNIDAD DE INVESTIGACION', 'ESPECIALIDAD', 'JEFATURA',\n",
       "       'REGION', 'TIPO LUGAR', 'TIPO ARMA', 'VICTIMA', 'SEXO',\n",
       "       'EDADES (VICTIMA)', 'PARENTESCO', 'ESTADO CIVIL', 'OCUPACION',\n",
       "       'ESCOLARIDAD', 'DIRECCION (VICTIMA)', 'RELIGION',\n",
       "       'ES LA PRIMERA AGRESION', 'DESDE CUANDO RECIBE AGRESIONES',\n",
       "       'ALGUIEN MAS RECIBIO AGRESIONES', 'RECIBIO ATENCION PSICOLOGICA',\n",
       "       'RECIBIO ATENCION MEDICA', 'AGRESOR', 'SEXO.1', 'EDADES (AGRESOR)',\n",
       "       'ESTADO CIVIL.1', 'OCUPACION.1', 'ESCOLARIDAD.1', 'DIRECCION (AGRESOR)',\n",
       "       'RELIGION.1', 'RECIBIO ATENCION PSICOLOGICA.1',\n",
       "       'TIPO Y GRAVEDAD DE LA AGRESION', 'INGRESO MENSUAL (FAMILIAR)',\n",
       "       'MOTIVO DE LA AGRESION'],\n",
       "      dtype='object')"
      ]
     },
     "execution_count": 64,
     "metadata": {},
     "output_type": "execute_result"
    }
   ],
   "source": [
    "vf.columns"
   ]
  },
  {
   "cell_type": "code",
   "execution_count": 65,
   "metadata": {},
   "outputs": [],
   "source": [
    "vf = vf.drop([\"DIRECCION (VICTIMA)\", \"DIRECCION (AGRESOR)\"], axis = 1)"
   ]
  },
  {
   "cell_type": "code",
   "execution_count": 66,
   "metadata": {},
   "outputs": [
    {
     "data": {
      "text/plain": [
       "Index(['MES', 'MUNICIPIO HECHOS', 'COLONIA', 'DELITO', 'MODALIDAD',\n",
       "       'FECHA HECHOS', 'VIOLENCIA', 'TIPO VIOLENCIA', 'HORA HECHOS', 'CARPETA',\n",
       "       'FECHA APERTURA', 'UNIDAD DE INVESTIGACION', 'ESPECIALIDAD', 'JEFATURA',\n",
       "       'REGION', 'TIPO LUGAR', 'TIPO ARMA', 'VICTIMA', 'SEXO',\n",
       "       'EDADES (VICTIMA)', 'PARENTESCO', 'ESTADO CIVIL', 'OCUPACION',\n",
       "       'ESCOLARIDAD', 'RELIGION', 'ES LA PRIMERA AGRESION',\n",
       "       'DESDE CUANDO RECIBE AGRESIONES', 'ALGUIEN MAS RECIBIO AGRESIONES',\n",
       "       'RECIBIO ATENCION PSICOLOGICA', 'RECIBIO ATENCION MEDICA', 'AGRESOR',\n",
       "       'SEXO.1', 'EDADES (AGRESOR)', 'ESTADO CIVIL.1', 'OCUPACION.1',\n",
       "       'ESCOLARIDAD.1', 'RELIGION.1', 'RECIBIO ATENCION PSICOLOGICA.1',\n",
       "       'TIPO Y GRAVEDAD DE LA AGRESION', 'INGRESO MENSUAL (FAMILIAR)',\n",
       "       'MOTIVO DE LA AGRESION'],\n",
       "      dtype='object')"
      ]
     },
     "execution_count": 66,
     "metadata": {},
     "output_type": "execute_result"
    }
   ],
   "source": [
    "vf.columns"
   ]
  },
  {
   "cell_type": "code",
   "execution_count": 67,
   "metadata": {},
   "outputs": [],
   "source": [
    "cols = ['mes', 'mpio', 'col', 'delito', 'mod', 'fecha', 'violencia', 'tipo', 'hora', 'carpeta', 'fecha_ap','u_inv', 'especialidad','jefatura','region','tipo_lugar', 'tipo_arma','victima', 'sexo_v','edad_v','parentesco','edo_civil','ocupacion','escolaridad','religion_v','1ra_agresion','desde_cuando','alguien_mas','atencion_psi','atencion_med','agresor', 'sexo_a','edad_a','edo_civil_a','ocupacion_a','escolaridad_a','religion_a','atencion_psi','tipo_grav','ingreso','motivo']\n",
    "vf.columns = cols"
   ]
  },
  {
   "cell_type": "code",
   "execution_count": 68,
   "metadata": {},
   "outputs": [
    {
     "data": {
      "text/plain": [
       "Index(['mes', 'mpio', 'col', 'delito', 'mod', 'fecha', 'violencia', 'tipo',\n",
       "       'hora', 'carpeta', 'fecha_ap', 'u_inv', 'especialidad', 'jefatura',\n",
       "       'region', 'tipo_lugar', 'tipo_arma', 'victima', 'sexo_v', 'edad_v',\n",
       "       'parentesco', 'edo_civil', 'ocupacion', 'escolaridad', 'religion_v',\n",
       "       '1ra_agresion', 'desde_cuando', 'alguien_mas', 'atencion_psi',\n",
       "       'atencion_med', 'agresor', 'sexo_a', 'edad_a', 'edo_civil_a',\n",
       "       'ocupacion_a', 'escolaridad_a', 'religion_a', 'atencion_psi',\n",
       "       'tipo_grav', 'ingreso', 'motivo'],\n",
       "      dtype='object')"
      ]
     },
     "execution_count": 68,
     "metadata": {},
     "output_type": "execute_result"
    }
   ],
   "source": [
    "vf.columns"
   ]
  },
  {
   "cell_type": "code",
   "execution_count": 70,
   "metadata": {},
   "outputs": [
    {
     "data": {
      "text/plain": [
       "array(['No lo tiene el SPA'], dtype=object)"
      ]
     },
     "execution_count": 70,
     "metadata": {},
     "output_type": "execute_result"
    }
   ],
   "source": [
    "vf.religion_v.unique()\n",
    "vf.religion_a.unique()"
   ]
  },
  {
   "cell_type": "code",
   "execution_count": 71,
   "metadata": {},
   "outputs": [
    {
     "data": {
      "text/plain": [
       "Index(['mes', 'mpio', 'col', 'delito', 'mod', 'fecha', 'violencia', 'tipo',\n",
       "       'hora', 'carpeta', 'fecha_ap', 'u_inv', 'especialidad', 'jefatura',\n",
       "       'region', 'tipo_lugar', 'tipo_arma', 'victima', 'sexo_v', 'edad_v',\n",
       "       'parentesco', 'edo_civil', 'ocupacion', 'escolaridad', '1ra_agresion',\n",
       "       'desde_cuando', 'alguien_mas', 'atencion_psi', 'atencion_med',\n",
       "       'agresor', 'sexo_a', 'edad_a', 'edo_civil_a', 'ocupacion_a',\n",
       "       'escolaridad_a', 'atencion_psi'],\n",
       "      dtype='object')"
      ]
     },
     "execution_count": 71,
     "metadata": {},
     "output_type": "execute_result"
    }
   ],
   "source": [
    "vf = vf.drop([\"religion_v\", \"religion_a\", \"tipo_grav\", \"ingreso\", \"motivo\"], axis = 1)\n",
    "vf.columns"
   ]
  },
  {
   "cell_type": "code",
   "execution_count": 72,
   "metadata": {},
   "outputs": [
    {
     "data": {
      "text/plain": [
       "array(['No lo tiene el SPA'], dtype=object)"
      ]
     },
     "execution_count": 72,
     "metadata": {},
     "output_type": "execute_result"
    }
   ],
   "source": [
    "vf.desde_cuando.unique()\n",
    "vf.alguien_mas.unique()"
   ]
  },
  {
   "cell_type": "code",
   "execution_count": 73,
   "metadata": {},
   "outputs": [],
   "source": [
    "vf = vf.drop(['desde_cuando','alguien_mas'], axis=1)"
   ]
  },
  {
   "cell_type": "code",
   "execution_count": 74,
   "metadata": {},
   "outputs": [
    {
     "data": {
      "text/plain": [
       "Index(['mes', 'mpio', 'col', 'delito', 'mod', 'fecha', 'violencia', 'tipo',\n",
       "       'hora', 'carpeta', 'fecha_ap', 'u_inv', 'especialidad', 'jefatura',\n",
       "       'region', 'tipo_lugar', 'tipo_arma', 'victima', 'sexo_v', 'edad_v',\n",
       "       'parentesco', 'edo_civil', 'ocupacion', 'escolaridad', '1ra_agresion',\n",
       "       'atencion_psi', 'atencion_med', 'agresor', 'sexo_a', 'edad_a',\n",
       "       'edo_civil_a', 'ocupacion_a', 'escolaridad_a', 'atencion_psi'],\n",
       "      dtype='object')"
      ]
     },
     "execution_count": 74,
     "metadata": {},
     "output_type": "execute_result"
    }
   ],
   "source": [
    "vf.columns"
   ]
  },
  {
   "cell_type": "code",
   "execution_count": 75,
   "metadata": {
    "scrolled": true
   },
   "outputs": [
    {
     "data": {
      "text/plain": [
       "Index(['mes', 'mpio', 'col', 'delito', 'mod', 'fecha', 'violencia', 'tipo',\n",
       "       'hora', 'carpeta', 'fecha_ap', 'u_inv', 'especialidad', 'jefatura',\n",
       "       'region', 'tipo_lugar', 'tipo_arma', 'victima', 'sexo_v', 'edad_v',\n",
       "       'parentesco', 'edo_civil', 'ocupacion', 'escolaridad',\n",
       "       'primera_agresion', 'atencion_psi', 'atencion_med', 'agresor', 'sexo_a',\n",
       "       'edad_a', 'edo_civil_a', 'ocupacion_a', 'escolaridad_a',\n",
       "       'atencion_psi'],\n",
       "      dtype='object')"
      ]
     },
     "execution_count": 75,
     "metadata": {},
     "output_type": "execute_result"
    }
   ],
   "source": [
    "vf = vf.rename(columns = {'1ra_agresion':'primera_agresion'})\n",
    "vf.columns"
   ]
  },
  {
   "cell_type": "code",
   "execution_count": 76,
   "metadata": {},
   "outputs": [
    {
     "data": {
      "text/plain": [
       "array(['No lo tiene el SPA'], dtype=object)"
      ]
     },
     "execution_count": 76,
     "metadata": {},
     "output_type": "execute_result"
    }
   ],
   "source": [
    "vf.primera_agresion.unique()"
   ]
  },
  {
   "cell_type": "code",
   "execution_count": 77,
   "metadata": {},
   "outputs": [],
   "source": [
    "del vf['primera_agresion']"
   ]
  },
  {
   "cell_type": "code",
   "execution_count": 78,
   "metadata": {},
   "outputs": [],
   "source": [
    "vf.to_csv('vf_limpio.csv', header=True, index=False)"
   ]
  },
  {
   "cell_type": "code",
   "execution_count": 10,
   "metadata": {},
   "outputs": [
    {
     "data": {
      "text/plain": [
       "29             48\n",
       "30             54\n",
       "31    [7, 10, 34]\n",
       "32             62\n",
       "33             31\n",
       "34             29\n",
       "Name: edad_v, dtype: object"
      ]
     },
     "execution_count": 10,
     "metadata": {},
     "output_type": "execute_result"
    }
   ],
   "source": [
    "import pandas as pd\n",
    "datos = pd.read_csv(\"/home/saphira/Desktop/datos/vf_p3.csv\")\n",
    "\n",
    "datos.edad_v = [int(v) if str(v).isdigit() else str(v).split(\" \") for v in datos.edad_v]\n",
    "datos.edad_v[29:35]"
   ]
  },
  {
   "cell_type": "code",
   "execution_count": 4,
   "metadata": {},
   "outputs": [],
   "source": [
    "datos.edad_v = [int(v) if str(v).isdigit() else str(v).split(\",\") for v in datos.edad_v]"
   ]
  },
  {
   "cell_type": "code",
   "execution_count": 6,
   "metadata": {},
   "outputs": [
    {
     "data": {
      "text/plain": [
       "29                       48\n",
       "30                       54\n",
       "31    [['7',  '10',  '34']]\n",
       "32                       62\n",
       "33                       31\n",
       "34                       29\n",
       "Name: edad_v, dtype: object"
      ]
     },
     "execution_count": 6,
     "metadata": {},
     "output_type": "execute_result"
    }
   ],
   "source": [
    "datos.edad_v[29:35]"
   ]
  },
  {
   "cell_type": "code",
   "execution_count": 8,
   "metadata": {},
   "outputs": [],
   "source": [
    "import pandas as pd\n",
    "vf1 = pd.read_csv(\"poblacion2.csv\", header = None)"
   ]
  },
  {
   "cell_type": "code",
   "execution_count": 9,
   "metadata": {},
   "outputs": [
    {
     "data": {
      "text/html": [
       "<div>\n",
       "<table border=\"1\" class=\"dataframe\">\n",
       "  <thead>\n",
       "    <tr style=\"text-align: right;\">\n",
       "      <th></th>\n",
       "      <th>0</th>\n",
       "      <th>1</th>\n",
       "      <th>2</th>\n",
       "    </tr>\n",
       "  </thead>\n",
       "  <tbody>\n",
       "    <tr>\n",
       "      <th>0</th>\n",
       "      <td>1</td>\n",
       "      <td>Abasolo</td>\n",
       "      <td>2 639</td>\n",
       "    </tr>\n",
       "    <tr>\n",
       "      <th>1</th>\n",
       "      <td>2</td>\n",
       "      <td>Agualeguas</td>\n",
       "      <td>2 439</td>\n",
       "    </tr>\n",
       "    <tr>\n",
       "      <th>2</th>\n",
       "      <td>4</td>\n",
       "      <td>Allende</td>\n",
       "      <td>34 353</td>\n",
       "    </tr>\n",
       "    <tr>\n",
       "      <th>3</th>\n",
       "      <td>5</td>\n",
       "      <td>Anáhuac</td>\n",
       "      <td>18 194</td>\n",
       "    </tr>\n",
       "    <tr>\n",
       "      <th>4</th>\n",
       "      <td>6</td>\n",
       "      <td>Apodaca</td>\n",
       "      <td>597 207</td>\n",
       "    </tr>\n",
       "    <tr>\n",
       "      <th>5</th>\n",
       "      <td>7</td>\n",
       "      <td>Aramberri</td>\n",
       "      <td>16 152</td>\n",
       "    </tr>\n",
       "    <tr>\n",
       "      <th>6</th>\n",
       "      <td>8</td>\n",
       "      <td>Bustamante</td>\n",
       "      <td>3 977</td>\n",
       "    </tr>\n",
       "    <tr>\n",
       "      <th>7</th>\n",
       "      <td>9</td>\n",
       "      <td>Cadereyta Jiménez</td>\n",
       "      <td>95 534</td>\n",
       "    </tr>\n",
       "    <tr>\n",
       "      <th>8</th>\n",
       "      <td>11</td>\n",
       "      <td>Cerralvo</td>\n",
       "      <td>7 757</td>\n",
       "    </tr>\n",
       "    <tr>\n",
       "      <th>9</th>\n",
       "      <td>13</td>\n",
       "      <td>China</td>\n",
       "      <td>10 835</td>\n",
       "    </tr>\n",
       "    <tr>\n",
       "      <th>10</th>\n",
       "      <td>12</td>\n",
       "      <td>Ciénega de Flores</td>\n",
       "      <td>42 715</td>\n",
       "    </tr>\n",
       "    <tr>\n",
       "      <th>11</th>\n",
       "      <td>14</td>\n",
       "      <td>Doctor Arroyo</td>\n",
       "      <td>34 110</td>\n",
       "    </tr>\n",
       "    <tr>\n",
       "      <th>12</th>\n",
       "      <td>15</td>\n",
       "      <td>Doctor Coss</td>\n",
       "      <td>1 632</td>\n",
       "    </tr>\n",
       "    <tr>\n",
       "      <th>13</th>\n",
       "      <td>16</td>\n",
       "      <td>Doctor González</td>\n",
       "      <td>2 861</td>\n",
       "    </tr>\n",
       "    <tr>\n",
       "      <th>14</th>\n",
       "      <td>10</td>\n",
       "      <td>El Carmen</td>\n",
       "      <td>38 306</td>\n",
       "    </tr>\n",
       "    <tr>\n",
       "      <th>15</th>\n",
       "      <td>17</td>\n",
       "      <td>Galeana</td>\n",
       "      <td>41 130</td>\n",
       "    </tr>\n",
       "    <tr>\n",
       "      <th>16</th>\n",
       "      <td>18</td>\n",
       "      <td>García</td>\n",
       "      <td>247 370</td>\n",
       "    </tr>\n",
       "    <tr>\n",
       "      <th>17</th>\n",
       "      <td>20</td>\n",
       "      <td>General Bravo</td>\n",
       "      <td>5 479</td>\n",
       "    </tr>\n",
       "    <tr>\n",
       "      <th>18</th>\n",
       "      <td>21</td>\n",
       "      <td>General Escobedo</td>\n",
       "      <td>425 148</td>\n",
       "    </tr>\n",
       "    <tr>\n",
       "      <th>19</th>\n",
       "      <td>22</td>\n",
       "      <td>General Terán</td>\n",
       "      <td>14 795</td>\n",
       "    </tr>\n",
       "    <tr>\n",
       "      <th>20</th>\n",
       "      <td>23</td>\n",
       "      <td>General Treviño</td>\n",
       "      <td>1 044</td>\n",
       "    </tr>\n",
       "    <tr>\n",
       "      <th>21</th>\n",
       "      <td>24</td>\n",
       "      <td>General Zaragoza</td>\n",
       "      <td>6 011</td>\n",
       "    </tr>\n",
       "    <tr>\n",
       "      <th>22</th>\n",
       "      <td>25</td>\n",
       "      <td>General Zuazua</td>\n",
       "      <td>67 294</td>\n",
       "    </tr>\n",
       "    <tr>\n",
       "      <th>23</th>\n",
       "      <td>26</td>\n",
       "      <td>Guadalupe</td>\n",
       "      <td>682 880</td>\n",
       "    </tr>\n",
       "    <tr>\n",
       "      <th>24</th>\n",
       "      <td>47</td>\n",
       "      <td>Hidalgo</td>\n",
       "      <td>13 836</td>\n",
       "    </tr>\n",
       "    <tr>\n",
       "      <th>25</th>\n",
       "      <td>28</td>\n",
       "      <td>Higueras</td>\n",
       "      <td>1 511</td>\n",
       "    </tr>\n",
       "    <tr>\n",
       "      <th>26</th>\n",
       "      <td>29</td>\n",
       "      <td>Hualahuises</td>\n",
       "      <td>6 921</td>\n",
       "    </tr>\n",
       "    <tr>\n",
       "      <th>27</th>\n",
       "      <td>30</td>\n",
       "      <td>Iturbide</td>\n",
       "      <td>3 571</td>\n",
       "    </tr>\n",
       "    <tr>\n",
       "      <th>28</th>\n",
       "      <td>31</td>\n",
       "      <td>Juárez</td>\n",
       "      <td>333 481</td>\n",
       "    </tr>\n",
       "    <tr>\n",
       "      <th>29</th>\n",
       "      <td>32</td>\n",
       "      <td>Lampazos de Naranjo</td>\n",
       "      <td>5 238</td>\n",
       "    </tr>\n",
       "    <tr>\n",
       "      <th>30</th>\n",
       "      <td>33</td>\n",
       "      <td>Linares</td>\n",
       "      <td>79 853</td>\n",
       "    </tr>\n",
       "    <tr>\n",
       "      <th>31</th>\n",
       "      <td>3</td>\n",
       "      <td>Los Aldamas</td>\n",
       "      <td>1 292</td>\n",
       "    </tr>\n",
       "    <tr>\n",
       "      <th>32</th>\n",
       "      <td>27</td>\n",
       "      <td>Los Herreras</td>\n",
       "      <td>1 764</td>\n",
       "    </tr>\n",
       "    <tr>\n",
       "      <th>33</th>\n",
       "      <td>42</td>\n",
       "      <td>Los Ramones</td>\n",
       "      <td>4 469</td>\n",
       "    </tr>\n",
       "    <tr>\n",
       "      <th>34</th>\n",
       "      <td>34</td>\n",
       "      <td>Marín</td>\n",
       "      <td>5 630</td>\n",
       "    </tr>\n",
       "    <tr>\n",
       "      <th>35</th>\n",
       "      <td>35</td>\n",
       "      <td>Melchor Ocampo</td>\n",
       "      <td>955</td>\n",
       "    </tr>\n",
       "    <tr>\n",
       "      <th>36</th>\n",
       "      <td>36</td>\n",
       "      <td>Mier y Noriega</td>\n",
       "      <td>6 996</td>\n",
       "    </tr>\n",
       "    <tr>\n",
       "      <th>37</th>\n",
       "      <td>37</td>\n",
       "      <td>Mina</td>\n",
       "      <td>5 326</td>\n",
       "    </tr>\n",
       "    <tr>\n",
       "      <th>38</th>\n",
       "      <td>38</td>\n",
       "      <td>Montemorelos</td>\n",
       "      <td>60 829</td>\n",
       "    </tr>\n",
       "    <tr>\n",
       "      <th>39</th>\n",
       "      <td>39</td>\n",
       "      <td>Monterrey</td>\n",
       "      <td>1 109 171</td>\n",
       "    </tr>\n",
       "    <tr>\n",
       "      <th>40</th>\n",
       "      <td>40</td>\n",
       "      <td>Parás</td>\n",
       "      <td>971</td>\n",
       "    </tr>\n",
       "    <tr>\n",
       "      <th>41</th>\n",
       "      <td>41</td>\n",
       "      <td>Pesquería</td>\n",
       "      <td>87 168</td>\n",
       "    </tr>\n",
       "    <tr>\n",
       "      <th>42</th>\n",
       "      <td>43</td>\n",
       "      <td>Rayones</td>\n",
       "      <td>2 640</td>\n",
       "    </tr>\n",
       "    <tr>\n",
       "      <th>43</th>\n",
       "      <td>44</td>\n",
       "      <td>Sabinas Hidalgo</td>\n",
       "      <td>35 456</td>\n",
       "    </tr>\n",
       "    <tr>\n",
       "      <th>44</th>\n",
       "      <td>45</td>\n",
       "      <td>Salinas Victoria</td>\n",
       "      <td>54 192</td>\n",
       "    </tr>\n",
       "    <tr>\n",
       "      <th>45</th>\n",
       "      <td>46</td>\n",
       "      <td>San Nicolás de los Garza</td>\n",
       "      <td>430 143</td>\n",
       "    </tr>\n",
       "    <tr>\n",
       "      <th>46</th>\n",
       "      <td>19</td>\n",
       "      <td>San Pedro Garza García</td>\n",
       "      <td>123 156</td>\n",
       "    </tr>\n",
       "    <tr>\n",
       "      <th>47</th>\n",
       "      <td>48</td>\n",
       "      <td>Santa Catarina</td>\n",
       "      <td>296 954</td>\n",
       "    </tr>\n",
       "    <tr>\n",
       "      <th>48</th>\n",
       "      <td>49</td>\n",
       "      <td>Santiago</td>\n",
       "      <td>42 407</td>\n",
       "    </tr>\n",
       "    <tr>\n",
       "      <th>49</th>\n",
       "      <td>50</td>\n",
       "      <td>Vallecillo</td>\n",
       "      <td>1 632</td>\n",
       "    </tr>\n",
       "    <tr>\n",
       "      <th>50</th>\n",
       "      <td>51</td>\n",
       "      <td>Villaldama</td>\n",
       "      <td>4 080</td>\n",
       "    </tr>\n",
       "  </tbody>\n",
       "</table>\n",
       "</div>"
      ],
      "text/plain": [
       "     0                          1          2\n",
       "0    1                  Abasolo        2 639\n",
       "1    2               Agualeguas        2 439\n",
       "2    4                   Allende      34 353\n",
       "3    5                   Anáhuac      18 194\n",
       "4    6                   Apodaca     597 207\n",
       "5    7                 Aramberri      16 152\n",
       "6    8               Bustamante        3 977\n",
       "7    9         Cadereyta Jiménez      95 534\n",
       "8   11                  Cerralvo       7 757\n",
       "9   13                     China      10 835\n",
       "10  12         Ciénega de Flores      42 715\n",
       "11  14             Doctor Arroyo      34 110\n",
       "12  15              Doctor Coss        1 632\n",
       "13  16          Doctor González        2 861\n",
       "14  10                 El Carmen      38 306\n",
       "15  17                   Galeana      41 130\n",
       "16  18                    García     247 370\n",
       "17  20             General Bravo       5 479\n",
       "18  21          General Escobedo     425 148\n",
       "19  22             General Terán      14 795\n",
       "20  23          General Treviño        1 044\n",
       "21  24          General Zaragoza       6 011\n",
       "22  25            General Zuazua      67 294\n",
       "23  26                 Guadalupe     682 880\n",
       "24  47                   Hidalgo      13 836\n",
       "25  28                 Higueras        1 511\n",
       "26  29               Hualahuises       6 921\n",
       "27  30                 Iturbide        3 571\n",
       "28  31                    Juárez     333 481\n",
       "29  32       Lampazos de Naranjo       5 238\n",
       "30  33                   Linares      79 853\n",
       "31   3              Los Aldamas        1 292\n",
       "32  27             Los Herreras        1 764\n",
       "33  42               Los Ramones       4 469\n",
       "34  34                     Marín       5 630\n",
       "35  35           Melchor Ocampo          955\n",
       "36  36            Mier y Noriega       6 996\n",
       "37  37                      Mina       5 326\n",
       "38  38              Montemorelos      60 829\n",
       "39  39                 Monterrey   1 109 171\n",
       "40  40                    Parás          971\n",
       "41  41                 Pesquería      87 168\n",
       "42  43                  Rayones        2 640\n",
       "43  44           Sabinas Hidalgo      35 456\n",
       "44  45          Salinas Victoria      54 192\n",
       "45  46  San Nicolás de los Garza     430 143\n",
       "46  19    San Pedro Garza García     123 156\n",
       "47  48            Santa Catarina     296 954\n",
       "48  49                  Santiago      42 407\n",
       "49  50               Vallecillo        1 632\n",
       "50  51                Villaldama       4 080"
      ]
     },
     "execution_count": 9,
     "metadata": {},
     "output_type": "execute_result"
    }
   ],
   "source": [
    "vf1"
   ]
  },
  {
   "cell_type": "code",
   "execution_count": 3,
   "metadata": {},
   "outputs": [
    {
     "name": "stderr",
     "output_type": "stream",
     "text": [
      "/usr/local/lib/python3.5/dist-packages/IPython/core/interactiveshell.py:3020: DtypeWarning: Columns (19,28) have mixed types. Specify dtype option on import or set low_memory=False.\n",
      "  interactivity=interactivity, compiler=compiler, result=result)\n"
     ]
    },
    {
     "data": {
      "text/plain": [
       "array(['N', 'M', 'T'], dtype=object)"
      ]
     },
     "execution_count": 3,
     "metadata": {},
     "output_type": "execute_result"
    }
   ],
   "source": [
    "import pandas as pd\n",
    "datos = pd.read_csv(\"/home/saphira/Desktop/datos/vf_p4.csv\")\n",
    "\n",
    "datos['mpio'] = datos.mpio.str.upper()\n",
    "\n",
    "datos.hora = [\"M\" if (v >= 5 and v <= 12) else \"T\" if (v >= 13 and v <= 20) else \"N\" for v in datos.hora]\n",
    "datos.hora.unique()"
   ]
  },
  {
   "cell_type": "code",
   "execution_count": 1,
   "metadata": {},
   "outputs": [
    {
     "ename": "NameError",
     "evalue": "name 'datos' is not defined",
     "output_type": "error",
     "traceback": [
      "\u001b[0;31m---------------------------------------------------------------------------\u001b[0m",
      "\u001b[0;31mNameError\u001b[0m                                 Traceback (most recent call last)",
      "\u001b[0;32m<ipython-input-1-9d0b02d14c70>\u001b[0m in \u001b[0;36m<module>\u001b[0;34m\u001b[0m\n\u001b[0;32m----> 1\u001b[0;31m \u001b[0mdatos\u001b[0m\u001b[0;34m.\u001b[0m\u001b[0mto_csv\u001b[0m\u001b[0;34m(\u001b[0m\u001b[0;34m'vf_p5.csv'\u001b[0m\u001b[0;34m,\u001b[0m \u001b[0mheader\u001b[0m\u001b[0;34m=\u001b[0m\u001b[0;32mTrue\u001b[0m\u001b[0;34m,\u001b[0m \u001b[0mindex\u001b[0m\u001b[0;34m=\u001b[0m\u001b[0;32mFalse\u001b[0m\u001b[0;34m)\u001b[0m\u001b[0;34m\u001b[0m\u001b[0m\n\u001b[0m",
      "\u001b[0;31mNameError\u001b[0m: name 'datos' is not defined"
     ]
    }
   ],
   "source": [
    "datos.to_csv('vf_p5.csv', header=True, index=False)"
   ]
  },
  {
   "cell_type": "code",
   "execution_count": 4,
   "metadata": {},
   "outputs": [
    {
     "name": "stdout",
     "output_type": "stream",
     "text": [
      "COMERCIO 569\n",
      "PRIMARIA 2653\n",
      "LICENCIATURA 1065\n",
      "SECUNDARIA 6019\n",
      "nan 122\n",
      "/ 569\n",
      "POSGRADO 59\n",
      "PREPARATORIA 1986\n",
      "NINGUNA 227\n",
      "ANALFABETA 42\n",
      "TÉCNICO 569\n"
     ]
    }
   ],
   "source": [
    "import pandas as pd\n",
    "datos = pd.read_csv(\"/home/saphira/Desktop/datos/vf_p5.csv\")\n",
    "\n",
    "escolar = datos.escolaridad_a\n",
    "\n",
    "limpios = []\n",
    "for dato in escolar:\n",
    "    s = str(dato).replace(\",\", \" \")\n",
    "    pedazos = s.split() \n",
    "    #print(pedazos)\n",
    "    #while \"/\" in pedazos:\n",
    "        #pos = pedazos.index(\"/\")\n",
    "        #desde = int(pedazos[pos - 1])\n",
    "        # hasta = int(pedazos[pos + 1])\n",
    "        #prom = (desde + hasta) // 2\n",
    "        #limpios.append(prom)\n",
    "        #print(pedazos)\n",
    "        #pedazos = pedazos[:(pos - 1)] + pedazos[(pos + 2):]\n",
    "    limpios += pedazos\n",
    "limpios = list(filter(lambda dato: dato != \"NE\", limpios))   \n",
    "from collections import Counter\n",
    "conteos = Counter([d for d in limpios])\n",
    "for edad in conteos:\n",
    "    print(edad, conteos[edad])\n",
    "#len(limpios)"
   ]
  },
  {
   "cell_type": "code",
   "execution_count": 1,
   "metadata": {},
   "outputs": [
    {
     "data": {
      "text/html": [
       "<div>\n",
       "<style scoped>\n",
       "    .dataframe tbody tr th:only-of-type {\n",
       "        vertical-align: middle;\n",
       "    }\n",
       "\n",
       "    .dataframe tbody tr th {\n",
       "        vertical-align: top;\n",
       "    }\n",
       "\n",
       "    .dataframe thead th {\n",
       "        text-align: right;\n",
       "    }\n",
       "</style>\n",
       "<table border=\"1\" class=\"dataframe\">\n",
       "  <thead>\n",
       "    <tr style=\"text-align: right;\">\n",
       "      <th></th>\n",
       "      <th>mes</th>\n",
       "      <th>mpio</th>\n",
       "      <th>fecha</th>\n",
       "      <th>hora</th>\n",
       "      <th>victima</th>\n",
       "      <th>sexo_v</th>\n",
       "      <th>edad_v</th>\n",
       "      <th>parentesco</th>\n",
       "      <th>edo_civil_v</th>\n",
       "      <th>ocupacion_v</th>\n",
       "      <th>escolaridad_v</th>\n",
       "      <th>agresor</th>\n",
       "      <th>sexo_a</th>\n",
       "      <th>edad_a</th>\n",
       "      <th>edo_civil_a</th>\n",
       "      <th>ocupacion_a</th>\n",
       "      <th>escolaridad_a</th>\n",
       "      <th>pob</th>\n",
       "    </tr>\n",
       "  </thead>\n",
       "  <tbody>\n",
       "    <tr>\n",
       "      <th>0</th>\n",
       "      <td>1</td>\n",
       "      <td>9</td>\n",
       "      <td>2018/01/01</td>\n",
       "      <td>23</td>\n",
       "      <td>1</td>\n",
       "      <td>F</td>\n",
       "      <td>46</td>\n",
       "      <td>UNION LIBRE</td>\n",
       "      <td>UNIÓN LIBRE</td>\n",
       "      <td>EMPLEADO</td>\n",
       "      <td>SECUNDARIA</td>\n",
       "      <td>1.0</td>\n",
       "      <td>M</td>\n",
       "      <td>36 a 40</td>\n",
       "      <td>UNIÓN LIBRE</td>\n",
       "      <td>PRESTADOR DE SERVICIOS</td>\n",
       "      <td>SECUNDARIA</td>\n",
       "      <td>95534</td>\n",
       "    </tr>\n",
       "    <tr>\n",
       "      <th>1</th>\n",
       "      <td>1</td>\n",
       "      <td>9</td>\n",
       "      <td>2017/12/27</td>\n",
       "      <td>8</td>\n",
       "      <td>1</td>\n",
       "      <td>F</td>\n",
       "      <td>26</td>\n",
       "      <td>CONCUBINO (A)</td>\n",
       "      <td>UNIÓN LIBRE</td>\n",
       "      <td>HOGAR</td>\n",
       "      <td>SECUNDARIA</td>\n",
       "      <td>1.0</td>\n",
       "      <td>M</td>\n",
       "      <td>21 a 25</td>\n",
       "      <td>UNIÓN LIBRE</td>\n",
       "      <td>SIN OFICIO</td>\n",
       "      <td>SECUNDARIA</td>\n",
       "      <td>95534</td>\n",
       "    </tr>\n",
       "    <tr>\n",
       "      <th>2</th>\n",
       "      <td>1</td>\n",
       "      <td>9</td>\n",
       "      <td>2018/01/01</td>\n",
       "      <td>11</td>\n",
       "      <td>1</td>\n",
       "      <td>F</td>\n",
       "      <td>42</td>\n",
       "      <td>NINGUNO</td>\n",
       "      <td>UNIÓN LIBRE</td>\n",
       "      <td>EMPLEADO</td>\n",
       "      <td>PREPARATORIA</td>\n",
       "      <td>1.0</td>\n",
       "      <td>M</td>\n",
       "      <td>41</td>\n",
       "      <td>CASADO</td>\n",
       "      <td>CHOFER</td>\n",
       "      <td>SECUNDARIA</td>\n",
       "      <td>95534</td>\n",
       "    </tr>\n",
       "    <tr>\n",
       "      <th>3</th>\n",
       "      <td>1</td>\n",
       "      <td>12</td>\n",
       "      <td>2017/12/22</td>\n",
       "      <td>11</td>\n",
       "      <td>1</td>\n",
       "      <td>F</td>\n",
       "      <td>26</td>\n",
       "      <td>CONCUBINO (A)</td>\n",
       "      <td>UNIÓN LIBRE</td>\n",
       "      <td>HOGAR</td>\n",
       "      <td>PREPARATORIA</td>\n",
       "      <td>1.0</td>\n",
       "      <td>M</td>\n",
       "      <td>34</td>\n",
       "      <td>UNIÓN LIBRE</td>\n",
       "      <td>EMPLEADO</td>\n",
       "      <td>PRIMARIA</td>\n",
       "      <td>42715</td>\n",
       "    </tr>\n",
       "    <tr>\n",
       "      <th>4</th>\n",
       "      <td>1</td>\n",
       "      <td>12</td>\n",
       "      <td>2017/12/25</td>\n",
       "      <td>19</td>\n",
       "      <td>1</td>\n",
       "      <td>F</td>\n",
       "      <td>38</td>\n",
       "      <td>ESPOSO (A)</td>\n",
       "      <td>CASADO</td>\n",
       "      <td>HOGAR</td>\n",
       "      <td>SECUNDARIA</td>\n",
       "      <td>1.0</td>\n",
       "      <td>M</td>\n",
       "      <td>45</td>\n",
       "      <td>CASADO</td>\n",
       "      <td>EMPLEADO</td>\n",
       "      <td>PREPARATORIA</td>\n",
       "      <td>42715</td>\n",
       "    </tr>\n",
       "  </tbody>\n",
       "</table>\n",
       "</div>"
      ],
      "text/plain": [
       "   mes  mpio       fecha  hora  victima sexo_v edad_v     parentesco  \\\n",
       "0    1     9  2018/01/01    23        1      F     46    UNION LIBRE   \n",
       "1    1     9  2017/12/27     8        1      F     26  CONCUBINO (A)   \n",
       "2    1     9  2018/01/01    11        1      F     42        NINGUNO   \n",
       "3    1    12  2017/12/22    11        1      F     26  CONCUBINO (A)   \n",
       "4    1    12  2017/12/25    19        1      F     38     ESPOSO (A)   \n",
       "\n",
       "   edo_civil_v ocupacion_v escolaridad_v  agresor sexo_a   edad_a  \\\n",
       "0  UNIÓN LIBRE    EMPLEADO    SECUNDARIA      1.0      M  36 a 40   \n",
       "1  UNIÓN LIBRE       HOGAR    SECUNDARIA      1.0      M  21 a 25   \n",
       "2  UNIÓN LIBRE    EMPLEADO  PREPARATORIA      1.0      M       41   \n",
       "3  UNIÓN LIBRE       HOGAR  PREPARATORIA      1.0      M       34   \n",
       "4       CASADO       HOGAR    SECUNDARIA      1.0      M       45   \n",
       "\n",
       "   edo_civil_a             ocupacion_a escolaridad_a    pob  \n",
       "0  UNIÓN LIBRE  PRESTADOR DE SERVICIOS    SECUNDARIA  95534  \n",
       "1  UNIÓN LIBRE              SIN OFICIO    SECUNDARIA  95534  \n",
       "2       CASADO                  CHOFER    SECUNDARIA  95534  \n",
       "3  UNIÓN LIBRE                EMPLEADO      PRIMARIA  42715  \n",
       "4       CASADO                EMPLEADO  PREPARATORIA  42715  "
      ]
     },
     "execution_count": 1,
     "metadata": {},
     "output_type": "execute_result"
    }
   ],
   "source": [
    "import pandas as pd\n",
    "datos = pd.read_csv(\"vf_datos.csv\")\n",
    "datos.head()"
   ]
  },
  {
   "cell_type": "code",
   "execution_count": 6,
   "metadata": {},
   "outputs": [
    {
     "data": {
      "image/png": "[encoded data removed]",
      "text/plain": [
       "<Figure size 432x288 with 1 Axes>"
      ]
     },
     "metadata": {
      "needs_background": "light"
     },
     "output_type": "display_data"
    }
   ],
   "source": [
    "import matplotlib.pyplot as plt\n",
    "from scipy.stats import shapiro\n",
    "\n",
    "mes = datos.mes\n",
    "plt.title('Incidentes por mes')\n",
    "plt.hist(mes, color='red',edgecolor = 'black', linewidth=1, bins = 12)\n",
    "#plt.plot(mes, lw=5, c='y', marker='o', ms=10, mfc='red')\n",
    "plt.savefig('mes.eps')"
   ]
  },
  {
   "cell_type": "code",
   "execution_count": 8,
   "metadata": {},
   "outputs": [
    {
     "name": "stdout",
     "output_type": "stream",
     "text": [
      "Counter({7: 1788, 6: 1595, 5: 1574, 9: 1563, 8: 1558, 3: 1372, 10: 1355, 4: 1347, 11: 1130, 2: 1099, 12: 1032, 1: 997})\n"
     ]
    }
   ],
   "source": [
    "from collections import Counter\n",
    "conteos = Counter([d for d in mes])\n",
    "print(conteos)"
   ]
  },
  {
   "cell_type": "code",
   "execution_count": 1,
   "metadata": {},
   "outputs": [],
   "source": [
    "import matplotlib.pyplot as plt\n",
    "import statsmodels.api as sm\n",
    "from numpy import isnan\n",
    "import pandas as pd\n",
    "import ssl\n",
    "\n",
    "if getattr(ssl, '_create_unverified_context', None):\n",
    "    ssl._create_default_https_context = ssl._create_unverified_context\n",
    "\n",
    "datos = pd.read_csv(\"vf_datos.csv\")\n",
    "datos['cuantos'] = 1"
   ]
  },
  {
   "cell_type": "code",
   "execution_count": 9,
   "metadata": {},
   "outputs": [
    {
     "name": "stdout",
     "output_type": "stream",
     "text": [
      "y = f(x) = 6.1888 x + 1327.2727\n",
      "error 22.425913802087816\n",
      "valor p 0.7881925174727218\n",
      "pendiente no significativo\n",
      "R^2 0.007558214463569425\n"
     ]
    },
    {
     "data": {
      "image/png": "[encoded data removed]",
      "text/plain": [
       "<Figure size 432x288 with 1 Axes>"
      ]
     },
     "metadata": {
      "needs_background": "light"
     },
     "output_type": "display_data"
    }
   ],
   "source": [
    "from scipy import stats\n",
    "\n",
    "mod = datos.groupby(['mes'], as_index=False).agg({\"cuantos\": \"sum\"})\n",
    "\n",
    "y = mod.cuantos # lo que se modela\n",
    "x = mod.mes # en función de qué se modela, es decir, queremos un y = f(x) = a * x + b\n",
    "mascara = ~isnan(x) & ~isnan(y)\n",
    "x = x[mascara]\n",
    "y = y[mascara]\n",
    "\n",
    "a, b, r, p, e = stats.linregress(x, y)\n",
    "print(\"y = f(x) = {:.4f} x + {:.4f}\".format(a, b))\n",
    "print(\"error\", e)\n",
    "print(\"valor p\", p)\n",
    "print(\"pendiente {:s}significativo\".format(\"no \" if p >= 0.05 else \"\"))\n",
    "print(\"R^2\", r**2)\n",
    "\n",
    "plt.plot(x, (a * x + b), label = 'y = {:.1f}x + {:.0f}'.format(a, b), color = 'red', linewidth = 3)\n",
    "plt.scatter(x, y)\n",
    "plt.legend(loc='upper left')\n",
    "plt.xlabel(\"Mes\")\n",
    "plt.ylabel(\"Incidentes\")\n",
    "plt.show()"
   ]
  },
  {
   "cell_type": "code",
   "execution_count": 10,
   "metadata": {},
   "outputs": [
    {
     "name": "stdout",
     "output_type": "stream",
     "text": [
      "y = f(x) = 26.3843 x + 380.3300\n",
      "error 6.106423166128337\n",
      "valor p 0.0002756112948090933\n",
      "pendiente significativo\n",
      "R^2 0.4590462181920476\n"
     ]
    },
    {
     "data": {
      "image/png": "[encoded data removed]",
      "text/plain": [
       "<Figure size 432x288 with 1 Axes>"
      ]
     },
     "metadata": {
      "needs_background": "light"
     },
     "output_type": "display_data"
    }
   ],
   "source": [
    "mod2 = datos.groupby(['hora'], as_index=False).agg({\"cuantos\": \"sum\"})\n",
    "\n",
    "y = mod2.cuantos # lo que se modela\n",
    "x = mod2.hora # en función de qué se modela, es decir, queremos un y = f(x) = a * x + b\n",
    "mascara = ~isnan(x) & ~isnan(y)\n",
    "x = x[mascara]\n",
    "y = y[mascara]\n",
    "\n",
    "a, b, r, p, e = stats.linregress(x, y)\n",
    "print(\"y = f(x) = {:.4f} x + {:.4f}\".format(a, b))\n",
    "print(\"error\", e)\n",
    "print(\"valor p\", p)\n",
    "print(\"pendiente {:s}significativo\".format(\"no \" if p >= 0.05 else \"\"))\n",
    "print(\"R^2\", r**2)\n",
    "\n",
    "plt.plot(x, (a * x + b), label = 'y = {:.1f}x + {:.0f}'.format(a, b), color = 'red', linewidth = 3)\n",
    "plt.scatter(x, y)\n",
    "plt.legend(loc='upper left')\n",
    "plt.xlabel(\"Mes\")\n",
    "plt.ylabel(\"Incidentes\")\n",
    "plt.show()"
   ]
  },
  {
   "cell_type": "code",
   "execution_count": 20,
   "metadata": {},
   "outputs": [
    {
     "name": "stdout",
     "output_type": "stream",
     "text": [
      "y = f(x) = 89842.0957 x + 62.7195\n",
      "error 51178.22836365786\n",
      "valor p 0.0855583312706382\n",
      "pendiente no significativo\n",
      "R^2 0.06032870137868322\n"
     ]
    },
    {
     "data": {
      "image/png": "[encoded data removed]",
      "text/plain": [
       "<Figure size 432x288 with 1 Axes>"
      ]
     },
     "metadata": {
      "needs_background": "light"
     },
     "output_type": "display_data"
    }
   ],
   "source": [
    "mod3 = datos.groupby(['mpio','pob'], as_index=False).agg({\"cuantos\": \"sum\"})\n",
    "mod3['normal'] = mod3.cuantos/mod3.pob\n",
    "\n",
    "y = mod3.cuantos # lo que se modela\n",
    "x = mod3.normal # en función de qué se modela, es decir, queremos un y = f(x) = a * x + b\n",
    "mascara = ~isnan(x) & ~isnan(y)\n",
    "x = x[mascara]\n",
    "y = y[mascara]\n",
    "\n",
    "a, b, r, p, e = stats.linregress(x, y)\n",
    "print(\"y = f(x) = {:.4f} x + {:.4f}\".format(a, b))\n",
    "print(\"error\", e)\n",
    "print(\"valor p\", p)\n",
    "print(\"pendiente {:s}significativo\".format(\"no \" if p >= 0.05 else \"\"))\n",
    "print(\"R^2\", r**2)\n",
    "\n",
    "plt.plot(x, (a * x + b), label = 'y = {:.1f}x + {:.0f}'.format(a, b), color = 'red', linewidth = 3)\n",
    "plt.scatter(x, y)\n",
    "plt.legend(loc='upper left')\n",
    "plt.xlabel(\"Mpio\")\n",
    "plt.ylabel(\"Incidentes\")\n",
    "plt.show()"
   ]
  },
  {
   "cell_type": "code",
   "execution_count": 17,
   "metadata": {},
   "outputs": [
    {
     "data": {
      "text/html": [
       "<div>\n",
       "<style scoped>\n",
       "    .dataframe tbody tr th:only-of-type {\n",
       "        vertical-align: middle;\n",
       "    }\n",
       "\n",
       "    .dataframe tbody tr th {\n",
       "        vertical-align: top;\n",
       "    }\n",
       "\n",
       "    .dataframe thead th {\n",
       "        text-align: right;\n",
       "    }\n",
       "</style>\n",
       "<table border=\"1\" class=\"dataframe\">\n",
       "  <thead>\n",
       "    <tr style=\"text-align: right;\">\n",
       "      <th></th>\n",
       "      <th>mpio</th>\n",
       "      <th>pob</th>\n",
       "      <th>cuantos</th>\n",
       "    </tr>\n",
       "  </thead>\n",
       "  <tbody>\n",
       "    <tr>\n",
       "      <th>0</th>\n",
       "      <td>1</td>\n",
       "      <td>2639</td>\n",
       "      <td>8</td>\n",
       "    </tr>\n",
       "    <tr>\n",
       "      <th>1</th>\n",
       "      <td>2</td>\n",
       "      <td>2439</td>\n",
       "      <td>2</td>\n",
       "    </tr>\n",
       "    <tr>\n",
       "      <th>2</th>\n",
       "      <td>3</td>\n",
       "      <td>1292</td>\n",
       "      <td>2</td>\n",
       "    </tr>\n",
       "    <tr>\n",
       "      <th>3</th>\n",
       "      <td>4</td>\n",
       "      <td>34353</td>\n",
       "      <td>175</td>\n",
       "    </tr>\n",
       "    <tr>\n",
       "      <th>4</th>\n",
       "      <td>5</td>\n",
       "      <td>18194</td>\n",
       "      <td>49</td>\n",
       "    </tr>\n",
       "    <tr>\n",
       "      <th>5</th>\n",
       "      <td>6</td>\n",
       "      <td>597207</td>\n",
       "      <td>1690</td>\n",
       "    </tr>\n",
       "    <tr>\n",
       "      <th>6</th>\n",
       "      <td>7</td>\n",
       "      <td>16152</td>\n",
       "      <td>14</td>\n",
       "    </tr>\n",
       "    <tr>\n",
       "      <th>7</th>\n",
       "      <td>8</td>\n",
       "      <td>3977</td>\n",
       "      <td>11</td>\n",
       "    </tr>\n",
       "    <tr>\n",
       "      <th>8</th>\n",
       "      <td>9</td>\n",
       "      <td>95534</td>\n",
       "      <td>496</td>\n",
       "    </tr>\n",
       "    <tr>\n",
       "      <th>9</th>\n",
       "      <td>10</td>\n",
       "      <td>38306</td>\n",
       "      <td>287</td>\n",
       "    </tr>\n",
       "    <tr>\n",
       "      <th>10</th>\n",
       "      <td>11</td>\n",
       "      <td>7757</td>\n",
       "      <td>32</td>\n",
       "    </tr>\n",
       "    <tr>\n",
       "      <th>11</th>\n",
       "      <td>12</td>\n",
       "      <td>42715</td>\n",
       "      <td>255</td>\n",
       "    </tr>\n",
       "    <tr>\n",
       "      <th>12</th>\n",
       "      <td>13</td>\n",
       "      <td>10835</td>\n",
       "      <td>17</td>\n",
       "    </tr>\n",
       "    <tr>\n",
       "      <th>13</th>\n",
       "      <td>14</td>\n",
       "      <td>34110</td>\n",
       "      <td>68</td>\n",
       "    </tr>\n",
       "    <tr>\n",
       "      <th>14</th>\n",
       "      <td>15</td>\n",
       "      <td>1632</td>\n",
       "      <td>4</td>\n",
       "    </tr>\n",
       "    <tr>\n",
       "      <th>15</th>\n",
       "      <td>16</td>\n",
       "      <td>2861</td>\n",
       "      <td>4</td>\n",
       "    </tr>\n",
       "    <tr>\n",
       "      <th>16</th>\n",
       "      <td>17</td>\n",
       "      <td>41130</td>\n",
       "      <td>53</td>\n",
       "    </tr>\n",
       "    <tr>\n",
       "      <th>17</th>\n",
       "      <td>18</td>\n",
       "      <td>247370</td>\n",
       "      <td>1713</td>\n",
       "    </tr>\n",
       "    <tr>\n",
       "      <th>18</th>\n",
       "      <td>19</td>\n",
       "      <td>123156</td>\n",
       "      <td>180</td>\n",
       "    </tr>\n",
       "    <tr>\n",
       "      <th>19</th>\n",
       "      <td>20</td>\n",
       "      <td>5479</td>\n",
       "      <td>6</td>\n",
       "    </tr>\n",
       "    <tr>\n",
       "      <th>20</th>\n",
       "      <td>21</td>\n",
       "      <td>425148</td>\n",
       "      <td>1549</td>\n",
       "    </tr>\n",
       "    <tr>\n",
       "      <th>21</th>\n",
       "      <td>22</td>\n",
       "      <td>14795</td>\n",
       "      <td>18</td>\n",
       "    </tr>\n",
       "    <tr>\n",
       "      <th>22</th>\n",
       "      <td>23</td>\n",
       "      <td>1044</td>\n",
       "      <td>3</td>\n",
       "    </tr>\n",
       "    <tr>\n",
       "      <th>23</th>\n",
       "      <td>24</td>\n",
       "      <td>6011</td>\n",
       "      <td>6</td>\n",
       "    </tr>\n",
       "    <tr>\n",
       "      <th>24</th>\n",
       "      <td>25</td>\n",
       "      <td>67294</td>\n",
       "      <td>286</td>\n",
       "    </tr>\n",
       "    <tr>\n",
       "      <th>25</th>\n",
       "      <td>26</td>\n",
       "      <td>682880</td>\n",
       "      <td>1772</td>\n",
       "    </tr>\n",
       "    <tr>\n",
       "      <th>26</th>\n",
       "      <td>27</td>\n",
       "      <td>1764</td>\n",
       "      <td>2</td>\n",
       "    </tr>\n",
       "    <tr>\n",
       "      <th>27</th>\n",
       "      <td>28</td>\n",
       "      <td>1511</td>\n",
       "      <td>7</td>\n",
       "    </tr>\n",
       "    <tr>\n",
       "      <th>28</th>\n",
       "      <td>29</td>\n",
       "      <td>6921</td>\n",
       "      <td>13</td>\n",
       "    </tr>\n",
       "    <tr>\n",
       "      <th>29</th>\n",
       "      <td>30</td>\n",
       "      <td>3571</td>\n",
       "      <td>7</td>\n",
       "    </tr>\n",
       "    <tr>\n",
       "      <th>30</th>\n",
       "      <td>31</td>\n",
       "      <td>333481</td>\n",
       "      <td>1482</td>\n",
       "    </tr>\n",
       "    <tr>\n",
       "      <th>31</th>\n",
       "      <td>32</td>\n",
       "      <td>5238</td>\n",
       "      <td>14</td>\n",
       "    </tr>\n",
       "    <tr>\n",
       "      <th>32</th>\n",
       "      <td>33</td>\n",
       "      <td>79853</td>\n",
       "      <td>249</td>\n",
       "    </tr>\n",
       "    <tr>\n",
       "      <th>33</th>\n",
       "      <td>34</td>\n",
       "      <td>5630</td>\n",
       "      <td>27</td>\n",
       "    </tr>\n",
       "    <tr>\n",
       "      <th>34</th>\n",
       "      <td>35</td>\n",
       "      <td>955</td>\n",
       "      <td>3</td>\n",
       "    </tr>\n",
       "    <tr>\n",
       "      <th>35</th>\n",
       "      <td>36</td>\n",
       "      <td>6996</td>\n",
       "      <td>4</td>\n",
       "    </tr>\n",
       "    <tr>\n",
       "      <th>36</th>\n",
       "      <td>37</td>\n",
       "      <td>5326</td>\n",
       "      <td>35</td>\n",
       "    </tr>\n",
       "    <tr>\n",
       "      <th>37</th>\n",
       "      <td>38</td>\n",
       "      <td>60829</td>\n",
       "      <td>215</td>\n",
       "    </tr>\n",
       "    <tr>\n",
       "      <th>38</th>\n",
       "      <td>39</td>\n",
       "      <td>1109171</td>\n",
       "      <td>2854</td>\n",
       "    </tr>\n",
       "    <tr>\n",
       "      <th>39</th>\n",
       "      <td>40</td>\n",
       "      <td>971</td>\n",
       "      <td>3</td>\n",
       "    </tr>\n",
       "    <tr>\n",
       "      <th>40</th>\n",
       "      <td>41</td>\n",
       "      <td>87168</td>\n",
       "      <td>487</td>\n",
       "    </tr>\n",
       "    <tr>\n",
       "      <th>41</th>\n",
       "      <td>42</td>\n",
       "      <td>4469</td>\n",
       "      <td>11</td>\n",
       "    </tr>\n",
       "    <tr>\n",
       "      <th>42</th>\n",
       "      <td>44</td>\n",
       "      <td>35456</td>\n",
       "      <td>93</td>\n",
       "    </tr>\n",
       "    <tr>\n",
       "      <th>43</th>\n",
       "      <td>45</td>\n",
       "      <td>54192</td>\n",
       "      <td>243</td>\n",
       "    </tr>\n",
       "    <tr>\n",
       "      <th>44</th>\n",
       "      <td>46</td>\n",
       "      <td>430143</td>\n",
       "      <td>919</td>\n",
       "    </tr>\n",
       "    <tr>\n",
       "      <th>45</th>\n",
       "      <td>47</td>\n",
       "      <td>13836</td>\n",
       "      <td>29</td>\n",
       "    </tr>\n",
       "    <tr>\n",
       "      <th>46</th>\n",
       "      <td>48</td>\n",
       "      <td>296954</td>\n",
       "      <td>911</td>\n",
       "    </tr>\n",
       "    <tr>\n",
       "      <th>47</th>\n",
       "      <td>49</td>\n",
       "      <td>42407</td>\n",
       "      <td>92</td>\n",
       "    </tr>\n",
       "    <tr>\n",
       "      <th>48</th>\n",
       "      <td>50</td>\n",
       "      <td>1632</td>\n",
       "      <td>1</td>\n",
       "    </tr>\n",
       "    <tr>\n",
       "      <th>49</th>\n",
       "      <td>51</td>\n",
       "      <td>4080</td>\n",
       "      <td>9</td>\n",
       "    </tr>\n",
       "  </tbody>\n",
       "</table>\n",
       "</div>"
      ],
      "text/plain": [
       "    mpio      pob  cuantos\n",
       "0      1     2639        8\n",
       "1      2     2439        2\n",
       "2      3     1292        2\n",
       "3      4    34353      175\n",
       "4      5    18194       49\n",
       "5      6   597207     1690\n",
       "6      7    16152       14\n",
       "7      8     3977       11\n",
       "8      9    95534      496\n",
       "9     10    38306      287\n",
       "10    11     7757       32\n",
       "11    12    42715      255\n",
       "12    13    10835       17\n",
       "13    14    34110       68\n",
       "14    15     1632        4\n",
       "15    16     2861        4\n",
       "16    17    41130       53\n",
       "17    18   247370     1713\n",
       "18    19   123156      180\n",
       "19    20     5479        6\n",
       "20    21   425148     1549\n",
       "21    22    14795       18\n",
       "22    23     1044        3\n",
       "23    24     6011        6\n",
       "24    25    67294      286\n",
       "25    26   682880     1772\n",
       "26    27     1764        2\n",
       "27    28     1511        7\n",
       "28    29     6921       13\n",
       "29    30     3571        7\n",
       "30    31   333481     1482\n",
       "31    32     5238       14\n",
       "32    33    79853      249\n",
       "33    34     5630       27\n",
       "34    35      955        3\n",
       "35    36     6996        4\n",
       "36    37     5326       35\n",
       "37    38    60829      215\n",
       "38    39  1109171     2854\n",
       "39    40      971        3\n",
       "40    41    87168      487\n",
       "41    42     4469       11\n",
       "42    44    35456       93\n",
       "43    45    54192      243\n",
       "44    46   430143      919\n",
       "45    47    13836       29\n",
       "46    48   296954      911\n",
       "47    49    42407       92\n",
       "48    50     1632        1\n",
       "49    51     4080        9"
      ]
     },
     "execution_count": 17,
     "metadata": {},
     "output_type": "execute_result"
    }
   ],
   "source": [
    "mod3"
   ]
  },
  {
   "cell_type": "code",
   "execution_count": 57,
   "metadata": {},
   "outputs": [],
   "source": [
    "datos = pd.read_csv(\"vf_datos.csv\")\n",
    "\n",
    "d = datos.loc[datos.victima == 1]\n",
    "d = d.loc[d.agresor==1]\n",
    "\n",
    "d = d.loc[d.edad_v != \"NE\"]\n",
    "d = d.loc[d.edad_a != \"NE\"]\n",
    "\n",
    "edadv = d.edad_v # edades de las victimas\n",
    "edad_v = []\n",
    "for dato in edadv:\n",
    "    s = str(dato).replace(\",\", \" \")\n",
    "    pedazos = s.split()   \n",
    "    while \"a\" in pedazos:\n",
    "        pos = pedazos.index(\"a\")\n",
    "        desde = int(pedazos[pos - 1])\n",
    "        hasta = int(pedazos[pos + 1])\n",
    "        prom = (desde + hasta) // 2\n",
    "        pedazos = pedazos[:(pos - 1)] + [str(prom)] + pedazos[(pos + 2):]\n",
    "        #print(pedazos)\n",
    "    edad_v += pedazos\n",
    "\n",
    "d.edad_v = edad_v\n",
    "\n",
    "edada = d.edad_a # edades de los agresores\n",
    "edad_a = []\n",
    "for dato in edada:\n",
    "    s = str(dato).replace(\",\", \" \")\n",
    "    pedazos = s.split()   \n",
    "    while \"a\" in pedazos:\n",
    "        pos = pedazos.index(\"a\")\n",
    "        desde = int(pedazos[pos - 1])\n",
    "        hasta = int(pedazos[pos + 1])\n",
    "        prom = (desde + hasta) // 2\n",
    "        pedazos = pedazos[:(pos - 1)] + [str(prom)] + pedazos[(pos + 2):]\n",
    "        #print(pedazos)\n",
    "    edad_a += pedazos\n",
    "\n",
    "d.edad_a = edad_a"
   ]
  },
  {
   "cell_type": "code",
   "execution_count": 60,
   "metadata": {},
   "outputs": [],
   "source": [
    "d.to_csv(\"vf_1-1.csv\")"
   ]
  },
  {
   "cell_type": "code",
   "execution_count": 61,
   "metadata": {},
   "outputs": [
    {
     "name": "stdout",
     "output_type": "stream",
     "text": [
      "               sum_sq      df           F        PR(>F)\n",
      "edad_v     325.265125     1.0  272.464671  3.189478e-60\n",
      "hora       216.359473     1.0  181.237730  7.182368e-41\n",
      "mes          0.415269     1.0    0.347858  5.553448e-01\n",
      "Residual  9614.770609  8054.0         NaN           NaN\n",
      "edad_v es significativo\n",
      "hora es significativo\n",
      "mes NO es significativo\n",
      "Residual NO es significativo\n"
     ]
    }
   ],
   "source": [
    "import statsmodels.api as sm\n",
    "from statsmodels.formula.api import ols\n",
    "import ssl\n",
    "\n",
    "if getattr(ssl, '_create_unverified_context', None):\n",
    "    ssl._create_default_https_context = ssl._create_unverified_context\n",
    "\n",
    "datos = pd.read_csv(\"vf_1-1.csv\") \n",
    "datos['cuantos'] = 1\n",
    "c = datos.groupby(['edad_v', 'mes', 'hora'], as_index=False).agg({\"cuantos\": \"sum\"})\n",
    "m = ols('cuantos ~ edad_v + hora + mes', data = c).fit() \n",
    "a = sm.stats.anova_lm(m, typ = 2)\n",
    "\n",
    "print(a)\n",
    "n = len(a)\n",
    "alpha = 0.05\n",
    "for i in range(n):\n",
    "    print(\"{:s} {:s}es significativo\".format(a.index[i], \"\" if a['PR(>F)'][i] < alpha else \"NO \"))"
   ]
  },
  {
   "cell_type": "code",
   "execution_count": 62,
   "metadata": {},
   "outputs": [],
   "source": [
    "from collections import Counter\n",
    "datos = pd.read_csv(\"vf_1-1.csv\") \n",
    "datos['cuantos'] = 1\n",
    "\n",
    "meses = datos.mes\n",
    "prev = list(filter(lambda dato: dato != 12, meses))\n",
    "x = Counter([d for d in prev])\n",
    "mes = pd.DataFrame.from_dict(x, orient='index', columns=['cuantos'])"
   ]
  },
  {
   "cell_type": "code",
   "execution_count": 63,
   "metadata": {},
   "outputs": [
    {
     "data": {
      "text/html": [
       "<div>\n",
       "<style scoped>\n",
       "    .dataframe tbody tr th:only-of-type {\n",
       "        vertical-align: middle;\n",
       "    }\n",
       "\n",
       "    .dataframe tbody tr th {\n",
       "        vertical-align: top;\n",
       "    }\n",
       "\n",
       "    .dataframe thead th {\n",
       "        text-align: right;\n",
       "    }\n",
       "</style>\n",
       "<table border=\"1\" class=\"dataframe\">\n",
       "  <thead>\n",
       "    <tr style=\"text-align: right;\">\n",
       "      <th></th>\n",
       "      <th>cuantos</th>\n",
       "    </tr>\n",
       "  </thead>\n",
       "  <tbody>\n",
       "    <tr>\n",
       "      <th>1</th>\n",
       "      <td>840</td>\n",
       "    </tr>\n",
       "    <tr>\n",
       "      <th>2</th>\n",
       "      <td>974</td>\n",
       "    </tr>\n",
       "    <tr>\n",
       "      <th>3</th>\n",
       "      <td>1179</td>\n",
       "    </tr>\n",
       "    <tr>\n",
       "      <th>4</th>\n",
       "      <td>1178</td>\n",
       "    </tr>\n",
       "    <tr>\n",
       "      <th>5</th>\n",
       "      <td>1358</td>\n",
       "    </tr>\n",
       "    <tr>\n",
       "      <th>6</th>\n",
       "      <td>1402</td>\n",
       "    </tr>\n",
       "    <tr>\n",
       "      <th>7</th>\n",
       "      <td>1551</td>\n",
       "    </tr>\n",
       "    <tr>\n",
       "      <th>8</th>\n",
       "      <td>1344</td>\n",
       "    </tr>\n",
       "    <tr>\n",
       "      <th>9</th>\n",
       "      <td>1340</td>\n",
       "    </tr>\n",
       "    <tr>\n",
       "      <th>10</th>\n",
       "      <td>1165</td>\n",
       "    </tr>\n",
       "    <tr>\n",
       "      <th>11</th>\n",
       "      <td>965</td>\n",
       "    </tr>\n",
       "  </tbody>\n",
       "</table>\n",
       "</div>"
      ],
      "text/plain": [
       "    cuantos\n",
       "1       840\n",
       "2       974\n",
       "3      1179\n",
       "4      1178\n",
       "5      1358\n",
       "6      1402\n",
       "7      1551\n",
       "8      1344\n",
       "9      1340\n",
       "10     1165\n",
       "11      965"
      ]
     },
     "execution_count": 63,
     "metadata": {},
     "output_type": "execute_result"
    }
   ],
   "source": [
    "mes"
   ]
  },
  {
   "cell_type": "code",
   "execution_count": 86,
   "metadata": {},
   "outputs": [
    {
     "name": "stdout",
     "output_type": "stream",
     "text": [
      "Real 894\n",
      "Pronóstico 1329\n"
     ]
    },
    {
     "data": {
      "image/png": "[encoded data removed]",
      "text/plain": [
       "<Figure size 432x288 with 1 Axes>"
      ]
     },
     "metadata": {
      "needs_background": "light"
     },
     "output_type": "display_data"
    }
   ],
   "source": [
    "from numpy import asarray\n",
    "from statsmodels.tsa.holtwinters import Holt\n",
    "import matplotlib.pyplot as plt\n",
    "\n",
    "x = Counter([d for d in meses])\n",
    "f = Holt(asarray(mes.cuantos)).fit(smoothing_level = 0.1)\n",
    "predict = f.forecast(1)\n",
    "plt.title('Incidentes por meses', fontsize = 20)\n",
    "plt.xlabel('Meses', fontsize = 15)\n",
    "plt.ylabel('Incidentes', fontsize = 15)\n",
    "plt.plot([12], predict, 'go') # prediccion\n",
    "y = [v for v in range(1,13)]\n",
    "plt.plot(y, x.values(), 'r-o') # enero-dic\n",
    "plt.savefig('pred_mes.eps')\n",
    "\n",
    "print('Real', x[12])\n",
    "print('Pronóstico', int(predict))"
   ]
  },
  {
   "cell_type": "code",
   "execution_count": 91,
   "metadata": {},
   "outputs": [
    {
     "data": {
      "text/plain": [
       "8     1344\n",
       "1      840\n",
       "9     1340\n",
       "2      974\n",
       "10    1165\n",
       "3     1179\n",
       "11     965\n",
       "4     1178\n",
       "12     894\n",
       "5     1358\n",
       "6     1402\n",
       "7     1551\n",
       "Name: mes, dtype: int64"
      ]
     },
     "execution_count": 91,
     "metadata": {},
     "output_type": "execute_result"
    }
   ],
   "source": [
    "datos.mes.value_counts(sort=False)\n",
    "#plt.plot(,datos.mes.value_counts())"
   ]
  },
  {
   "cell_type": "code",
   "execution_count": 70,
   "metadata": {},
   "outputs": [
    {
     "data": {
      "text/plain": [
       "dict_values([840, 974, 1179, 1178, 1358, 1402, 1551, 1344, 1340, 1165, 965, 894])"
      ]
     },
     "execution_count": 70,
     "metadata": {},
     "output_type": "execute_result"
    }
   ],
   "source": [
    "x.values()"
   ]
  },
  {
   "cell_type": "code",
   "execution_count": 74,
   "metadata": {},
   "outputs": [
    {
     "name": "stdout",
     "output_type": "stream",
     "text": [
      "[ 840  974 1179 1178 1358 1402 1551 1344 1340 1165  965]\n"
     ]
    }
   ],
   "source": [
    "print(asarray(mes.cuantos))"
   ]
  },
  {
   "cell_type": "code",
   "execution_count": 75,
   "metadata": {},
   "outputs": [],
   "source": [
    "datos.loc[:, 't'] = 1\n",
    "datos.fecha = pd.to_datetime(pd.Series(datos.fecha))"
   ]
  },
  {
   "cell_type": "code",
   "execution_count": 76,
   "metadata": {},
   "outputs": [],
   "source": [
    "dates = pd.DataFrame()\n",
    "dates['fecha'] = datos.fecha\n",
    "dates.index = dates['fecha']\n",
    "dates['valor'] = list(datos.t)\n",
    "dates = dates.loc[dates.fecha.dt.year == 2018]"
   ]
  },
  {
   "cell_type": "code",
   "execution_count": 77,
   "metadata": {},
   "outputs": [
    {
     "data": {
      "text/plain": [
       "[<matplotlib.lines.Line2D at 0x7f37f48e7cc0>]"
      ]
     },
     "execution_count": 77,
     "metadata": {},
     "output_type": "execute_result"
    },
    {
     "data": {
      "image/png": "[encoded data removed]",
      "text/plain": [
       "<Figure size 432x288 with 1 Axes>"
      ]
     },
     "metadata": {
      "needs_background": "light"
     },
     "output_type": "display_data"
    }
   ],
   "source": [
    "a = dates.groupby(lambda x: x.weekofyear, as_index=False).agg({\"valor\": \"sum\"})\n",
    "plt.title('Incidentes por semanas', fontsize = 20)\n",
    "plt.xlabel('Semana', fontsize = 15)\n",
    "plt.ylabel('Incidentes', fontsize = 15)\n",
    "plt.plot(a.valor, 'b-o')"
   ]
  },
  {
   "cell_type": "code",
   "execution_count": 84,
   "metadata": {},
   "outputs": [
    {
     "name": "stdout",
     "output_type": "stream",
     "text": [
      "    valor\n",
      "0     179\n",
      "1     190\n",
      "2     161\n",
      "3     180\n",
      "4     242\n",
      "5     234\n",
      "6     273\n",
      "7     298\n",
      "8     294\n",
      "9     276\n",
      "10    277\n",
      "11    300\n",
      "12    281\n",
      "13    297\n",
      "14    241\n",
      "15    251\n",
      "16    249\n",
      "17    325\n",
      "18    292\n",
      "19    312\n",
      "20    332\n",
      "21    351\n",
      "22    369\n",
      "23    340\n",
      "24    336\n",
      "25    284\n",
      "26    368\n",
      "27    299\n",
      "28    367\n",
      "29    326\n",
      "30    311\n",
      "31    321\n",
      "32    335\n",
      "33    297\n",
      "34    315\n",
      "35    293\n",
      "36    287\n",
      "37    299\n",
      "38    266\n",
      "39    300\n",
      "40    268\n",
      "41    163\n",
      "42    197\n",
      "43    249\n",
      "44    240\n",
      "45    137\n",
      "46    202\n",
      "47    206\n",
      "48    157\n",
      "49    210\n",
      "50    156\n",
      "51     99\n",
      "[179 190 161 180 242 234 273 298 294 276 277 300 281 297 241 251 249 325\n",
      " 292 312 332 351 369 340 336 284 368 299 367 326 311 321 335 297 315 293\n",
      " 287 299 266 300 268]\n"
     ]
    }
   ],
   "source": [
    "print(a)\n",
    "print(asarray(a.valor[0:41]))"
   ]
  },
  {
   "cell_type": "code",
   "execution_count": 85,
   "metadata": {},
   "outputs": [
    {
     "name": "stdout",
     "output_type": "stream",
     "text": [
      "Reales [197, 249, 240, 137, 202, 206, 157, 210, 156, 99]\n",
      "Pronóstico [319.66469358 317.80801772 315.95134186 314.09466599 312.23799013\n",
      " 310.38131427 308.5246384  306.66796254 304.81128667 302.95461081\n",
      " 301.09793495]\n"
     ]
    },
    {
     "data": {
      "image/png": "[encoded data removed]",
      "text/plain": [
       "<Figure size 432x288 with 1 Axes>"
      ]
     },
     "metadata": {
      "needs_background": "light"
     },
     "output_type": "display_data"
    }
   ],
   "source": [
    "f = Holt(asarray(a.valor[0:41])).fit(smoothing_level = 0.1) \n",
    "predi = f.forecast(11)\n",
    "plt.title('Incidentes por semanas', fontsize = 20)\n",
    "plt.xlabel('Semana', fontsize = 15)\n",
    "plt.ylabel('Incidentes', fontsize = 15)\n",
    "w = [a for a in range(42,53)]\n",
    "plt.plot(w, predi, 'g-o', label = 'pronóstico') # prediccion\n",
    "plt.plot(w, a.valor[41:52], 'r-o', label = 'real') # enero-dic\n",
    "plt.legend(loc='best')\n",
    "\n",
    "print('Reales', list(a.valor[42:52]))\n",
    "print('Pronóstico', predi)"
   ]
  },
  {
   "cell_type": "code",
   "execution_count": 82,
   "metadata": {},
   "outputs": [
    {
     "data": {
      "text/plain": [
       "[197, 249, 240, 137, 202, 206, 157, 210, 156, 99]"
      ]
     },
     "execution_count": 82,
     "metadata": {},
     "output_type": "execute_result"
    }
   ],
   "source": [
    "list(a.valor[42:52])"
   ]
  },
  {
   "cell_type": "code",
   "execution_count": null,
   "metadata": {},
   "outputs": [],
   "source": []
  }
 ],
 "metadata": {
  "kernelspec": {
   "display_name": "Python 3",
   "language": "python",
   "name": "python3"
  },
  "language_info": {
   "codemirror_mode": {
    "name": "ipython",
    "version": 3
   },
   "file_extension": ".py",
   "mimetype": "text/x-python",
   "name": "python",
   "nbconvert_exporter": "python",
   "pygments_lexer": "ipython3",
   "version": "3.5.2"
  }
 },
 "nbformat": 4,
 "nbformat_minor": 2
}
