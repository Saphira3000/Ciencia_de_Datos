{
 "cells": [
  {
   "cell_type": "markdown",
   "metadata": {},
   "source": [
    "# Práctica 6: Modelos lineales con scipy.stats\n",
    "## Gabriela Sánchez Y.\n",
    "\n",
    "El objetivo de la práctica es emplear modelos lineales para representar una variable de interés como una función de uno o más factores conocidos.\n",
    "\n",
    "Anteriormente se realizaron pruebas de normalidad a algunos datos. Se encontró que los datos en meses parecen seguir una distribución normal. Ahora se emplea un modelo lineal para determinar cómo afecta.\n",
    "\n",
    "Para comenzar a trabajar, se cargan los datos."
   ]
  },
  {
   "cell_type": "code",
   "execution_count": 79,
   "metadata": {},
   "outputs": [],
   "source": [
    "import pandas as pd\n",
    "datos = pd.read_csv(\"/home/saphira/Desktop/datos/vf_p5.csv\")"
   ]
  },
  {
   "cell_type": "code",
   "execution_count": 80,
   "metadata": {},
   "outputs": [
    {
     "name": "stdout",
     "output_type": "stream",
     "text": [
      "y = f(x) = -69.6084 x + 1819.9545\n",
      "error 4.713696004307858\n",
      "valor p 4.062837034855093e-08\n",
      "pendiente significativo\n",
      "R^2 0.9561542114108509\n"
     ]
    },
    {
     "data": {
      "image/png": "[encoded data removed]",
      "text/plain": [
       "<Figure size 432x288 with 1 Axes>"
      ]
     },
     "metadata": {
      "needs_background": "light"
     },
     "output_type": "display_data"
    }
   ],
   "source": [
    "import matplotlib.pyplot as plt\n",
    "from scipy import stats\n",
    "\n",
    "# intento modelar los incidentes en funcion de los meses \n",
    "y = datos.mes.value_counts() # lo que se modela\n",
    "x = datos.mes.unique() # en funcion de que\n",
    "\n",
    "a, b, r, p, e = stats.linregress(x, y)\n",
    "print(\"y = f(x) = {:.4f} x + {:.4f}\".format(a, b))\n",
    "print(\"error\", e)\n",
    "print(\"valor p\", p)\n",
    "print(\"pendiente {:s}significativo\".format(\"no \" if p >= 0.05 else \"\"))\n",
    "print(\"R^2\", r**2)\n",
    "\n",
    "plt.plot(x, (a * x + b), label = 'y = {:.1f}x + {:.0f}'.format(a, b), color = 'red', linewidth = 3)\n",
    "plt.scatter(x, y)\n",
    "plt.legend(loc='upper left')\n",
    "plt.xlabel(\"Mes\")\n",
    "plt.ylabel(\"Incidentes\")\n",
    "plt.show()"
   ]
  },
  {
   "cell_type": "markdown",
   "metadata": {},
   "source": [
    "El p-valor es menor que 0.05 lo que sugiere que los datos están relacionados. El coeficiente 1820 indica que para cada mes se espera que la cantidad de incidentes aumente en una media de 1820. "
   ]
  },
  {
   "cell_type": "code",
   "execution_count": 81,
   "metadata": {},
   "outputs": [
    {
     "name": "stdout",
     "output_type": "stream",
     "text": [
      "y = f(x) = -1231.5000 x + 6701.5000\n",
      "error 388.84540629921287\n",
      "valor p 0.19470534841790751\n",
      "pendiente no significativo\n",
      "R^2 0.9093408174755501\n"
     ]
    }
   ],
   "source": [
    "# se intenta modelar los incidentes en funcion de la hora\n",
    "\n",
    "y = datos.hora.value_counts() # lo que se modela\n",
    "#x = datos.hora.unique() # en funcion de que\n",
    "x = [0,1,2]\n",
    "#x = x.replace(\"M\", 0) # ocupan ser números / manana\n",
    "#x = x.replace(\"T\", 1) # tarde\n",
    "#x = x.replace(\"N\", 2) # noche\n",
    "\n",
    "a, b, r, p, e = stats.linregress(x, y)\n",
    "print(\"y = f(x) = {:.4f} x + {:.4f}\".format(a, b))\n",
    "print(\"error\", e)\n",
    "print(\"valor p\", p)\n",
    "print(\"pendiente {:s}significativo\".format(\"no \" if p >= 0.05 else \"\"))\n",
    "print(\"R^2\", r**2)"
   ]
  },
  {
   "cell_type": "markdown",
   "metadata": {},
   "source": [
    "El p-valor es mayor que el nivel de significancia 0.05 lo que indica que estadísticamente no hay relación significativa entre el horario y el número de incidentes.\n",
    "\n",
    "Ahora, se analiza la relación del estado civil de las víctimas con los incidentes. Primero se revisa normalidad."
   ]
  },
  {
   "cell_type": "code",
   "execution_count": 82,
   "metadata": {},
   "outputs": [
    {
     "name": "stdout",
     "output_type": "stream",
     "text": [
      "Statistics=0.858, p=0.184\n",
      "Normal\n"
     ]
    }
   ],
   "source": [
    "edo_civil = datos.edo_civil\n",
    "civil = []\n",
    "for dato in edo_civil:\n",
    "    s = str(dato).replace(\",\", \" \")\n",
    "    s = str(s).replace(\"UNIÓN LIBRE\", \"UL\")\n",
    "    pedazos = s.split()   \n",
    "    civil += pedazos\n",
    "\n",
    "civil = list(filter(lambda dato: dato != \"NE\", civil))\n",
    "civil = list(filter(lambda dato: dato != \"nan\", civil))\n",
    "\n",
    "from collections import Counter\n",
    "conteos = Counter([d for d in civil])\n",
    "\n",
    "from scipy.stats import shapiro\n",
    "stat, p = shapiro(list(conteos.values()))\n",
    "print('Statistics=%.3f, p=%.3f' % (stat, p))\n",
    "# interpret\n",
    "alpha = 0.05\n",
    "if p > alpha:\n",
    "    print('Normal')\n",
    "else:\n",
    "    print('NO normal')"
   ]
  },
  {
   "cell_type": "code",
   "execution_count": 83,
   "metadata": {},
   "outputs": [
    {
     "name": "stdout",
     "output_type": "stream",
     "text": [
      "y = f(x) = 1227.7143 x + -107.2857\n",
      "error 550.7029867286329\n",
      "valor p 0.0896747944201482\n",
      "pendiente no significativo\n",
      "R^2 0.55407103435543\n"
     ]
    },
    {
     "ename": "TypeError",
     "evalue": "'numpy.float64' object cannot be interpreted as an integer",
     "output_type": "error",
     "traceback": [
      "\u001b[0;31m---------------------------------------------------------------------------\u001b[0m",
      "\u001b[0;31mTypeError\u001b[0m                                 Traceback (most recent call last)",
      "\u001b[0;32m<ipython-input-83-70812f853a0a>\u001b[0m in \u001b[0;36m<module>\u001b[0;34m\u001b[0m\n\u001b[1;32m     10\u001b[0m \u001b[0mprint\u001b[0m\u001b[0;34m(\u001b[0m\u001b[0;34m\"R^2\"\u001b[0m\u001b[0;34m,\u001b[0m \u001b[0mr\u001b[0m\u001b[0;34m**\u001b[0m\u001b[0;36m2\u001b[0m\u001b[0;34m)\u001b[0m\u001b[0;34m\u001b[0m\u001b[0m\n\u001b[1;32m     11\u001b[0m \u001b[0;34m\u001b[0m\u001b[0m\n\u001b[0;32m---> 12\u001b[0;31m \u001b[0mplt\u001b[0m\u001b[0;34m.\u001b[0m\u001b[0mplot\u001b[0m\u001b[0;34m(\u001b[0m\u001b[0mx\u001b[0m\u001b[0;34m,\u001b[0m \u001b[0;34m(\u001b[0m\u001b[0ma\u001b[0m \u001b[0;34m*\u001b[0m \u001b[0mx\u001b[0m \u001b[0;34m+\u001b[0m \u001b[0mb\u001b[0m\u001b[0;34m)\u001b[0m\u001b[0;34m,\u001b[0m \u001b[0mlabel\u001b[0m \u001b[0;34m=\u001b[0m \u001b[0;34m'y = {:.1f}x + {:.0f}'\u001b[0m\u001b[0;34m.\u001b[0m\u001b[0mformat\u001b[0m\u001b[0;34m(\u001b[0m\u001b[0ma\u001b[0m\u001b[0;34m,\u001b[0m \u001b[0mb\u001b[0m\u001b[0;34m)\u001b[0m\u001b[0;34m,\u001b[0m \u001b[0mcolor\u001b[0m \u001b[0;34m=\u001b[0m \u001b[0;34m'red'\u001b[0m\u001b[0;34m,\u001b[0m \u001b[0mlinewidth\u001b[0m \u001b[0;34m=\u001b[0m \u001b[0;36m3\u001b[0m\u001b[0;34m)\u001b[0m\u001b[0;34m\u001b[0m\u001b[0m\n\u001b[0m\u001b[1;32m     13\u001b[0m \u001b[0mplt\u001b[0m\u001b[0;34m.\u001b[0m\u001b[0mscatter\u001b[0m\u001b[0;34m(\u001b[0m\u001b[0mx\u001b[0m\u001b[0;34m,\u001b[0m \u001b[0my\u001b[0m\u001b[0;34m)\u001b[0m\u001b[0;34m\u001b[0m\u001b[0m\n\u001b[1;32m     14\u001b[0m \u001b[0mplt\u001b[0m\u001b[0;34m.\u001b[0m\u001b[0mlegend\u001b[0m\u001b[0;34m(\u001b[0m\u001b[0mloc\u001b[0m\u001b[0;34m=\u001b[0m\u001b[0;34m'upper left'\u001b[0m\u001b[0;34m)\u001b[0m\u001b[0;34m\u001b[0m\u001b[0m\n",
      "\u001b[0;31mTypeError\u001b[0m: 'numpy.float64' object cannot be interpreted as an integer"
     ]
    }
   ],
   "source": [
    "y = list(conteos.values()) # lo que se modela\n",
    "x = [0,1,2,3,4,5] # en funcion de que\n",
    "# separado/soltero/divorciado/viudo/ul/casado\n",
    "\n",
    "a, b, r, p, e = stats.linregress(x, y)\n",
    "print(\"y = f(x) = {:.4f} x + {:.4f}\".format(a, b))\n",
    "print(\"error\", e)\n",
    "print(\"valor p\", p)\n",
    "print(\"pendiente {:s}significativo\".format(\"no \" if p >= 0.05 else \"\"))\n",
    "print(\"R^2\", r**2)\n",
    "\n",
    "plt.plot(x, (a * x + b), label = 'y = {:.1f}x + {:.0f}'.format(a, b), color = 'red', linewidth = 3)\n",
    "plt.scatter(x, y)\n",
    "plt.legend(loc='upper left')\n",
    "plt.xlabel(\"Edo Civil\")\n",
    "plt.ylabel(\"Incidentes\")\n",
    "plt.show()"
   ]
  },
  {
   "cell_type": "markdown",
   "metadata": {},
   "source": [
    "Los datos parecen seguir una distribución normal. Estadísticamente la pendiente no es significativa con un p-valor de 0.0896, lo que indica que no hay relación en el estado civil de las víctimas y los indicentes reportados de violencia."
   ]
  }
 ],
 "metadata": {
  "kernelspec": {
   "display_name": "Python 3",
   "language": "python",
   "name": "python3"
  },
  "language_info": {
   "codemirror_mode": {
    "name": "ipython",
    "version": 3
   },
   "file_extension": ".py",
   "mimetype": "text/x-python",
   "name": "python",
   "nbconvert_exporter": "python",
   "pygments_lexer": "ipython3",
   "version": "3.5.2"
  }
 },
 "nbformat": 4,
 "nbformat_minor": 2
}
