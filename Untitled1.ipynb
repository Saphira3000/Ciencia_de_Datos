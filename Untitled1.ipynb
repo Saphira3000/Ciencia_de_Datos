{
 "cells": [
  {
   "cell_type": "code",
   "execution_count": 2,
   "metadata": {},
   "outputs": [
    {
     "name": "stderr",
     "output_type": "stream",
     "text": [
      "/usr/local/lib/python3.5/dist-packages/IPython/core/interactiveshell.py:3020: DtypeWarning: Columns (19,28) have mixed types. Specify dtype option on import or set low_memory=False.\n",
      "  interactivity=interactivity, compiler=compiler, result=result)\n"
     ]
    }
   ],
   "source": [
    "import pandas as pd\n",
    "datos = pd.read_csv(\"/home/saphira/Desktop/datos/vf_p3.csv\")"
   ]
  },
  {
   "cell_type": "code",
   "execution_count": 3,
   "metadata": {},
   "outputs": [],
   "source": [
    "prueba = datos.edad_v\n",
    "#print(prueba[:10])\n",
    "limpios = []\n",
    "for dato in prueba:\n",
    "    s = str(dato).replace(\",\", \" \")\n",
    "    pedazos = s.split()   \n",
    "    while \"a\" in pedazos:\n",
    "        pos = pedazos.index(\"a\")\n",
    "        desde = int(pedazos[pos - 1])\n",
    "        hasta = int(pedazos[pos + 1])\n",
    "        prom = (desde + hasta) // 2\n",
    "        limpios.append(prom)\n",
    "        #print(pedazos, prom)\n",
    "        pedazos = pedazos[:(pos - 1)] + pedazos[(pos + 2):]\n",
    "    limpios += pedazos\n",
    "limpios = list(filter(lambda dato: dato != \"NE\", limpios))   \n",
    "from collections import Counter\n",
    "#conteos = Counter([int(d) for d in limpios])\n",
    "#for edad in conteos:\n",
    " #   print(edad, conteos[edad])\n",
    "#len(limpios)"
   ]
  },
  {
   "cell_type": "code",
   "execution_count": 4,
   "metadata": {},
   "outputs": [],
   "source": [
    "sexo = datos.sexo_v\n",
    "sexo_v = []\n",
    "for a in sexo:\n",
    "    b = str(a).replace(\",\", \" \")\n",
    "    b = b.split()\n",
    "    #print(b)\n",
    "    sexo_v += b\n",
    "    \n",
    "#sexo_v"
   ]
  },
  {
   "cell_type": "code",
   "execution_count": 5,
   "metadata": {},
   "outputs": [
    {
     "name": "stdout",
     "output_type": "stream",
     "text": [
      "sexo 16410\n"
     ]
    },
    {
     "data": {
      "text/plain": [
       "17809"
      ]
     },
     "execution_count": 5,
     "metadata": {},
     "output_type": "execute_result"
    }
   ],
   "source": [
    "sexo = datos.sexo_v.unique()\n",
    "print(\"sexo\", len(datos.sexo_v))\n",
    "len(datos.edad_v)\n",
    "#sexo = str(sexo)\n",
    "#sexo = sexo.split()\n",
    "len(sexo_v)"
   ]
  },
  {
   "cell_type": "code",
   "execution_count": 6,
   "metadata": {},
   "outputs": [],
   "source": [
    "edada = datos.edad_a\n",
    "#print(prueba[:10])\n",
    "edad_a = []\n",
    "for dato in edada:\n",
    "    s = str(dato).replace(\",\", \" \")\n",
    "    pedazos = s.split()   \n",
    "    while \"a\" in pedazos:\n",
    "        pos = pedazos.index(\"a\")\n",
    "        desde = int(pedazos[pos - 1])\n",
    "        hasta = int(pedazos[pos + 1])\n",
    "        prom = (desde + hasta) // 2\n",
    "        edad_a.append(prom)\n",
    "        #print(pedazos, prom)\n",
    "        pedazos = pedazos[:(pos - 1)] + pedazos[(pos + 2):]\n",
    "        #print(pedazos)\n",
    "    edad_a += pedazos\n",
    "\n",
    "#print(edad_a)\n",
    "edad_a = list(filter(lambda dato: dato != \"NE\", edad_a))\n",
    "edad_a = list(filter(lambda dato: dato != \"nan\", edad_a))\n",
    "#print(int(edad_a))\n",
    "edad_a = [float(v) for v in edad_a]\n",
    "edad_a = [int(v) for v in edad_a]\n",
    "#from collections import Counter\n",
    "#conteos = Counter([int(d) for d in edad_a])\n",
    "#for edad in conteos:\n",
    "#    print(edad, conteos[edad])\n",
    "#edad_a"
   ]
  },
  {
   "cell_type": "code",
   "execution_count": 7,
   "metadata": {},
   "outputs": [
    {
     "data": {
      "text/plain": [
       "16184"
      ]
     },
     "execution_count": 7,
     "metadata": {},
     "output_type": "execute_result"
    }
   ],
   "source": [
    "len(edad_a)"
   ]
  },
  {
   "cell_type": "code",
   "execution_count": 8,
   "metadata": {},
   "outputs": [
    {
     "name": "stdout",
     "output_type": "stream",
     "text": [
      "M 14314\n",
      "F 2557\n"
     ]
    }
   ],
   "source": [
    "sexos = datos.sexo_a\n",
    "sexo_a = []\n",
    "for a in sexos:\n",
    "    b = str(a).replace(\",\", \" \")\n",
    "    b = b.split()\n",
    "    #print(b)\n",
    "    sexo_a += b\n",
    "sexo_a = list(filter(lambda dato: dato != \"nan\", sexo_a))\n",
    "\n",
    "conteos = Counter([d for d in sexo_a])\n",
    "for i in conteos:\n",
    "    print(i, conteos[i])\n",
    "#edad_a"
   ]
  },
  {
   "cell_type": "code",
   "execution_count": 9,
   "metadata": {},
   "outputs": [
    {
     "data": {
      "text/plain": [
       "array(['M', 'F', 'M M', 'M F M', 'M F', 'M M F F F M', nan, 'F M', 'F F',\n",
       "       'M M F', 'M M M M M', 'M F F', 'F F M M F M', 'F M F', 'F F M',\n",
       "       'M F M M', 'M M M', 'F M M', 'F F F', 'F F F F F', 'M M F F',\n",
       "       'M F M F F M F', 'F F F F', 'M M M M', 'F M M F', 'F F F M',\n",
       "       'F M F F', 'F M F M M', 'M, F', 'F, M', 'F, F', 'M, M', 'M, M, F'],\n",
       "      dtype=object)"
      ]
     },
     "execution_count": 9,
     "metadata": {},
     "output_type": "execute_result"
    }
   ],
   "source": [
    "datos.sexo_a.unique()"
   ]
  },
  {
   "cell_type": "code",
   "execution_count": 10,
   "metadata": {},
   "outputs": [],
   "source": [
    "di_edad = {}\n",
    "from collections import Counter\n",
    "conteos = Counter([int(d) for d in edad_a])\n",
    "for edad in conteos:\n",
    "    #print(conteos[edad])\n",
    "    di_edad[edad] = conteos[edad]\n",
    "#edad_a"
   ]
  },
  {
   "cell_type": "code",
   "execution_count": 12,
   "metadata": {},
   "outputs": [],
   "source": [
    "#di_edad\n",
    "df = pd.DataFrame(di_edad, index = [0])"
   ]
  },
  {
   "cell_type": "code",
   "execution_count": 13,
   "metadata": {},
   "outputs": [
    {
     "data": {
      "text/html": [
       "<div>\n",
       "<table border=\"1\" class=\"dataframe\">\n",
       "  <thead>\n",
       "    <tr style=\"text-align: right;\">\n",
       "      <th></th>\n",
       "      <th>18</th>\n",
       "      <th>19</th>\n",
       "      <th>20</th>\n",
       "      <th>21</th>\n",
       "      <th>22</th>\n",
       "      <th>23</th>\n",
       "      <th>24</th>\n",
       "      <th>25</th>\n",
       "      <th>26</th>\n",
       "      <th>27</th>\n",
       "      <th>...</th>\n",
       "      <th>77</th>\n",
       "      <th>78</th>\n",
       "      <th>79</th>\n",
       "      <th>80</th>\n",
       "      <th>81</th>\n",
       "      <th>82</th>\n",
       "      <th>83</th>\n",
       "      <th>84</th>\n",
       "      <th>86</th>\n",
       "      <th>87</th>\n",
       "    </tr>\n",
       "  </thead>\n",
       "  <tbody>\n",
       "    <tr>\n",
       "      <th>0</th>\n",
       "      <td>199</td>\n",
       "      <td>345</td>\n",
       "      <td>176</td>\n",
       "      <td>257</td>\n",
       "      <td>269</td>\n",
       "      <td>837</td>\n",
       "      <td>371</td>\n",
       "      <td>383</td>\n",
       "      <td>463</td>\n",
       "      <td>403</td>\n",
       "      <td>...</td>\n",
       "      <td>7</td>\n",
       "      <td>10</td>\n",
       "      <td>3</td>\n",
       "      <td>1</td>\n",
       "      <td>5</td>\n",
       "      <td>5</td>\n",
       "      <td>2</td>\n",
       "      <td>1</td>\n",
       "      <td>1</td>\n",
       "      <td>1</td>\n",
       "    </tr>\n",
       "  </tbody>\n",
       "</table>\n",
       "<p>1 rows × 69 columns</p>\n",
       "</div>"
      ],
      "text/plain": [
       "    18   19   20   21   22   23   24   25   26   27 ...  77  78  79  80  81  \\\n",
       "0  199  345  176  257  269  837  371  383  463  403 ...   7  10   3   1   5   \n",
       "\n",
       "   82  83  84  86  87  \n",
       "0   5   2   1   1   1  \n",
       "\n",
       "[1 rows x 69 columns]"
      ]
     },
     "execution_count": 13,
     "metadata": {},
     "output_type": "execute_result"
    }
   ],
   "source": [
    "df"
   ]
  },
  {
   "cell_type": "code",
   "execution_count": null,
   "metadata": {},
   "outputs": [],
   "source": []
  }
 ],
 "metadata": {
  "kernelspec": {
   "display_name": "Python 3",
   "language": "python",
   "name": "python3"
  },
  "language_info": {
   "codemirror_mode": {
    "name": "ipython",
    "version": 3
   },
   "file_extension": ".py",
   "mimetype": "text/x-python",
   "name": "python",
   "nbconvert_exporter": "python",
   "pygments_lexer": "ipython3",
   "version": "3.5.2"
  }
 },
 "nbformat": 4,
 "nbformat_minor": 2
}
