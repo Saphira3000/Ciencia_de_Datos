{
 "cells": [
  {
   "cell_type": "markdown",
   "metadata": {},
   "source": [
    "# Práctica 11: Agrupamiento de datos\n",
    "## Gabriela Sánchez Y.\n",
    "\n",
    "El objetivo del agrupamiento es descubrir sí o no los datos forman grupos con elementos similares de tal forma que todos los grupos difieren entre sí en algunos aspectos. Para poder llevar a cabo un agrupamiento, primero se necesita establecer una o más medidas de similitud entre los datos o alternativamente una o más medidas de distancia. \n",
    "\n",
    "El objetivo de esta práctica es seleccionar por lo menos dos algoritmos distintos para llevar a cabo agrupamiento con por lo menos dos atributos del caso de estudio, reportando los hallazgos con gráficas y con medidas de calidad.\n"
   ]
  },
  {
   "cell_type": "code",
   "execution_count": null,
   "metadata": {},
   "outputs": [],
   "source": [
    "\n",
    "\n",
    "\n",
    "import ssl\n",
    "import pandas as pd\n",
    "from sklearn import metrics\n",
    "from numpy.random import seed\n",
    "import matplotlib.pyplot as plt\n",
    "from sklearn.cluster import KMeans\n",
    "from numpy import isnan, nan, take, where\n",
    "\n",
    "\n",
    "seed(42)\n",
    "if getattr(ssl, '_create_unverified_context', None):\n",
    "    ssl._create_default_https_context = ssl._create_unverified_context\n",
    "d = pd.read_csv(\"https://elisa.dyndns-web.com/teaching/comp/datasci/modelar.csv\")\n",
    "keep = ['CF1op', 'hrsNum'] # dos atributos numéricos para comenzar\n",
    "d = d.loc[:, keep]\n",
    "d = d.dropna() # quitar los NAs\n",
    "x = d.values\n",
    "k = 3 # pedimos tres grupos\n",
    "m = KMeans(init = 'random', n_clusters = k, n_init = 10)\n",
    "m.fit(x)\n",
    "centroides = m.cluster_centers_\n",
    "grupos = m.predict(x)\n",
    "plt.figure(1)\n",
    "plt.scatter(centroides[:, 0], centroides[:, 1], marker='x', s=150, linewidths=3, color='black', zorder=10)\n",
    "colores = ['r', 'g', 'b']\n",
    "for g in range(k):\n",
    "    incl = where(grupos == g)[0]\n",
    "    print(len(incl), \"integrantes en grupo\", g)\n",
    "    grupo = take(x, incl, 0)\n",
    "    plt.scatter(grupo[:, 0], grupo[:, 1], marker='o', s=20, linewidths=2, color=colores[g], alpha = 0.3, zorder=5)\n",
    "plt.show()\n",
    "print(metrics.silhouette_score(x, grupos, metric='euclidean'))\n",
    "\n"
   ]
  }
 ],
 "metadata": {
  "kernelspec": {
   "display_name": "Python 3",
   "language": "python",
   "name": "python3"
  },
  "language_info": {
   "codemirror_mode": {
    "name": "ipython",
    "version": 3
   },
   "file_extension": ".py",
   "mimetype": "text/x-python",
   "name": "python",
   "nbconvert_exporter": "python",
   "pygments_lexer": "ipython3",
   "version": "3.5.2"
  }
 },
 "nbformat": 4,
 "nbformat_minor": 2
}
